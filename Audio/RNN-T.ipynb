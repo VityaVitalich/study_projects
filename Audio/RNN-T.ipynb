{
 "cells": [
  {
   "attachments": {},
   "cell_type": "markdown",
   "metadata": {
    "id": "1LxiMiEui-kl"
   },
   "source": [
    "# RNN-T"
   ]
  },
  {
   "attachments": {},
   "cell_type": "markdown",
   "metadata": {
    "id": "AboXphY7i-kp"
   },
   "source": [
    "# Setup - Install package, download files, etc..."
   ]
  },
  {
   "cell_type": "code",
   "execution_count": 1,
   "metadata": {
    "id": "6tO44Q_hi-kp",
    "scrolled": true
   },
   "outputs": [
    {
     "name": "stdout",
     "output_type": "stream",
     "text": [
      "--2023-04-16 15:38:37--  https://raw.githubusercontent.com/severilov/DL-Audio-AIMasters-Course/main/seminars/seminar04/files/utils.py\n",
      "Resolving raw.githubusercontent.com (raw.githubusercontent.com)... 185.199.108.133, 185.199.109.133, 185.199.111.133, ...\n",
      "Connecting to raw.githubusercontent.com (raw.githubusercontent.com)|185.199.108.133|:443... connected.\n",
      "HTTP request sent, awaiting response... 200 OK\n",
      "Length: 6770 (6.6K) [text/plain]\n",
      "Saving to: ‘files/utils.py’\n",
      "\n",
      "files/utils.py      100%[===================>]   6.61K  --.-KB/s    in 0s      \n",
      "\n",
      "2023-04-16 15:38:37 (21.6 MB/s) - ‘files/utils.py’ saved [6770/6770]\n",
      "\n"
     ]
    }
   ],
   "source": [
    "!mkdir files\n",
    "!wget -O files/utils.py https://raw.githubusercontent.com/severilov/DL-Audio-AIMasters-Course/main/seminars/seminar04/files/utils.py"
   ]
  },
  {
   "cell_type": "code",
   "execution_count": 105,
   "metadata": {
    "id": "gmrbnsCEi-kq",
    "scrolled": true
   },
   "outputs": [
    {
     "name": "stdout",
     "output_type": "stream",
     "text": [
      "--2023-04-17 18:06:35--  https://drive.google.com/uc?export=download&confirm=t&id=14vgOVBayQGYv9B1P3hYo3JM56rS6ap3U\n",
      "Resolving drive.google.com (drive.google.com)... 108.177.14.194, 2a00:1450:4010:c0f::c2\n",
      "Connecting to drive.google.com (drive.google.com)|108.177.14.194|:443... connected.\n",
      "HTTP request sent, awaiting response... 303 See Other\n",
      "Location: https://doc-0c-9s-docs.googleusercontent.com/docs/securesc/ha0ro937gcuc7l7deffksulhg5h7mbp1/qd4viuhbs3u5bovl433er0pjkp3j811p/1681743975000/02999746975866030610/*/14vgOVBayQGYv9B1P3hYo3JM56rS6ap3U?e=download&uuid=92542cd9-80ba-47f9-b70a-a0b4eb092012 [following]\n",
      "Warning: wildcards not supported in HTTP.\n",
      "--2023-04-17 18:06:36--  https://doc-0c-9s-docs.googleusercontent.com/docs/securesc/ha0ro937gcuc7l7deffksulhg5h7mbp1/qd4viuhbs3u5bovl433er0pjkp3j811p/1681743975000/02999746975866030610/*/14vgOVBayQGYv9B1P3hYo3JM56rS6ap3U?e=download&uuid=92542cd9-80ba-47f9-b70a-a0b4eb092012\n",
      "Resolving doc-0c-9s-docs.googleusercontent.com (doc-0c-9s-docs.googleusercontent.com)... 108.177.14.132, 2a00:1450:4010:c08::84\n",
      "Connecting to doc-0c-9s-docs.googleusercontent.com (doc-0c-9s-docs.googleusercontent.com)|108.177.14.132|:443... connected.\n",
      "HTTP request sent, awaiting response... 200 OK\n",
      "Length: 44610317 (43M) [application/x-zip]\n",
      "Saving to: ‘files/model_scripted_epoch_5.pt’\n",
      "\n",
      "files/model_scripte 100%[===================>]  42.54M  40.6MB/s    in 1.0s    \n",
      "\n",
      "2023-04-17 18:06:37 (40.6 MB/s) - ‘files/model_scripted_epoch_5.pt’ saved [44610317/44610317]\n",
      "\n"
     ]
    }
   ],
   "source": [
    "!wget --load-cookies /tmp/cookies.txt \"https://drive.google.com/uc?export=download&confirm=$(wget --quiet --save-cookies /tmp/cookies.txt --keep-session-cookies --no-check-certificate 'https://drive.google.com/uc?export=download&id=14vgOVBayQGYv9B1P3hYo3JM56rS6ap3U' -O- | sed -rn 's/.*confirm=([0-9A-Za-z_]+).*/\\1\\n/p')&id=14vgOVBayQGYv9B1P3hYo3JM56rS6ap3U\" -O files/model_scripted_epoch_5.pt && rm -rf /tmp/cookies.txt"
   ]
  },
  {
   "cell_type": "code",
   "execution_count": 1,
   "metadata": {
    "id": "hcfHw_yWi-kr"
   },
   "outputs": [],
   "source": [
    "%%capture\n",
    "!pip install wandb -qqq"
   ]
  },
  {
   "cell_type": "code",
   "execution_count": 1,
   "metadata": {
    "id": "4u_exS1ii-ks"
   },
   "outputs": [],
   "source": [
    "import os\n",
    "import string\n",
    "from typing import Tuple, List, Dict, Optional\n",
    "\n",
    "import numpy as np\n",
    "import pandas as pd\n",
    "import matplotlib.pyplot as plt\n",
    "import torch\n",
    "import torch.nn as nn\n",
    "import torch.nn.functional as F\n",
    "import torch.utils.data as data\n",
    "import wandb\n",
    "import ipywidgets as widgets\n",
    "import itertools\n",
    "from torch import optim\n",
    "from tqdm import tqdm_notebook, tqdm\n",
    "from IPython.display import display, clear_output\n",
    "\n",
    "import torchaudio\n",
    "from torchaudio.transforms import RNNTLoss"
   ]
  },
  {
   "cell_type": "code",
   "execution_count": 2,
   "metadata": {
    "id": "VceAkujPi-ks"
   },
   "outputs": [],
   "source": [
    "import files.utils as utils"
   ]
  },
  {
   "cell_type": "code",
   "execution_count": 3,
   "metadata": {
    "id": "n14D_Nzei-ks"
   },
   "outputs": [],
   "source": [
    "snapshot_dir = \"/mnt/notebooks/rnn_t_snapshots\""
   ]
  },
  {
   "cell_type": "code",
   "execution_count": 4,
   "metadata": {
    "id": "txn-Rm7Si-kt",
    "outputId": "0bcb10f2-7160-4b54-da4d-ad1f70022502"
   },
   "outputs": [
    {
     "name": "stdout",
     "output_type": "stream",
     "text": [
      "mkdir: cannot create directory ‘/mnt/notebooks/rnn_t_snapshots’: No such file or directory\n"
     ]
    }
   ],
   "source": [
    "!mkdir /mnt/notebooks/rnn_t_snapshots"
   ]
  },
  {
   "attachments": {},
   "cell_type": "markdown",
   "metadata": {
    "id": "o8kaGJYEi-kn"
   },
   "source": [
    "# RNN-T Forward-Backward Algorithm"
   ]
  },
  {
   "cell_type": "code",
   "execution_count": 4,
   "metadata": {
    "id": "EcM082LQi-kz"
   },
   "outputs": [],
   "source": [
    "def forward(\n",
    "    log_probs: torch.FloatTensor, targets: torch.LongTensor, blank: int = -1\n",
    ") -> Tuple[torch.FloatTensor, torch.FloatTensor]:\n",
    "    \"\"\"\n",
    "    :param log_probs: model outputs after applying log_softmax\n",
    "    :param targets: the target sequence of tokens, represented as integer indexes\n",
    "    :param blank: the index of blank symbol\n",
    "    :return: Tuple[ln alpha, -(ln alpha(T, U) + ln P(blank | T, U))].\n",
    "        The latter term is loss value, which is -ln P(y | x)\n",
    "    \"\"\"\n",
    "    max_T, max_U, D = log_probs.shape\n",
    "\n",
    "    # here the alpha variable contains logarithm of the alpha variable from the formulas above\n",
    "    alpha = np.zeros((max_T, max_U), dtype=np.float32)\n",
    "\n",
    "    for t in range(1, max_T):\n",
    "        alpha[t, 0] = alpha[t - 1, 0] + log_probs[t - 1, 0, blank]\n",
    "\n",
    "    for u in range(1, max_U):\n",
    "        alpha[0, u] = (\n",
    "            alpha[0, u - 1] + log_probs[0, u - 1, targets[min(u - 1, len(targets) - 1)]]\n",
    "        )\n",
    "\n",
    "    for t in range(1, max_T):\n",
    "        for u in range(1, max_U):\n",
    "            alpha[t, u] = np.logaddexp(\n",
    "                alpha[t - 1, u] + log_probs[t - 1, u, blank],\n",
    "                alpha[t, u - 1]\n",
    "                + log_probs[t, u - 1, targets[min(u - 1, len(targets) - 1)]],\n",
    "            )\n",
    "\n",
    "    cost = -(log_probs[-1, -1, blank] + alpha[-1, -1])\n",
    "    return alpha, cost\n",
    "\n",
    "\n",
    "def backward(\n",
    "    log_probs: torch.FloatTensor, targets: torch.LongTensor, blank: int = -1\n",
    ") -> Tuple[torch.FloatTensor, torch.FloatTensor]:\n",
    "    \"\"\"\n",
    "    :param log_probs: model outputs after applying log_softmax\n",
    "    :param targets: the target sequence of tokens, represented as integer indexes\n",
    "    :param blank: the index of blank symbol\n",
    "    :return: Tuple[ln beta, -ln beta(0, 0)]. The latter term is loss value, which is -ln P(y | x)\n",
    "    \"\"\"\n",
    "    max_T, max_U, D = log_probs.shape\n",
    "\n",
    "    # here the beta variable contains logarithm of the beta variable from the formulas above\n",
    "    beta = np.zeros((max_T, max_U), dtype=np.float32)\n",
    "    beta[-1, -1] = log_probs[-1, -1, blank]\n",
    "\n",
    "    for t in reversed(range(max_T - 1)):\n",
    "        beta[t, max_U - 1] = beta[t + 1, max_U - 1] + log_probs[t, max_U - 1, blank]\n",
    "\n",
    "    for u in reversed(range(max_U - 1)):\n",
    "        beta[max_T - 1, u] = (\n",
    "            beta[max_T - 1, u + 1]\n",
    "            + log_probs[max_T - 1, u, targets[min(u, len(targets) - 1)]]\n",
    "        )\n",
    "\n",
    "    for t in reversed(range(max_T - 1)):\n",
    "        for u in reversed(range(max_U - 1)):\n",
    "            beta[t, u] = np.logaddexp(\n",
    "                beta[t + 1, u] + log_probs[t, u, blank],\n",
    "                beta[t, u + 1] + log_probs[t, u, targets[min(u, len(targets) - 1)]],\n",
    "            )\n",
    "\n",
    "    cost = -beta[0, 0]\n",
    "    return beta, cost"
   ]
  },
  {
   "attachments": {},
   "cell_type": "markdown",
   "metadata": {
    "id": "e-Kcnm7Ki-k1"
   },
   "source": [
    "# Implementing, training and evaluating your RNN-T ASR model"
   ]
  },
  {
   "cell_type": "code",
   "execution_count": 5,
   "metadata": {
    "id": "TIy1M2ICi-k1"
   },
   "outputs": [],
   "source": [
    "BLANK_SYMBOL = \"_\"\n",
    "BOS = \"<BOS>\"\n",
    "\n",
    "\n",
    "class Tokenizer:\n",
    "    \"\"\"\n",
    "    Maps characters to integers and vice versa\n",
    "    \"\"\"\n",
    "\n",
    "    def __init__(self):\n",
    "        self.char_map = {}\n",
    "        self.index_map = {}\n",
    "        for i, ch in enumerate(\n",
    "            [\"'\", \" \"] + list(string.ascii_lowercase) + [BLANK_SYMBOL, BOS]\n",
    "        ):\n",
    "            self.char_map[ch] = i\n",
    "            self.index_map[i] = ch\n",
    "\n",
    "    def text_to_indices(self, text: str) -> List[int]:\n",
    "        \"\"\"\n",
    "        Maps string to a list of integers\n",
    "        \"\"\"\n",
    "        return [self.char_map[ch] for ch in text]\n",
    "\n",
    "    def indices_to_text(self, labels: List[int]) -> str:\n",
    "        \"\"\"\n",
    "        Maps integers back to text\n",
    "        \"\"\"\n",
    "        return \"\".join([self.index_map[i] for i in labels])\n",
    "\n",
    "    def get_symbol_index(self, sym: str) -> int:\n",
    "        \"\"\"\n",
    "        Returns index for the specified symbol\n",
    "        \"\"\"\n",
    "        return self.char_map[sym]\n",
    "\n",
    "\n",
    "tokenizer = Tokenizer()"
   ]
  },
  {
   "attachments": {},
   "cell_type": "markdown",
   "metadata": {
    "id": "t_QF8XMBi-k2"
   },
   "source": [
    "### Utils for creating a dataloader"
   ]
  },
  {
   "cell_type": "code",
   "execution_count": 6,
   "metadata": {
    "id": "L_Xmk902i-k2"
   },
   "outputs": [],
   "source": [
    "# Download LibriSpeech 100hr training and test data\n",
    "\n",
    "if not os.path.isdir(\"./data\"):\n",
    "    os.makedirs(\"./data\")\n",
    "\n",
    "train_dataset = torchaudio.datasets.LIBRISPEECH(\n",
    "    \"./data\", url=\"train-clean-100\", download=True\n",
    ")\n",
    "test_dataset = torchaudio.datasets.LIBRISPEECH(\n",
    "    \"./data\", url=\"test-clean\", download=True\n",
    ")"
   ]
  },
  {
   "cell_type": "code",
   "execution_count": 7,
   "metadata": {
    "id": "mLWxbcjMi-k2"
   },
   "outputs": [],
   "source": [
    "train_audio_transforms = nn.Sequential(\n",
    "    torchaudio.transforms.MelSpectrogram(sample_rate=16000, n_mels=80),\n",
    "    torchaudio.transforms.FrequencyMasking(freq_mask_param=27),\n",
    "    torchaudio.transforms.TimeMasking(time_mask_param=100),\n",
    ")\n",
    "\n",
    "test_audio_transforms = torchaudio.transforms.MelSpectrogram(\n",
    "    sample_rate=16000, n_mels=80\n",
    ")"
   ]
  },
  {
   "cell_type": "code",
   "execution_count": 8,
   "metadata": {
    "id": "cLsCL472i-k2"
   },
   "outputs": [],
   "source": [
    "def data_processing(\n",
    "    data: torchaudio.datasets.librispeech.LIBRISPEECH, data_type: str = \"train\"\n",
    ") -> Tuple[torch.Tensor, torch.IntTensor, torch.IntTensor, torch.IntTensor]:\n",
    "    \"\"\"\n",
    "    :param data: a LIBRISPEECH dataset\n",
    "    :param data_type: \"train\" or \"test\"\n",
    "    :return: tuple of\n",
    "        spectrograms, shape: (B, T, n_mels)\n",
    "        labels, shape: (B, U)\n",
    "        input_lengths -- the length of each spectrogram in the batch, shape: (B,)\n",
    "        label_lengths -- the length of each text label in the batch, shape: (B,)\n",
    "        where\n",
    "        B: batch size\n",
    "        T: maximum source sequence length in batch\n",
    "        U: maximum target sequence length in batch\n",
    "        D: feature dimension of each source sequence element\n",
    "    \"\"\"\n",
    "    spectrograms = []\n",
    "    labels = []\n",
    "    input_lengths = []\n",
    "    label_lengths = []\n",
    "    for waveform, _, utterance, _, _, _ in data:\n",
    "        if data_type == \"train\":\n",
    "            spec = train_audio_transforms(waveform).squeeze(0).transpose(0, 1)\n",
    "        elif data_type == \"test\":\n",
    "            spec = test_audio_transforms(waveform).squeeze(0).transpose(0, 1)\n",
    "        else:\n",
    "            raise Exception(\"data_type should be train or valid\")\n",
    "        spectrograms.append(spec)\n",
    "        label = torch.IntTensor(tokenizer.text_to_indices(utterance.lower()))\n",
    "        labels.append(label)\n",
    "        input_lengths.append(spec.shape[0])\n",
    "        label_lengths.append(len(label))\n",
    "\n",
    "    spectrograms = nn.utils.rnn.pad_sequence(spectrograms, batch_first=True)\n",
    "    labels = nn.utils.rnn.pad_sequence(labels, batch_first=True, padding_value=28)\n",
    "\n",
    "    return (\n",
    "        spectrograms,\n",
    "        torch.IntTensor(labels),\n",
    "        torch.IntTensor(input_lengths),\n",
    "        torch.IntTensor(label_lengths),\n",
    "    )"
   ]
  },
  {
   "attachments": {},
   "cell_type": "markdown",
   "metadata": {
    "id": "1SbrcCk6i-k3"
   },
   "source": [
    "## Build the model"
   ]
  },
  {
   "cell_type": "code",
   "execution_count": 9,
   "metadata": {
    "id": "y57EYzcgi-k3"
   },
   "outputs": [],
   "source": [
    "class EncoderRNNT(nn.Module):\n",
    "    def __init__(\n",
    "        self,\n",
    "        input_dim: int,\n",
    "        hidden_size: int,\n",
    "        output_dim: int,\n",
    "        n_layers: int,\n",
    "        dropout: float = 0.2,\n",
    "        bidirectional: bool = True,\n",
    "    ):\n",
    "        \"\"\"\n",
    "        An RNN-based model that encodes input audio features into a hidden representation.\n",
    "        The architecture is a stack of LSTM's followed by a fully-connected output layer.\n",
    "\n",
    "        :param input_dim: the number of mel-spectrogram features\n",
    "        :param hidden_size: the number of features in the hidden states in LSTM layers\n",
    "        :param output_dim: the output dimension\n",
    "        :param n_layers: the number of stacked LSTM layers\n",
    "        :param dropout: the dropout probability for LSTM layers\n",
    "        :param bidirectional: If True, each LSTM layer becomes bidirectional\n",
    "        \"\"\"\n",
    "        super().__init__()\n",
    "\n",
    "        self.lstm = nn.LSTM(\n",
    "            input_dim,\n",
    "            hidden_size,\n",
    "            n_layers,\n",
    "            batch_first=True,\n",
    "            dropout=dropout,\n",
    "            bidirectional=bidirectional,\n",
    "        )\n",
    "\n",
    "        self.output_proj = nn.Linear(hidden_size * (int(bidirectional) + 1), output_dim)\n",
    "\n",
    "    def forward(\n",
    "        self, inputs: torch.Tensor, input_lengths: torch.Tensor\n",
    "    ) -> Tuple[torch.Tensor, List[torch.Tensor]]:\n",
    "        \"\"\"\n",
    "        :param inputs: spectrograms, shape: (B, T, n_mels)\n",
    "        :param input_lengths: the lengths of the spectrograms in the batch, shape: (B,)\n",
    "        :return: outputs of the projection layer and hidden states from LSTMs\n",
    "        \"\"\"\n",
    "        output, hidden = self.lstm(inputs)\n",
    "        logits = self.output_proj(output)\n",
    "\n",
    "        return logits, hidden"
   ]
  },
  {
   "cell_type": "code",
   "execution_count": 10,
   "metadata": {
    "id": "tCeaQG-2i-k4"
   },
   "outputs": [],
   "source": [
    "encoder = EncoderRNNT(\n",
    "    input_dim=80,\n",
    "    hidden_size=320,\n",
    "    output_dim=512,\n",
    "    n_layers=4,\n",
    "    dropout=0.2,\n",
    "    bidirectional=True,\n",
    ")\n",
    "\n",
    "loader = data.DataLoader(\n",
    "    test_dataset,\n",
    "    batch_size=2,\n",
    "    shuffle=False,\n",
    "    collate_fn=lambda x: data_processing(x, \"test\"),\n",
    ")\n",
    "spectrograms, labels, input_lengths, label_lengths = next(iter(loader))\n",
    "logits, hidden_states = encoder.forward(spectrograms, input_lengths)\n",
    "\n",
    "assert spectrograms.shape == torch.Size([2, 835, 80])\n",
    "assert logits.shape == torch.Size([2, 835, 512])\n",
    "assert len(hidden_states) == 2\n",
    "assert hidden_states[0].shape == torch.Size([8, 2, 320])"
   ]
  },
  {
   "cell_type": "code",
   "execution_count": 11,
   "metadata": {
    "id": "bhLTyplNi-k4"
   },
   "outputs": [],
   "source": [
    "class DecoderRNNT(nn.Module):\n",
    "    def __init__(\n",
    "        self,\n",
    "        hidden_size: int,\n",
    "        vocab_size: int,\n",
    "        output_dim: int,\n",
    "        n_layers: int,\n",
    "        dropout: float = 0.2,\n",
    "    ):\n",
    "        \"\"\"\n",
    "        A simple RNN-based autoregressive language model that takes as input previously generated text tokens\n",
    "        and outputs a hidden representation of the next token\n",
    "\n",
    "        :param hidden_size: the number of features in the hidden states in LSTM layers\n",
    "        :param vocab_size: the number of text tokens in the dictionary\n",
    "        :param output_dim: the output dimension\n",
    "        :param n_layers: the number of stacked LSTM layers\n",
    "        :param dropout: the dropout probability for LSTM layers\n",
    "        \"\"\"\n",
    "        super().__init__()\n",
    "        self.embedding = nn.Embedding(vocab_size, hidden_size)\n",
    "        self.lstm = nn.LSTM(\n",
    "            hidden_size,\n",
    "            hidden_size,\n",
    "            num_layers=n_layers,\n",
    "            batch_first=True,\n",
    "            dropout=dropout,\n",
    "            bidirectional=False,\n",
    "        )\n",
    "        self.output_proj = nn.Linear(hidden_size, output_dim)\n",
    "\n",
    "    def forward(\n",
    "        self,\n",
    "        inputs: torch.Tensor,\n",
    "        input_lengths: Optional[torch.Tensor] = None,\n",
    "        hidden_states: Optional[Tuple[torch.Tensor, torch.Tensor]] = None,\n",
    "    ) -> Tuple[torch.Tensor, List[torch.Tensor]]:\n",
    "        \"\"\"\n",
    "        :param inputs: labels, shape: (B, U)\n",
    "        :param input_lengths: the lengths of the text labels in the batch, shape: (B,)\n",
    "        :return: outputs of the projection layer and hidden states from LSTMs\n",
    "        \"\"\"\n",
    "        embed_inputs = self.embedding(inputs)\n",
    "\n",
    "        if input_lengths is not None:\n",
    "            # training phase, the code here is close to `forward` of the Encoder\n",
    "            embed_inputs = nn.utils.rnn.pack_padded_sequence(\n",
    "                embed_inputs.transpose(0, 1), input_lengths.cpu(), enforce_sorted=False\n",
    "            )\n",
    "            outputs, hidden = self.lstm(embed_inputs, hidden_states)\n",
    "            outputs, _ = nn.utils.rnn.pad_packed_sequence(outputs)\n",
    "            outputs = outputs.transpose(0, 1)\n",
    "        else:\n",
    "            # testing phase\n",
    "            outputs, hidden = self.lstm(embed_inputs, hidden_states)\n",
    "\n",
    "        outputs = self.output_proj(outputs)\n",
    "        return outputs, hidden"
   ]
  },
  {
   "cell_type": "code",
   "execution_count": 12,
   "metadata": {
    "id": "QNGRqpMji-k4"
   },
   "outputs": [
    {
     "name": "stderr",
     "output_type": "stream",
     "text": [
      "/home/vitya/anaconda3/envs/myenv/lib/python3.9/site-packages/torch/nn/modules/rnn.py:71: UserWarning: dropout option adds dropout after all but last recurrent layer, so non-zero dropout expects num_layers greater than 1, but got dropout=0.2 and num_layers=1\n",
      "  warnings.warn(\"dropout option adds dropout after all but last \"\n"
     ]
    }
   ],
   "source": [
    "decoder = DecoderRNNT(\n",
    "    hidden_size=512,\n",
    "    vocab_size=len(tokenizer.char_map),\n",
    "    output_dim=512,\n",
    "    n_layers=1,\n",
    "    dropout=0.2,\n",
    ")\n",
    "\n",
    "loader = data.DataLoader(\n",
    "    test_dataset,\n",
    "    batch_size=2,\n",
    "    shuffle=False,\n",
    "    collate_fn=lambda x: data_processing(x, \"test\"),\n",
    ")\n",
    "spectrograms, labels, input_lengths, label_lengths = next(iter(loader))\n",
    "logits, hidden_states = decoder.forward(labels, label_lengths)\n",
    "\n",
    "assert labels.shape == torch.Size([2, 158])\n",
    "assert logits.shape == torch.Size([2, 158, 512])\n",
    "assert len(hidden_states) == 2\n",
    "assert hidden_states[0].shape == torch.Size([1, 2, 512])"
   ]
  },
  {
   "cell_type": "code",
   "execution_count": 13,
   "metadata": {
    "id": "IaM_Tkzhi-k5"
   },
   "outputs": [],
   "source": [
    "class Joiner(torch.nn.Module):\n",
    "    def __init__(self, joiner_dim: int, num_outputs: int):\n",
    "        \"\"\"\n",
    "        Adds encoder and decoder outputs, applies ReLU and passes the result\n",
    "        through a fully connected layer to get the output logits\n",
    "\n",
    "        :param joiner_dim: the dimension of the encoder and decoder outputs\n",
    "        :num_outputs: the number of text tokens in the dictionary\n",
    "        \"\"\"\n",
    "        super().__init__()\n",
    "        self.linear = nn.Linear(joiner_dim, num_outputs)\n",
    "\n",
    "    def forward(\n",
    "        self, encoder_outputs: torch.Tensor, decoder_outputs: torch.Tensor\n",
    "    ) -> torch.Tensor:\n",
    "        \"\"\"\n",
    "        :param encoder_outputs: the encoder outputs (f_t), shape: (B, T, joiner_dim) or (joiner_dim,)\n",
    "        :param decoder_outputs: the decoder outputs (g_u), shape: (B, U, joiner_dim) or (joiner_dim,)\n",
    "        :return: output logits\n",
    "        \"\"\"\n",
    "        if (\n",
    "            encoder_outputs.dim() == 3 and decoder_outputs.dim() == 3\n",
    "        ):  # True for training phase\n",
    "            encoder_outputs = encoder_outputs.unsqueeze(2)\n",
    "            decoder_outputs = decoder_outputs.unsqueeze(1)\n",
    "\n",
    "        # Linear(ReLU(f_t + g_u))\n",
    "        out = self.linear(nn.functional.relu(encoder_outputs + decoder_outputs))\n",
    "        return out"
   ]
  },
  {
   "cell_type": "code",
   "execution_count": 14,
   "metadata": {
    "id": "ovd_OawAi-k5"
   },
   "outputs": [],
   "source": [
    "class RNNTransducer(torch.nn.Module):\n",
    "    def __init__(\n",
    "        self,\n",
    "        num_classes: int,\n",
    "        input_dim: int,\n",
    "        num_encoder_layers: int = 4,\n",
    "        num_decoder_layers: int = 1,\n",
    "        encoder_hidden_state_dim: int = 320,\n",
    "        decoder_hidden_state_dim: int = 512,\n",
    "        output_dim: int = 512,\n",
    "        encoder_is_bidirectional: bool = True,\n",
    "        encoder_dropout_p: float = 0.2,\n",
    "        decoder_dropout_p: float = 0.2,\n",
    "    ):\n",
    "        \"\"\"\n",
    "        :param num_classes: the number of text tokens in the dictionary\n",
    "        :param input_dim: the number of mel-spectrogram features\n",
    "        :param num_encoder_layers: the number of LSTM layers in the encoder\n",
    "        :param num_decoder_layers: the number of LSTM layers in the decoder\n",
    "        :param encoder_hidden_state_dim: the number of features in the hidden states for the encoder\n",
    "        :param decoder_hidden_state_dim: the number of features in the hidden states for the decoder\n",
    "        :param output_dim: the output dimension\n",
    "        :param encoder_is_bidirectional: whether to use bidirectional LSTM's in the encoder\n",
    "        :param encoder_dropout_p: the dropout probability for the encoder\n",
    "        :param decoder_dropout_p: the dropout probability for the decoder\n",
    "        \"\"\"\n",
    "        super().__init__()\n",
    "        self.encoder = EncoderRNNT(\n",
    "            input_dim,\n",
    "            encoder_hidden_state_dim,\n",
    "            output_dim,\n",
    "            num_encoder_layers,\n",
    "            encoder_dropout_p,\n",
    "            encoder_is_bidirectional,\n",
    "        )\n",
    "\n",
    "        # The decoder takes the input <BOS> + the original sequence.\n",
    "        # You need to shift the current label, and F.pad can help with that.\n",
    "        self.decoder = DecoderRNNT(\n",
    "            decoder_hidden_state_dim,\n",
    "            num_classes,\n",
    "            output_dim,\n",
    "            num_decoder_layers,\n",
    "            decoder_dropout_p,\n",
    "        )\n",
    "        self.joiner = Joiner(output_dim, num_classes)\n",
    "\n",
    "    def forward(\n",
    "        self,\n",
    "        inputs: torch.Tensor,\n",
    "        input_lengths: torch.Tensor,\n",
    "        targets: torch.Tensor,\n",
    "        target_lengths: torch.Tensor,\n",
    "    ) -> torch.Tensor:\n",
    "        \"\"\"\n",
    "        :param inputs: spectrograms, shape: (B, T, n_mels)\n",
    "        :param input_lengths: the lengths of the spectrograms in the batch, shape: (B,)\n",
    "        :param targets: labels, shape: (B, U)\n",
    "        :param target_lengths: the lengths of the text labels in the batch, shape: (B,)\n",
    "        :return: the output logits, shape: (B, T, U, n_tokens)\n",
    "        \"\"\"\n",
    "        batch_size = inputs.size()[0]\n",
    "        bos_torch = (\n",
    "            torch.tensor(tokenizer.get_symbol_index(BOS))\n",
    "            .unsqueeze(0)\n",
    "            .repeat(batch_size)\n",
    "        )\n",
    "        targets = torch.cat([bos_torch.view(-1, 1).to(targets.device), targets], dim=1)\n",
    "\n",
    "        encoder_outputs, _ = self.encoder(inputs, input_lengths)\n",
    "        decoder_outputs, _ = self.decoder(targets, target_lengths + 1)\n",
    "        joiner_out = self.joiner(encoder_outputs, decoder_outputs)\n",
    "        return joiner_out"
   ]
  },
  {
   "cell_type": "code",
   "execution_count": 15,
   "metadata": {
    "id": "PnC5EE33i-k6"
   },
   "outputs": [],
   "source": [
    "transducer = RNNTransducer(\n",
    "    num_classes=len(tokenizer.char_map),\n",
    "    input_dim=80,\n",
    "    num_encoder_layers=4,\n",
    "    num_decoder_layers=1,\n",
    "    encoder_hidden_state_dim=320,\n",
    "    decoder_hidden_state_dim=512,\n",
    "    output_dim=512,\n",
    "    encoder_is_bidirectional=True,\n",
    "    encoder_dropout_p=0.2,\n",
    "    decoder_dropout_p=0.2,\n",
    ")\n",
    "\n",
    "loader = data.DataLoader(\n",
    "    test_dataset,\n",
    "    batch_size=2,\n",
    "    shuffle=False,\n",
    "    collate_fn=lambda x: data_processing(x, \"test\"),\n",
    ")\n",
    "spectrograms, labels, input_lengths, label_lengths = next(iter(loader))\n",
    "result = transducer.forward(spectrograms, input_lengths, labels, label_lengths)\n",
    "\n",
    "assert spectrograms.shape == torch.Size([2, 835, 80])\n",
    "assert labels.shape == torch.Size([2, 158])\n",
    "assert result.shape == torch.Size([2, 835, 159, 30])"
   ]
  },
  {
   "attachments": {},
   "cell_type": "markdown",
   "metadata": {
    "id": "qBdlLxKni-k6"
   },
   "source": [
    "## Implementing a greedy decoder"
   ]
  },
  {
   "attachments": {},
   "cell_type": "markdown",
   "metadata": {
    "id": "RPZv4-Bdi-k6"
   },
   "source": [
    "<p style=\"text-align:center;\"><img src=\"http://drive.google.com/uc?export=view&id=1tHsoq0ZH0tHSHYlYlw00y8ksF-wHmrmC\">"
   ]
  },
  {
   "attachments": {},
   "cell_type": "markdown",
   "metadata": {
    "id": "wMhA58FEi-k6"
   },
   "source": [
    "\n",
    "\n",
    "The greedy decoding procedure is as follows:\n",
    "1. Compute $\\{f_0, \\ldots, f_T\\}$ using $\\mathbf x$.\n",
    "2. Set $t = 0$, $u = 0$, $\\mathbf y = []$, $\\mathrm{iteration} = 0$.\n",
    "3. If $u = 0$, set $g_0 = \\mathrm{Encoder}(\\langle s \\rangle)$. If $u > 0$, compute $g_u$ using the last predicted token $\\mathbf y[-1]$.\n",
    "4. Compute $P(y | t, u)$ using $f_t$ and $g_u$.\n",
    "5. If argmax of $P(y | t, u)$ is a label, set $u = u + 1$ and append the new label to $\\mathbf y$. \n",
    "6. If argmax of $P(y | t, u)$ is $\\emptyset$, set $t = t + 1$.\n",
    "7. If $t = T$ or $\\mathrm{iteration} = \\mathrm{max\\_iterations}$, we are done. Else, set $\\mathrm{iteration} = \\mathrm{iteration + 1}$ and go to step 3."
   ]
  },
  {
   "cell_type": "code",
   "execution_count": 16,
   "metadata": {
    "id": "o3tjfGsji-k7"
   },
   "outputs": [],
   "source": [
    "@torch.no_grad()\n",
    "def greedy_decode(\n",
    "    model: RNNTransducer, encoder_output: torch.Tensor, max_steps: int = 2000\n",
    ") -> torch.Tensor:\n",
    "    \"\"\"\n",
    "    :param model: an RNN-T model in eval mode\n",
    "    :param encoder_output: the output of the encoder part of RNN-T, shape: (T, encoder_output_dim)\n",
    "    :param max_steps: the maximum number of decoding steps\n",
    "    :return: the predicted labels\n",
    "    \"\"\"\n",
    "    pred_tokens, hidden_state = [], None\n",
    "    blank = tokenizer.get_symbol_index(BLANK_SYMBOL)\n",
    "    max_time_steps = encoder_output.size(0)\n",
    "    t = 0\n",
    "\n",
    "    decoder_input = encoder_output.new_tensor(\n",
    "        [[tokenizer.get_symbol_index(BOS)]], dtype=torch.long\n",
    "    )\n",
    "    decoder_output, hidden_state = model.decoder(\n",
    "        decoder_input, hidden_states=hidden_state\n",
    "    )\n",
    "\n",
    "    for _ in range(max_steps):\n",
    "        step_output = model.joiner(encoder_output[t].view(-1), decoder_output.view(-1))\n",
    "        step_output = step_output.softmax(dim=0)\n",
    "\n",
    "        pred_token = step_output.argmax(dim=0)\n",
    "        pred_token = int(pred_token.item())\n",
    "        # print(pred_token)\n",
    "        # break\n",
    "\n",
    "        if pred_token == blank:\n",
    "            t += 1\n",
    "        else:\n",
    "            pred_tokens.append(pred_token)\n",
    "            decoder_input = step_output.new_tensor([[pred_token]], dtype=torch.long)\n",
    "            decoder_output, hidden_state = model.decoder(\n",
    "                decoder_input, hidden_states=hidden_state\n",
    "            )\n",
    "        if t == max_time_steps:\n",
    "            break\n",
    "\n",
    "    return torch.LongTensor(pred_tokens)\n",
    "\n",
    "\n",
    "@torch.no_grad()\n",
    "def recognize(\n",
    "    model: RNNTransducer, inputs: torch.Tensor, input_lengths: torch.Tensor\n",
    ") -> List[torch.Tensor]:\n",
    "    \"\"\"\n",
    "    :param model: an RNN-T model in eval mode\n",
    "    :param inputs: spectrograms, shape: (B, T, n_mels)\n",
    "    :param input_lengths: the lengths of the spectrograms in the batch, shape: (B,)\n",
    "    :return: a list with the predicted labels\n",
    "    \"\"\"\n",
    "    outputs = []\n",
    "    encoder_outputs, _ = model.encoder(inputs, input_lengths)\n",
    "\n",
    "    for encoder_output in encoder_outputs:\n",
    "        decoded_seq = greedy_decode(model, encoder_output)\n",
    "        outputs.append(decoded_seq)\n",
    "\n",
    "    return outputs\n",
    "\n",
    "\n",
    "def get_transducer_predictions(\n",
    "    transducer: RNNTransducer,\n",
    "    inputs: torch.Tensor,\n",
    "    input_lengths: torch.Tensor,\n",
    "    targets: torch.Tensor,\n",
    "    target_lengths: torch.Tensor,\n",
    ") -> pd.DataFrame:\n",
    "    \"\"\"\n",
    "    :param transducer: an RNN-T model in eval mode\n",
    "    :param inputs: spectrograms, shape: (B, T, n_mels)\n",
    "    :param input_lengths: the lengths of the spectrograms in the batch, shape: (B,)\n",
    "    :param targets: labels, shape: (B, U)\n",
    "    :param target_lengths: the lengths of the text labels in the batch, shape: (B,)\n",
    "    :return: a pd.DataFrame with inference results\n",
    "    \"\"\"\n",
    "    predictions = recognize(transducer, inputs, input_lengths)\n",
    "    result = []\n",
    "    for pred, target, target_len in zip(predictions, targets, target_lengths):\n",
    "        label = target[:target_len]\n",
    "        utterance = tokenizer.indices_to_text(list(map(int, label)))\n",
    "        pred_utterance = tokenizer.indices_to_text(list(map(int, pred)))\n",
    "        result.append(\n",
    "            {\n",
    "                \"ground_truth\": utterance,\n",
    "                \"prediction\": pred_utterance,\n",
    "                \"cer\": utils.cer(utterance, pred_utterance),\n",
    "                \"wer\": utils.wer(utterance, pred_utterance),\n",
    "            }\n",
    "        )\n",
    "    return pd.DataFrame.from_records(result)"
   ]
  },
  {
   "cell_type": "code",
   "execution_count": 17,
   "metadata": {
    "id": "FIJtZpE3i-k7"
   },
   "outputs": [
    {
     "data": {
      "text/plain": [
       "RecursiveScriptModule(\n",
       "  original_name=RNNTransducer\n",
       "  (encoder): RecursiveScriptModule(\n",
       "    original_name=EncoderRNNT\n",
       "    (lstm): RecursiveScriptModule(original_name=LSTM)\n",
       "    (output_proj): RecursiveScriptModule(original_name=Linear)\n",
       "  )\n",
       "  (decoder): RecursiveScriptModule(\n",
       "    original_name=DecoderRNNT\n",
       "    (embedding): RecursiveScriptModule(original_name=Embedding)\n",
       "    (lstm): RecursiveScriptModule(original_name=LSTM)\n",
       "    (output_proj): RecursiveScriptModule(original_name=Linear)\n",
       "  )\n",
       "  (joiner): RecursiveScriptModule(\n",
       "    original_name=Joiner\n",
       "    (linear): RecursiveScriptModule(original_name=Linear)\n",
       "  )\n",
       ")"
      ]
     },
     "execution_count": 17,
     "metadata": {},
     "output_type": "execute_result"
    }
   ],
   "source": [
    "model = torch.jit.load(\"files/model_scripted_epoch_5.pt\")\n",
    "model.eval()"
   ]
  },
  {
   "cell_type": "code",
   "execution_count": 18,
   "metadata": {
    "id": "mu-sVO4Hi-k8"
   },
   "outputs": [
    {
     "data": {
      "text/html": [
       "<div>\n",
       "<style scoped>\n",
       "    .dataframe tbody tr th:only-of-type {\n",
       "        vertical-align: middle;\n",
       "    }\n",
       "\n",
       "    .dataframe tbody tr th {\n",
       "        vertical-align: top;\n",
       "    }\n",
       "\n",
       "    .dataframe thead th {\n",
       "        text-align: right;\n",
       "    }\n",
       "</style>\n",
       "<table border=\"1\" class=\"dataframe\">\n",
       "  <thead>\n",
       "    <tr style=\"text-align: right;\">\n",
       "      <th></th>\n",
       "      <th>ground_truth</th>\n",
       "      <th>prediction</th>\n",
       "      <th>cer</th>\n",
       "      <th>wer</th>\n",
       "    </tr>\n",
       "  </thead>\n",
       "  <tbody>\n",
       "    <tr>\n",
       "      <th>0</th>\n",
       "      <td>he hoped there would be stew for dinner turnip...</td>\n",
       "      <td>he hoped there would be stew for dinner turnip...</td>\n",
       "      <td>0.132911</td>\n",
       "      <td>0.250000</td>\n",
       "    </tr>\n",
       "    <tr>\n",
       "      <th>1</th>\n",
       "      <td>stuff it into you his belly counselled him</td>\n",
       "      <td>stuffed into you his belly counciled him</td>\n",
       "      <td>0.142857</td>\n",
       "      <td>0.375000</td>\n",
       "    </tr>\n",
       "    <tr>\n",
       "      <th>2</th>\n",
       "      <td>after early nightfall the yellow lamps would l...</td>\n",
       "      <td>after early night fall the yellow lamps would ...</td>\n",
       "      <td>0.096154</td>\n",
       "      <td>0.333333</td>\n",
       "    </tr>\n",
       "    <tr>\n",
       "      <th>3</th>\n",
       "      <td>hello bertie any good in your mind</td>\n",
       "      <td>her about he and he good in your mind</td>\n",
       "      <td>0.352941</td>\n",
       "      <td>0.714286</td>\n",
       "    </tr>\n",
       "    <tr>\n",
       "      <th>4</th>\n",
       "      <td>number ten fresh nelly is waiting on you good ...</td>\n",
       "      <td>none but den fresh now as waiting on you could...</td>\n",
       "      <td>0.254237</td>\n",
       "      <td>0.545455</td>\n",
       "    </tr>\n",
       "  </tbody>\n",
       "</table>\n",
       "</div>"
      ],
      "text/plain": [
       "                                        ground_truth  \\\n",
       "0  he hoped there would be stew for dinner turnip...   \n",
       "1         stuff it into you his belly counselled him   \n",
       "2  after early nightfall the yellow lamps would l...   \n",
       "3                 hello bertie any good in your mind   \n",
       "4  number ten fresh nelly is waiting on you good ...   \n",
       "\n",
       "                                          prediction       cer       wer  \n",
       "0  he hoped there would be stew for dinner turnip...  0.132911  0.250000  \n",
       "1           stuffed into you his belly counciled him  0.142857  0.375000  \n",
       "2  after early night fall the yellow lamps would ...  0.096154  0.333333  \n",
       "3              her about he and he good in your mind  0.352941  0.714286  \n",
       "4  none but den fresh now as waiting on you could...  0.254237  0.545455  "
      ]
     },
     "execution_count": 18,
     "metadata": {},
     "output_type": "execute_result"
    }
   ],
   "source": [
    "loader = data.DataLoader(\n",
    "    test_dataset,\n",
    "    batch_size=5,\n",
    "    shuffle=False,\n",
    "    collate_fn=lambda x: data_processing(x, \"test\"),\n",
    ")\n",
    "spectrograms, labels, input_lengths, label_lengths = next(iter(loader))\n",
    "predictions = get_transducer_predictions(\n",
    "    model, spectrograms, input_lengths, labels, label_lengths\n",
    ")\n",
    "predictions"
   ]
  },
  {
   "cell_type": "code",
   "execution_count": 19,
   "metadata": {
    "id": "_Udw1t9ii-k8"
   },
   "outputs": [],
   "source": [
    "reference_values = [\n",
    "    {\n",
    "        \"gt\": \"he hoped there would be stew for dinner turnips and carrots and bruised potatoes and fat mutton pieces to be ladled out in thick peppered flour fattened sauce\",\n",
    "        \"prediction\": \"he hoped there would be stew for dinner turnips and characts and bruised potatoes and fat much and pieces to be lateled out in the thick peppered flowerfacton sauce\",\n",
    "    },\n",
    "    {\n",
    "        \"gt\": \"stuff it into you his belly counselled him\",\n",
    "        \"prediction\": \"stuffed into you his belly counciled him\",\n",
    "    },\n",
    "    {\n",
    "        \"gt\": \"after early nightfall the yellow lamps would light up here and there the squalid quarter of the brothels\",\n",
    "        \"prediction\": \"after early night fall the yellow lamps would lie how peer and there the squalit quarter of the brothels\",\n",
    "    },\n",
    "    {\n",
    "        \"gt\": \"hello bertie any good in your mind\",\n",
    "        \"prediction\": \"her about he and he good in your mind\",\n",
    "    },\n",
    "    {\n",
    "        \"gt\": \"number ten fresh nelly is waiting on you good night husband\",\n",
    "        \"prediction\": \"none but den fresh now as waiting on you could night husband\",\n",
    "    },\n",
    "]"
   ]
  },
  {
   "cell_type": "code",
   "execution_count": 20,
   "metadata": {
    "id": "g7Pk9s7ei-k8"
   },
   "outputs": [],
   "source": [
    "for index in range(5):\n",
    "    gt = predictions.iloc[index].ground_truth\n",
    "    prediction = predictions.iloc[index].prediction\n",
    "    assert gt == reference_values[index][\"gt\"]\n",
    "    assert prediction == reference_values[index][\"prediction\"]"
   ]
  },
  {
   "attachments": {},
   "cell_type": "markdown",
   "metadata": {
    "id": "rKCR9BdFi-k9"
   },
   "source": [
    "## Training model"
   ]
  },
  {
   "cell_type": "code",
   "execution_count": 21,
   "metadata": {
    "id": "6wyqZtQ8i-k9"
   },
   "outputs": [],
   "source": [
    "def train(\n",
    "    model: nn.Module,\n",
    "    device: str,\n",
    "    train_loader: data.DataLoader,\n",
    "    test_sample: List[torch.Tensor],\n",
    "    criterion: nn.Module,\n",
    "    optimizer: torch.optim.Optimizer,\n",
    "    epoch: int,\n",
    "    eval_period: int = 100,\n",
    ") -> None:\n",
    "    \"\"\"\n",
    "    :param model: an RNN-T model\n",
    "    :param device: \"gpu\" or \"cpu\"\n",
    "    :param train_loader: training data loader\n",
    "    :param test_sample: a sample from the test set to log preliminary inference metrics\n",
    "    :param criterion: the loss function\n",
    "    :param optimizer: the training optimizer\n",
    "    :param epoch: the current epoch number\n",
    "    :param eval_period: the number of iterations between evaluations\n",
    "    \"\"\"\n",
    "    model.train()\n",
    "    data_len = len(train_loader.dataset)\n",
    "\n",
    "    for batch_idx, _data in tqdm(enumerate(train_loader), total=data_len):\n",
    "        spectrograms, labels, input_lengths, label_lengths = _data\n",
    "        spectrograms, labels = spectrograms.to(device), labels.to(device)\n",
    "\n",
    "        optimizer.zero_grad()\n",
    "\n",
    "        output = model.forward(\n",
    "            spectrograms, input_lengths, labels, label_lengths\n",
    "        )  # (batch, time, label_length, n_class)\n",
    "        output = F.log_softmax(output, dim=-1)\n",
    "\n",
    "        loss = criterion(\n",
    "            output, labels, input_lengths.to(device), label_lengths.to(device)\n",
    "        )\n",
    "        loss.backward()\n",
    "        optimizer.step()\n",
    "\n",
    "        if batch_idx % eval_period == 0 or batch_idx == data_len:\n",
    "            wandb.log({\"loss_train\": loss.item()})\n",
    "\n",
    "            with torch.no_grad():\n",
    "                spectrograms, labels, input_lengths, label_lengths = test_sample\n",
    "                spectrograms, labels = spectrograms.to(device), labels.to(device)\n",
    "                try:\n",
    "                    output = model.forward(\n",
    "                        spectrograms, input_lengths, labels, label_lengths\n",
    "                    )\n",
    "                except RuntimeError:\n",
    "                    return spectrograms, input_lengths, labels, label_lengths\n",
    "                val_loss = criterion(\n",
    "                    output, labels, input_lengths.to(device), label_lengths.to(device)\n",
    "                )\n",
    "\n",
    "                predictions = get_transducer_predictions(\n",
    "                    model, spectrograms, input_lengths, labels, label_lengths\n",
    "                )\n",
    "\n",
    "                utils.save_checkpoint(\n",
    "                    model, checkpoint_name=f\"model_epoch{epoch}.tar\", path=\"data/\"\n",
    "                )\n",
    "\n",
    "                wandb.log({\"loss_val\": val_loss.item()})\n",
    "                clear_output(wait=True)\n",
    "                print(\n",
    "                    \"\\nTrain Epoch: {} [{}/{} ({:.0f}%)]\\tTrain Loss: {:.6f}\\tVal loss: {:.6f}\".format(\n",
    "                        epoch,\n",
    "                        batch_idx * len(spectrograms),\n",
    "                        data_len,\n",
    "                        100.0 * batch_idx / len(train_loader),\n",
    "                        loss.item(),\n",
    "                        val_loss.item(),\n",
    "                    )\n",
    "                )\n",
    "                print(f\"cer: {predictions.cer.mean()}, wer: {predictions.wer.mean()}\")\n",
    "                display(predictions)\n",
    "                wandb.log({\"cer_val\": predictions.cer.mean()})\n",
    "                wandb.log({\"wer_val\": predictions.wer.mean()})\n",
    "                wandb.log({\"val_predictions\": wandb.Table(dataframe=predictions)})\n",
    "\n",
    "\n",
    "def test(\n",
    "    model: nn.Module,\n",
    "    device: str,\n",
    "    test_loader: data.DataLoader,\n",
    "    criterion: nn.Module,\n",
    "    epoch: int,\n",
    "    total_steps: int = None,\n",
    "    log_predictions: bool = False,\n",
    ") -> None:\n",
    "    \"\"\"\n",
    "    :param model: an RNN-T model\n",
    "    :param device: \"gpu\" or \"cpu\"\n",
    "    :param test_loader: test data loader\n",
    "    :param criterion: the loss function\n",
    "    :param epoch: the current epoch number\n",
    "    :param total_steps: the number of test steps to perform. If None, the whole test set will be used for evaluation\n",
    "    :param log_predictions: if True, the predicted labels will be logged to the W&B dashboard\n",
    "    \"\"\"\n",
    "    print(\"Beginning eval...\")\n",
    "    model.eval()\n",
    "    test_cer, test_wer, test_loss = [], [], []\n",
    "    test_predictions = []\n",
    "    if total_steps is None:\n",
    "        total_steps = len(test_loader)\n",
    "\n",
    "    with torch.no_grad():\n",
    "        for i, _data in tqdm_notebook(enumerate(test_loader), total=total_steps):\n",
    "            if i == total_steps:\n",
    "                break\n",
    "            spectrograms, labels, input_lengths, label_lengths = _data\n",
    "            spectrograms, labels = spectrograms.to(device), labels.to(device)\n",
    "            output = model.forward(spectrograms, input_lengths, labels, label_lengths)\n",
    "            loss = criterion(\n",
    "                output, labels, input_lengths.to(device), label_lengths.to(device)\n",
    "            )\n",
    "            test_loss.append(loss.item())\n",
    "\n",
    "            predictions = get_transducer_predictions(\n",
    "                model, spectrograms, input_lengths, labels, label_lengths\n",
    "            )\n",
    "            test_cer += list(predictions.cer)\n",
    "            test_wer += list(predictions.wer)\n",
    "            if log_predictions:\n",
    "                test_predictions.append(predictions)\n",
    "\n",
    "    avg_cer = np.mean(test_cer)\n",
    "    avg_wer = np.mean(test_wer)\n",
    "    avg_loss = np.mean(test_loss)\n",
    "\n",
    "    if total_steps < len(test_loader):\n",
    "        wandb.log({\"loss_test\": avg_loss, \"avg_cer\": avg_cer, \"avg_wer\": avg_wer})\n",
    "    else:\n",
    "        wandb.log(\n",
    "            {\n",
    "                \"loss_test_final\": avg_loss,\n",
    "                \"avg_cer_final\": avg_cer,\n",
    "                \"avg_wer_final\": avg_wer,\n",
    "            }\n",
    "        )\n",
    "    if log_predictions:\n",
    "        wandb.log(\n",
    "            {\n",
    "                \"test_predictions\": wandb.Table(\n",
    "                    dataframe=pd.concat(test_predictions, ignore_index=True)\n",
    "                )\n",
    "            }\n",
    "        )\n",
    "\n",
    "    print(\n",
    "        \"Epoch: {:d}, Test set: Average loss: {:.4f}, Average CER: {:4f} Average WER: {:.4f}\\n\".format(\n",
    "            epoch, avg_loss, avg_cer, avg_wer\n",
    "        )\n",
    "    )"
   ]
  },
  {
   "cell_type": "code",
   "execution_count": 22,
   "metadata": {
    "id": "lOWGMWf9i-k-",
    "outputId": "4bb03d7e-413f-4571-b024-618169146b8a"
   },
   "outputs": [
    {
     "name": "stdout",
     "output_type": "stream",
     "text": [
      "GPU found! 🎉\n"
     ]
    }
   ],
   "source": [
    "torch.manual_seed(7)\n",
    "if torch.cuda.is_available():\n",
    "    print(\"GPU found! 🎉\")\n",
    "    device = \"cuda\"\n",
    "else:\n",
    "    print(\"Only CPU found! 💻\")\n",
    "    device = \"cpu\"\n",
    "\n",
    "# Hyperparameters for your model\n",
    "\n",
    "hparams = {\n",
    "    \"model\": {\n",
    "        \"num_classes\": len(tokenizer.char_map),\n",
    "        \"input_dim\": 80,\n",
    "        \"num_encoder_layers\": 4,\n",
    "        \"num_decoder_layers\": 1,\n",
    "        \"encoder_hidden_state_dim\": 320,\n",
    "        \"decoder_hidden_state_dim\": 512,\n",
    "        \"output_dim\": 512,\n",
    "        \"encoder_is_bidirectional\": True,\n",
    "        \"encoder_dropout_p\": 0.2,\n",
    "        \"decoder_dropout_p\": 0.2,\n",
    "    },\n",
    "    \"data\": {\"batch_size\": 1, \"epochs\": 10, \"learning_rate\": 1e-4},\n",
    "}\n",
    "\n",
    "kwargs = {\"num_workers\": 1, \"pin_memory\": True} if device == \"cuda\" else {}\n",
    "train_loader = data.DataLoader(\n",
    "    train_dataset,\n",
    "    batch_size=hparams[\"data\"][\"batch_size\"],\n",
    "    shuffle=True,\n",
    "    collate_fn=lambda x: data_processing(x),\n",
    "    **kwargs\n",
    ")\n",
    "test_loader = data.DataLoader(\n",
    "    test_dataset,\n",
    "    batch_size=hparams[\"data\"][\"batch_size\"],\n",
    "    shuffle=False,\n",
    "    collate_fn=lambda x: data_processing(x, \"test\"),\n",
    "    **kwargs\n",
    ")"
   ]
  },
  {
   "cell_type": "code",
   "execution_count": 23,
   "metadata": {
    "id": "RPzsOxuai-k-",
    "outputId": "1f20306a-d430-4ca8-8a71-97fbb052c5ef"
   },
   "outputs": [
    {
     "name": "stderr",
     "output_type": "stream",
     "text": [
      "/home/vitya/anaconda3/envs/myenv/lib/python3.9/site-packages/torch/nn/modules/rnn.py:71: UserWarning: dropout option adds dropout after all but last recurrent layer, so non-zero dropout expects num_layers greater than 1, but got dropout=0.2 and num_layers=1\n",
      "  warnings.warn(\"dropout option adds dropout after all but last \"\n"
     ]
    },
    {
     "data": {
      "text/plain": [
       "RNNTransducer(\n",
       "  (encoder): EncoderRNNT(\n",
       "    (lstm): LSTM(80, 320, num_layers=4, batch_first=True, dropout=0.2, bidirectional=True)\n",
       "    (output_proj): Linear(in_features=640, out_features=512, bias=True)\n",
       "  )\n",
       "  (decoder): DecoderRNNT(\n",
       "    (embedding): Embedding(30, 512)\n",
       "    (lstm): LSTM(512, 512, batch_first=True, dropout=0.2)\n",
       "    (output_proj): Linear(in_features=512, out_features=512, bias=True)\n",
       "  )\n",
       "  (joiner): Joiner(\n",
       "    (linear): Linear(in_features=512, out_features=30, bias=True)\n",
       "  )\n",
       ")"
      ]
     },
     "execution_count": 23,
     "metadata": {},
     "output_type": "execute_result"
    }
   ],
   "source": [
    "model = RNNTransducer(**hparams[\"model\"])\n",
    "model.to(device)"
   ]
  },
  {
   "cell_type": "code",
   "execution_count": 24,
   "metadata": {},
   "outputs": [],
   "source": [
    "utils.load_checkpoint(model, \"data\", \"model_epoch7.tar\", device)"
   ]
  },
  {
   "cell_type": "code",
   "execution_count": 25,
   "metadata": {
    "id": "0Y00qHnwi-k_"
   },
   "outputs": [
    {
     "name": "stderr",
     "output_type": "stream",
     "text": [
      "Failed to detect the name of this notebook, you can set it manually with the WANDB_NOTEBOOK_NAME environment variable to enable code saving.\n",
      "\u001b[34m\u001b[1mwandb\u001b[0m: Currently logged in as: \u001b[33mvityavitalich\u001b[0m. Use \u001b[1m`wandb login --relogin`\u001b[0m to force relogin\n"
     ]
    },
    {
     "data": {
      "text/html": [
       "Tracking run with wandb version 0.14.2"
      ],
      "text/plain": [
       "<IPython.core.display.HTML object>"
      ]
     },
     "metadata": {},
     "output_type": "display_data"
    },
    {
     "data": {
      "text/html": [
       "Run data is saved locally in <code>/data/home/vitya/DataPrep/experiments/od/wandb/run-20230419_114331-j6lj01zf</code>"
      ],
      "text/plain": [
       "<IPython.core.display.HTML object>"
      ]
     },
     "metadata": {},
     "output_type": "display_data"
    },
    {
     "data": {
      "text/html": [
       "Syncing run <strong><a href='https://wandb.ai/vityavitalich/speech-transducer/runs/j6lj01zf' target=\"_blank\">avid-music-24</a></strong> to <a href='https://wandb.ai/vityavitalich/speech-transducer' target=\"_blank\">Weights & Biases</a> (<a href='https://wandb.me/run' target=\"_blank\">docs</a>)<br/>"
      ],
      "text/plain": [
       "<IPython.core.display.HTML object>"
      ]
     },
     "metadata": {},
     "output_type": "display_data"
    },
    {
     "data": {
      "text/html": [
       " View project at <a href='https://wandb.ai/vityavitalich/speech-transducer' target=\"_blank\">https://wandb.ai/vityavitalich/speech-transducer</a>"
      ],
      "text/plain": [
       "<IPython.core.display.HTML object>"
      ]
     },
     "metadata": {},
     "output_type": "display_data"
    },
    {
     "data": {
      "text/html": [
       " View run at <a href='https://wandb.ai/vityavitalich/speech-transducer/runs/j6lj01zf' target=\"_blank\">https://wandb.ai/vityavitalich/speech-transducer/runs/j6lj01zf</a>"
      ],
      "text/plain": [
       "<IPython.core.display.HTML object>"
      ]
     },
     "metadata": {},
     "output_type": "display_data"
    },
    {
     "data": {
      "text/html": [
       "<button onClick=\"this.nextSibling.style.display='block';this.style.display='none';\">Display W&B run</button><iframe src='https://wandb.ai/vityavitalich/speech-transducer/runs/j6lj01zf?jupyter=true' style='border:none;width:100%;height:420px;display:none;'></iframe>"
      ],
      "text/plain": [
       "<wandb.sdk.wandb_run.Run at 0x7f9f40170eb0>"
      ]
     },
     "execution_count": 25,
     "metadata": {},
     "output_type": "execute_result"
    }
   ],
   "source": [
    "wandb.init(project=\"speech-transducer\", group=\"base-test-1\", config=hparams)"
   ]
  },
  {
   "cell_type": "code",
   "execution_count": 26,
   "metadata": {
    "id": "A6HlgxA9i-k_",
    "outputId": "f87d07dc-27ce-46fa-84ac-cafe7073b69a"
   },
   "outputs": [],
   "source": [
    "optimizer = optim.Adam(model.parameters(), lr=hparams[\"data\"][\"learning_rate\"])\n",
    "criterion = RNNTLoss(blank=tokenizer.get_symbol_index(BLANK_SYMBOL), reduction=\"mean\")\n",
    "test_sample = next(iter(test_loader))"
   ]
  },
  {
   "cell_type": "code",
   "execution_count": null,
   "metadata": {},
   "outputs": [],
   "source": [
    "for epoch in tqdm_notebook(range(1, hparams[\"data\"][\"epochs\"] + 1)):\n",
    "    train(\n",
    "        model,\n",
    "        device,\n",
    "        train_loader,\n",
    "        test_sample,\n",
    "        criterion,\n",
    "        optimizer,\n",
    "        epoch,\n",
    "        eval_period=150,\n",
    "    )\n",
    "    utils.save_checkpoint(\n",
    "        model, checkpoint_name=f\"model_epoch{epoch}.tar\", path=\"data/\"\n",
    "    )\n",
    "    wandb.save(f\"model_epoch{epoch}.tar\")\n",
    "    test(\n",
    "        model,\n",
    "        device,\n",
    "        test_loader,\n",
    "        criterion,\n",
    "        epoch,\n",
    "        total_steps=20,\n",
    "        log_predictions=True,\n",
    "    )\n",
    "\n",
    "utils.save_checkpoint(model, checkpoint_name=f\"model.tar\")"
   ]
  },
  {
   "cell_type": "code",
   "execution_count": 28,
   "metadata": {
    "id": "Dao_2Mj7i-lA"
   },
   "outputs": [
    {
     "name": "stdout",
     "output_type": "stream",
     "text": [
      "Beginning eval...\n"
     ]
    },
    {
     "name": "stderr",
     "output_type": "stream",
     "text": [
      "/tmp/ipykernel_225273/1207032604.py:91: TqdmDeprecationWarning: This function will be removed in tqdm==5.0.0\n",
      "Please use `tqdm.notebook.tqdm` instead of `tqdm.tqdm_notebook`\n",
      "  for i, _data in tqdm_notebook(enumerate(test_loader), total=total_steps):\n"
     ]
    },
    {
     "data": {
      "application/vnd.jupyter.widget-view+json": {
       "model_id": "17b1622dfdc74025abd58ea33b9b286d",
       "version_major": 2,
       "version_minor": 0
      },
      "text/plain": [
       "  0%|          | 0/2620 [00:00<?, ?it/s]"
      ]
     },
     "metadata": {},
     "output_type": "display_data"
    },
    {
     "name": "stdout",
     "output_type": "stream",
     "text": [
      "Epoch: 7, Test set: Average loss: 17.6032, Average CER: 0.133181 Average WER: 0.2872\n",
      "\n"
     ]
    }
   ],
   "source": [
    "epoch = 7\n",
    "test(model, device, test_loader, criterion, epoch)"
   ]
  },
  {
   "attachments": {},
   "cell_type": "markdown",
   "metadata": {},
   "source": [
    "https://api.wandb.ai/links/vityavitalich/o193d3yl\n",
    "\n",
    "репорт по ссылочке выше, там графики и все дела"
   ]
  },
  {
   "cell_type": "code",
   "execution_count": null,
   "metadata": {},
   "outputs": [],
   "source": []
  }
 ],
 "metadata": {
  "colab": {
   "name": "homework3_student.ipynb",
   "provenance": [],
   "toc_visible": true
  },
  "kernelspec": {
   "display_name": "Python 3 (ipykernel)",
   "language": "python",
   "name": "python3"
  },
  "language_info": {
   "codemirror_mode": {
    "name": "ipython",
    "version": 3
   },
   "file_extension": ".py",
   "mimetype": "text/x-python",
   "name": "python",
   "nbconvert_exporter": "python",
   "pygments_lexer": "ipython3",
   "version": "3.9.16"
  }
 },
 "nbformat": 4,
 "nbformat_minor": 1
}
