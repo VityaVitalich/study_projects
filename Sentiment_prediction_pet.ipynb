{
  "nbformat": 4,
  "nbformat_minor": 0,
  "metadata": {
    "kernelspec": {
      "display_name": "Python 3",
      "language": "python",
      "name": "python3"
    },
    "language_info": {
      "codemirror_mode": {
        "name": "ipython",
        "version": 3
      },
      "file_extension": ".py",
      "mimetype": "text/x-python",
      "name": "python",
      "nbconvert_exporter": "python",
      "pygments_lexer": "ipython3",
      "version": "3.9.0"
    },
    "colab": {
      "name": "hw3_2.ipynb",
      "provenance": [],
      "collapsed_sections": [],
      "toc_visible": true
    },
    "accelerator": "GPU"
  },
  "cells": [
    {
      "cell_type": "markdown",
      "metadata": {
        "id": "km3TRQYkowjF"
      },
      "source": [
        "#### Про данные:\n",
        "Каждое ревью состоит из двух текстов: positive и negative - плюсы и минусы отеля. В столбце score находится оценка пользователя - вещественное число 0 до 10. "
      ]
    },
    {
      "cell_type": "code",
      "metadata": {
        "id": "5lF7N7k3SITX"
      },
      "source": [
        "import numpy as np\n",
        "from tqdm import tqdm\n",
        "import sys\n",
        "from gensim.models import FastText\n",
        "from sklearn.metrics import mean_absolute_error\n",
        "import matplotlib.pyplot as plt\n",
        "%matplotlib inline"
      ],
      "execution_count": null,
      "outputs": []
    },
    {
      "cell_type": "code",
      "metadata": {
        "colab": {
          "base_uri": "https://localhost:8080/"
        },
        "id": "PH03MxSRSJUA",
        "outputId": "f394c749-cd85-4332-ade8-a2cf471a15c2"
      },
      "source": [
        "from google.colab import drive\n",
        "drive.mount('/content/drive')"
      ],
      "execution_count": null,
      "outputs": [
        {
          "output_type": "stream",
          "text": [
            "Drive already mounted at /content/drive; to attempt to forcibly remount, call drive.mount(\"/content/drive\", force_remount=True).\n"
          ],
          "name": "stdout"
        }
      ]
    },
    {
      "cell_type": "code",
      "metadata": {
        "id": "0ZbJkUSAowjH"
      },
      "source": [
        "PATH_TO_TRAIN_DATA = '/content/drive/MyDrive/train.csv'"
      ],
      "execution_count": null,
      "outputs": []
    },
    {
      "cell_type": "code",
      "metadata": {
        "colab": {
          "base_uri": "https://localhost:8080/",
          "height": 197
        },
        "id": "zmpat5ORowjI",
        "outputId": "59fd8ddf-40b2-4446-8f2f-7ac687a0c796"
      },
      "source": [
        "import pandas as pd\n",
        "\n",
        "df = pd.read_csv(PATH_TO_TRAIN_DATA)\n",
        "df.head()"
      ],
      "execution_count": null,
      "outputs": [
        {
          "output_type": "execute_result",
          "data": {
            "text/html": [
              "<div>\n",
              "<style scoped>\n",
              "    .dataframe tbody tr th:only-of-type {\n",
              "        vertical-align: middle;\n",
              "    }\n",
              "\n",
              "    .dataframe tbody tr th {\n",
              "        vertical-align: top;\n",
              "    }\n",
              "\n",
              "    .dataframe thead th {\n",
              "        text-align: right;\n",
              "    }\n",
              "</style>\n",
              "<table border=\"1\" class=\"dataframe\">\n",
              "  <thead>\n",
              "    <tr style=\"text-align: right;\">\n",
              "      <th></th>\n",
              "      <th>review_id</th>\n",
              "      <th>negative</th>\n",
              "      <th>positive</th>\n",
              "      <th>score</th>\n",
              "    </tr>\n",
              "  </thead>\n",
              "  <tbody>\n",
              "    <tr>\n",
              "      <th>0</th>\n",
              "      <td>00003c6036f30f590c0ac435efb8739b</td>\n",
              "      <td>There were issues with the wifi connection</td>\n",
              "      <td>No Positive</td>\n",
              "      <td>7.1</td>\n",
              "    </tr>\n",
              "    <tr>\n",
              "      <th>1</th>\n",
              "      <td>00004d18f186bf2489590dc415876f73</td>\n",
              "      <td>TV not working</td>\n",
              "      <td>No Positive</td>\n",
              "      <td>7.5</td>\n",
              "    </tr>\n",
              "    <tr>\n",
              "      <th>2</th>\n",
              "      <td>0000cf900cbb8667fad33a717e9b1cf4</td>\n",
              "      <td>More pillows</td>\n",
              "      <td>Beautiful room Great location Lovely staff</td>\n",
              "      <td>10.0</td>\n",
              "    </tr>\n",
              "    <tr>\n",
              "      <th>3</th>\n",
              "      <td>0000df16edf19e7ad9dd8c5cd6f6925e</td>\n",
              "      <td>Very business</td>\n",
              "      <td>Location</td>\n",
              "      <td>5.4</td>\n",
              "    </tr>\n",
              "    <tr>\n",
              "      <th>4</th>\n",
              "      <td>00025e1aa3ac32edb496db49e76bbd00</td>\n",
              "      <td>Rooms could do with a bit of a refurbishment ...</td>\n",
              "      <td>Nice breakfast handy for Victoria train stati...</td>\n",
              "      <td>6.7</td>\n",
              "    </tr>\n",
              "  </tbody>\n",
              "</table>\n",
              "</div>"
            ],
            "text/plain": [
              "                          review_id  ... score\n",
              "0  00003c6036f30f590c0ac435efb8739b  ...   7.1\n",
              "1  00004d18f186bf2489590dc415876f73  ...   7.5\n",
              "2  0000cf900cbb8667fad33a717e9b1cf4  ...  10.0\n",
              "3  0000df16edf19e7ad9dd8c5cd6f6925e  ...   5.4\n",
              "4  00025e1aa3ac32edb496db49e76bbd00  ...   6.7\n",
              "\n",
              "[5 rows x 4 columns]"
            ]
          },
          "metadata": {
            "tags": []
          },
          "execution_count": 5
        }
      ]
    },
    {
      "cell_type": "markdown",
      "metadata": {
        "id": "sBCGYWcyowjK"
      },
      "source": [
        "Сделаем небольшой препроцессинг текстов: удалим знаки препинания, приведем все слова к нижнему регистру. \n"
      ]
    },
    {
      "cell_type": "markdown",
      "metadata": {
        "id": "6VPGgv1AowjK"
      },
      "source": [
        "Также мы добавили разбиение текстов на токены. Теперь каждая строка-ревью стала массивом токенов."
      ]
    },
    {
      "cell_type": "code",
      "metadata": {
        "colab": {
          "base_uri": "https://localhost:8080/"
        },
        "id": "4DcGdvQTowjL",
        "outputId": "f0f085b0-afc0-42ea-b41a-bf92d2eba031"
      },
      "source": [
        "import string\n",
        "from nltk.corpus import stopwords\n",
        "import nltk\n",
        "nltk.download(\"stopwords\")\n",
        "nltk.download('punkt')\n",
        "sum_noise = list(string.punctuation)\n",
        "\n",
        "from nltk.tokenize import word_tokenize\n",
        "\n",
        "def process_text(text):\n",
        "    return [word for word in word_tokenize(text.lower()) if word not in sum_noise]"
      ],
      "execution_count": null,
      "outputs": [
        {
          "output_type": "stream",
          "text": [
            "[nltk_data] Downloading package stopwords to /root/nltk_data...\n",
            "[nltk_data]   Package stopwords is already up-to-date!\n",
            "[nltk_data] Downloading package punkt to /root/nltk_data...\n",
            "[nltk_data]   Package punkt is already up-to-date!\n"
          ],
          "name": "stdout"
        }
      ]
    },
    {
      "cell_type": "code",
      "metadata": {
        "id": "JCANTOqhowjM"
      },
      "source": [
        "from sklearn.model_selection import train_test_split\n",
        "\n",
        "df_train, df_test = train_test_split(df)"
      ],
      "execution_count": null,
      "outputs": []
    },
    {
      "cell_type": "markdown",
      "metadata": {
        "id": "qN3KwA4bowjN"
      },
      "source": [
        "Обучим логистическую регрессию на TF-IDF векторах текстов."
      ]
    },
    {
      "cell_type": "code",
      "metadata": {
        "id": "gkZqGciRowjN"
      },
      "source": [
        "from sklearn.feature_extraction.text import TfidfVectorizer\n",
        "from sklearn.linear_model import LinearRegression"
      ],
      "execution_count": null,
      "outputs": []
    },
    {
      "cell_type": "code",
      "metadata": {
        "colab": {
          "base_uri": "https://localhost:8080/"
        },
        "id": "8UTkaEqQUHeG",
        "outputId": "2a1177fb-7d82-4733-9dc1-2d7dd88175af"
      },
      "source": [
        "df_train['com'] = df_train['negative'] + ' ' + df_train['positive']\n",
        "df_test['com'] = df_test['negative'] + ' ' + df_test['positive']\n",
        "linreg = LinearRegression()"
      ],
      "execution_count": null,
      "outputs": [
        {
          "output_type": "stream",
          "text": [
            "/usr/local/lib/python3.6/dist-packages/ipykernel_launcher.py:1: SettingWithCopyWarning: \n",
            "A value is trying to be set on a copy of a slice from a DataFrame.\n",
            "Try using .loc[row_indexer,col_indexer] = value instead\n",
            "\n",
            "See the caveats in the documentation: https://pandas.pydata.org/pandas-docs/stable/user_guide/indexing.html#returning-a-view-versus-a-copy\n",
            "  \"\"\"Entry point for launching an IPython kernel.\n",
            "/usr/local/lib/python3.6/dist-packages/ipykernel_launcher.py:2: SettingWithCopyWarning: \n",
            "A value is trying to be set on a copy of a slice from a DataFrame.\n",
            "Try using .loc[row_indexer,col_indexer] = value instead\n",
            "\n",
            "See the caveats in the documentation: https://pandas.pydata.org/pandas-docs/stable/user_guide/indexing.html#returning-a-view-versus-a-copy\n",
            "  \n"
          ],
          "name": "stderr"
        }
      ]
    },
    {
      "cell_type": "code",
      "metadata": {
        "id": "2DmfFR_8TDk6"
      },
      "source": [
        "tfidf_vec = TfidfVectorizer()\n",
        "X = tfidf_vec.fit_transform(df_train['com'])"
      ],
      "execution_count": null,
      "outputs": []
    },
    {
      "cell_type": "code",
      "metadata": {
        "colab": {
          "base_uri": "https://localhost:8080/"
        },
        "id": "odlPRocXWZuS",
        "outputId": "273b91dd-82c1-4ea7-a227-36570eec2cc1"
      },
      "source": [
        "linreg.fit(X, df_train['score'])"
      ],
      "execution_count": null,
      "outputs": [
        {
          "output_type": "execute_result",
          "data": {
            "text/plain": [
              "LinearRegression(copy_X=True, fit_intercept=True, n_jobs=None, normalize=False)"
            ]
          },
          "metadata": {
            "tags": []
          },
          "execution_count": 47
        }
      ]
    },
    {
      "cell_type": "markdown",
      "metadata": {
        "id": "cONQdy9qowjO"
      },
      "source": [
        "Обучим логистическую регрессию на усредненных Word2Vec векторах. "
      ]
    },
    {
      "cell_type": "code",
      "metadata": {
        "id": "tbxCCD-howjO"
      },
      "source": [
        "import gensim"
      ],
      "execution_count": null,
      "outputs": []
    },
    {
      "cell_type": "code",
      "metadata": {
        "colab": {
          "base_uri": "https://localhost:8080/"
        },
        "id": "4R3y6RHFkakK",
        "outputId": "1a7ebca6-b40d-4942-d2cf-cb532e318d37"
      },
      "source": [
        "df_train['com'] = df_train['com'].apply(process_text)\n",
        "df_test['com'] = df_test['com'].apply(process_text)"
      ],
      "execution_count": null,
      "outputs": [
        {
          "output_type": "stream",
          "text": [
            "/usr/local/lib/python3.6/dist-packages/ipykernel_launcher.py:1: SettingWithCopyWarning: \n",
            "A value is trying to be set on a copy of a slice from a DataFrame.\n",
            "Try using .loc[row_indexer,col_indexer] = value instead\n",
            "\n",
            "See the caveats in the documentation: https://pandas.pydata.org/pandas-docs/stable/user_guide/indexing.html#returning-a-view-versus-a-copy\n",
            "  \"\"\"Entry point for launching an IPython kernel.\n",
            "/usr/local/lib/python3.6/dist-packages/ipykernel_launcher.py:2: SettingWithCopyWarning: \n",
            "A value is trying to be set on a copy of a slice from a DataFrame.\n",
            "Try using .loc[row_indexer,col_indexer] = value instead\n",
            "\n",
            "See the caveats in the documentation: https://pandas.pydata.org/pandas-docs/stable/user_guide/indexing.html#returning-a-view-versus-a-copy\n",
            "  \n"
          ],
          "name": "stderr"
        }
      ]
    },
    {
      "cell_type": "code",
      "metadata": {
        "id": "5jkB6fgadESJ"
      },
      "source": [
        "sizes = [100, 200, 300, 400, 500]"
      ],
      "execution_count": null,
      "outputs": []
    },
    {
      "cell_type": "code",
      "metadata": {
        "colab": {
          "base_uri": "https://localhost:8080/"
        },
        "id": "YPkwgWFmiGhp",
        "outputId": "de348962-4516-4301-9180-10d0e7c991e6"
      },
      "source": [
        "result_1 = []\n",
        "for size in tqdm(sizes):\n",
        "  model =  gensim.models.word2vec.Word2Vec(df_train['com'], size = size, min_count=1)\n",
        "  w2e = []\n",
        "  for com in (df_train['com']):\n",
        "    emb = np.array([])\n",
        "    i = 0\n",
        "    for word in com:\n",
        "      if word in model.wv.vocab:\n",
        "        i+=1\n",
        "        if emb.size:\n",
        "          emb = emb+model.wv[word]\n",
        "        elif not emb.size:\n",
        "          emb = model.wv[word]\n",
        "    emb = emb/i\n",
        "    if emb.size == 0:\n",
        "      emb = np.zeros(size)\n",
        "    \n",
        "    w2e.append(emb)\n",
        "\n",
        "  linreg.fit(w2e, df_train['score'])\n",
        "\n",
        "  w2et = []\n",
        "  for com in (df_test['com']):\n",
        "    emb = np.array([])\n",
        "    i = 0\n",
        "    for word in com:\n",
        "      if word in model.wv.vocab:\n",
        "        i+=1\n",
        "        if emb.size:\n",
        "          emb = emb+model.wv[word]\n",
        "        elif not emb.size:\n",
        "          emb = model.wv[word]\n",
        "    emb = emb/i\n",
        "    if emb.size == 0:\n",
        "      emb = np.zeros(size)\n",
        "    w2et.append(emb)\n",
        "\n",
        "  y_pred = linreg.predict(w2et)\n",
        "  result_1.append(mean_absolute_error(y_pred, df_test['score']))"
      ],
      "execution_count": null,
      "outputs": [
        {
          "output_type": "stream",
          "text": [
            "\n",
            "\n",
            "  0%|          | 0/5 [00:00<?, ?it/s]\u001b[A\u001b[A\n",
            "\n",
            " 20%|██        | 1/5 [00:20<01:22, 20.63s/it]\u001b[A\u001b[A\n",
            "\n",
            " 40%|████      | 2/5 [00:44<01:04, 21.53s/it]\u001b[A\u001b[A\n",
            "\n",
            " 60%|██████    | 3/5 [01:11<00:46, 23.11s/it]\u001b[A\u001b[A\n",
            "\n",
            " 80%|████████  | 4/5 [01:41<00:25, 25.17s/it]\u001b[A\u001b[A\n",
            "\n",
            "100%|██████████| 5/5 [02:14<00:00, 26.99s/it]\n"
          ],
          "name": "stderr"
        }
      ]
    },
    {
      "cell_type": "markdown",
      "metadata": {
        "id": "YdG7WCTZowjP"
      },
      "source": [
        "Усредняя w2v вектора, мы предполагаем, что каждое слово имеет равноценный вклад в смысл предложения, однако это может быть не совсем так. Теперь воспользуемся другой концепцией и перевзвесим слова при получении итогового эмбеддинга текста. В качестве весов используем IDF (Inverse document frequency)"
      ]
    },
    {
      "cell_type": "code",
      "metadata": {
        "id": "umkemccF2M2_"
      },
      "source": [
        "idf = tfidf_vec.idf_\n",
        "idf_dickt = (dict(zip(tfidf_vec.get_feature_names(), idf)))\n",
        "\n",
        "#https://stackoverflow.com/questions/23792781/tf-idf-feature-weights-using-sklearn-feature-extraction-text-tfidfvectorizer"
      ],
      "execution_count": null,
      "outputs": []
    },
    {
      "cell_type": "code",
      "metadata": {
        "colab": {
          "base_uri": "https://localhost:8080/"
        },
        "id": "AcG5gHG22RFs",
        "outputId": "56034215-f817-4f35-bae3-1f7420f51b10"
      },
      "source": [
        "result_2 = []\n",
        "for size in tqdm(sizes):\n",
        "  model =  gensim.models.word2vec.Word2Vec(df_train['com'], size = size, min_count=1)\n",
        "  w2e = []\n",
        "  for com in (df_train['com']):\n",
        "    emb = np.array([])\n",
        "    i = 0\n",
        "    for word in com:\n",
        "      if word in model.wv.vocab:\n",
        "        i +=1\n",
        "        try:\n",
        "          weight = idf_dickt[word]\n",
        "        except:\n",
        "          weight = 1\n",
        "        if emb.size:\n",
        "          emb = emb+(model.wv[word]*weight)\n",
        "        elif not emb.size:\n",
        "          emb = model.wv[word]*weight\n",
        "    emb = emb/i\n",
        "    if emb.size == 0:\n",
        "      emb = np.zeros(size)\n",
        "    w2e.append(emb)\n",
        "\n",
        "  linreg.fit(w2e, df_train['score'])\n",
        "\n",
        "  w2et = []\n",
        "  for com in (df_test['com']):\n",
        "    emb = np.array([])\n",
        "    i = 0\n",
        "    for word in com:\n",
        "      if word in model.wv.vocab:\n",
        "        i +=1\n",
        "        try:\n",
        "          weight = idf_dickt[word]\n",
        "        except:\n",
        "          weight = 1\n",
        "        if emb.size:\n",
        "          emb = emb+(model.wv[word]*weight)\n",
        "        elif not emb.size:\n",
        "          emb = model.wv[word]*weight\n",
        "    emb = emb/i\n",
        "    if emb.size == 0:\n",
        "      emb = np.zeros(size)\n",
        "    w2et.append(emb)\n",
        "\n",
        "  y_pred = linreg.predict(w2et)\n",
        "  result_2.append(mean_absolute_error(y_pred, df_test['score']))"
      ],
      "execution_count": null,
      "outputs": [
        {
          "output_type": "stream",
          "text": [
            "\n",
            "\n",
            "  0%|          | 0/5 [00:00<?, ?it/s]\u001b[A\u001b[A\n",
            "\n",
            " 20%|██        | 1/5 [00:24<01:37, 24.40s/it]\u001b[A\u001b[A\n",
            "\n",
            " 40%|████      | 2/5 [00:51<01:15, 25.21s/it]\u001b[A\u001b[A\n",
            "\n",
            " 60%|██████    | 3/5 [01:22<00:54, 27.00s/it]\u001b[A\u001b[A\n",
            "\n",
            " 80%|████████  | 4/5 [01:56<00:29, 29.02s/it]\u001b[A\u001b[A\n",
            "\n",
            "100%|██████████| 5/5 [02:34<00:00, 30.82s/it]\n"
          ],
          "name": "stderr"
        }
      ]
    },
    {
      "cell_type": "code",
      "metadata": {
        "colab": {
          "base_uri": "https://localhost:8080/",
          "height": 266
        },
        "id": "cA_vGzILSRxA",
        "outputId": "9cae10ab-6236-4719-db5f-9325c9df5761"
      },
      "source": [
        "plt.plot(sizes, result_2, label='with idf')\n",
        "plt.plot(sizes, result_1, label = 'without idf')\n",
        "plt.xticks(sizes)\n",
        "plt.legend()\n",
        "plt.show()"
      ],
      "execution_count": null,
      "outputs": [
        {
          "output_type": "display_data",
          "data": {
            "image/png": "[encoded data removed]",
            "text/plain": [
              "<Figure size 432x288 with 1 Axes>"
            ]
          },
          "metadata": {
            "tags": [],
            "needs_background": "light"
          }
        }
      ]
    },
    {
      "cell_type": "markdown",
      "metadata": {
        "id": "MR7WhYfkWRN8"
      },
      "source": [
        "Ну они падают с увеличением размерности вектора примерно одинаково. Есть соображение о том, что нормирование на веса может давать лучший результат, так как некоторые значимые для этого документа слова будут иметь большой вес и финальный эмбеддинг предложения будет ближе к этому значимому слову. И наоборот менее значимые, частые слова не будут вносить столько импакта\n"
      ]
    },
    {
      "cell_type": "markdown",
      "metadata": {
        "id": "i2Mz8qALowjQ"
      },
      "source": [
        "Теперь обучим логистическую регрессию на любых других эмбеддингах размерности 300 и сравним качество с Word2Vec."
      ]
    },
    {
      "cell_type": "code",
      "metadata": {
        "colab": {
          "base_uri": "https://localhost:8080/"
        },
        "id": "dlM4-5XSbeR3",
        "outputId": "e9d0aacf-b49f-4d70-ae2d-d52bedde6802"
      },
      "source": [
        "model = FastText(sentences=df_train['com'], size = 300, min_count=1)\n",
        "result_3 = []\n",
        "w2e = []\n",
        "for com in (df_train['com']):\n",
        "  emb = np.array([])\n",
        "  i = 0\n",
        "  for word in com:\n",
        "    if word in model.wv.vocab:\n",
        "      i+=1\n",
        "      if emb.size:\n",
        "        emb = emb+model.wv[word]\n",
        "      elif not emb.size:\n",
        "        emb = model.wv[word]\n",
        "  emb = emb/i\n",
        "  if emb.size == 0:\n",
        "    emb = np.zeros(300)\n",
        "  \n",
        "  w2e.append(emb)\n",
        "\n",
        "linreg.fit(w2e, df_train['score'])\n",
        "\n",
        "w2et = []\n",
        "for com in (df_test['com']):\n",
        "  emb = np.array([])\n",
        "  i = 0\n",
        "  for word in com:\n",
        "    if word in model.wv.vocab:\n",
        "      i+=1\n",
        "      if emb.size:\n",
        "        emb = emb+model.wv[word]\n",
        "      elif not emb.size:\n",
        "        emb = model.wv[word]\n",
        "  emb = emb/i\n",
        "  if emb.size == 0:\n",
        "    emb = np.zeros(300)\n",
        "  w2et.append(emb)\n",
        "\n",
        "y_pred = linreg.predict(w2et)\n",
        "result_3.append(mean_absolute_error(y_pred, df_test['score']))\n",
        "\n",
        "print(result_1[2], result_3[0])"
      ],
      "execution_count": null,
      "outputs": [
        {
          "output_type": "stream",
          "text": [
            "0.9866001466527148 0.9922500766119188\n"
          ],
          "name": "stdout"
        }
      ]
    },
    {
      "cell_type": "markdown",
      "metadata": {
        "id": "caT9T5W4gCka"
      },
      "source": [
        "ну различия не особо большие, хотя по итогу ворд2век будет получше\n",
        "по хорошему, фасттекст должен лучше выхватывать опечатки и редкие слова и быть круче, но на словах он Лев Толстой, как говорится"
      ]
    },
    {
      "cell_type": "markdown",
      "metadata": {
        "id": "0o0QCZCQowjR"
      },
      "source": [
        "Теперь воспользуемся более продвинутыми методами обработки текстовых данных. Обучим RNN/Transformer для предсказания пользовательской оценки. "
      ]
    },
    {
      "cell_type": "code",
      "metadata": {
        "id": "pRxezTSkowjS"
      },
      "source": [
        "import torch\n",
        "from torch import nn\n",
        "from torch.nn import functional as F"
      ],
      "execution_count": null,
      "outputs": []
    },
    {
      "cell_type": "code",
      "metadata": {
        "id": "Zyegj7WNowjL",
        "colab": {
          "base_uri": "https://localhost:8080/"
        },
        "outputId": "64099537-eff0-4aa4-d515-eaa1e4d2fa98"
      },
      "source": [
        "\n",
        "df['negative'] = df['negative'].apply(process_text)\n",
        "df['positive'] = df['positive'].apply(process_text)\n",
        "\n",
        "df_train['com'] = df_train['com'].apply(process_text)\n",
        "df_test['com'] = df_test['com'].apply(process_text)"
      ],
      "execution_count": null,
      "outputs": [
        {
          "output_type": "stream",
          "text": [
            "/usr/local/lib/python3.6/dist-packages/ipykernel_launcher.py:5: SettingWithCopyWarning: \n",
            "A value is trying to be set on a copy of a slice from a DataFrame.\n",
            "Try using .loc[row_indexer,col_indexer] = value instead\n",
            "\n",
            "See the caveats in the documentation: https://pandas.pydata.org/pandas-docs/stable/user_guide/indexing.html#returning-a-view-versus-a-copy\n",
            "  \"\"\"\n",
            "/usr/local/lib/python3.6/dist-packages/ipykernel_launcher.py:6: SettingWithCopyWarning: \n",
            "A value is trying to be set on a copy of a slice from a DataFrame.\n",
            "Try using .loc[row_indexer,col_indexer] = value instead\n",
            "\n",
            "See the caveats in the documentation: https://pandas.pydata.org/pandas-docs/stable/user_guide/indexing.html#returning-a-view-versus-a-copy\n",
            "  \n"
          ],
          "name": "stderr"
        }
      ]
    },
    {
      "cell_type": "code",
      "metadata": {
        "id": "-QRR1U6KowjS"
      },
      "source": [
        "WORDS = set()\n",
        "for sent in list(df['positive']):\n",
        "    for w in sent:\n",
        "        WORDS.add(w)\n",
        "        \n",
        "for sent in list(df['negative']):\n",
        "    for w in sent:\n",
        "        WORDS.add(w)"
      ],
      "execution_count": null,
      "outputs": []
    },
    {
      "cell_type": "code",
      "metadata": {
        "id": "YAg_mgEkowjS"
      },
      "source": [
        "int2word = dict(enumerate(tuple(WORDS)))\n",
        "word2int = {w: ii for ii, w in int2word.items()}"
      ],
      "execution_count": null,
      "outputs": []
    },
    {
      "cell_type": "code",
      "metadata": {
        "id": "oi-I7tOGowjT"
      },
      "source": [
        "MAX_LEN = max(max(df['positive'].apply(len)), max(df['negative'].apply(len)))\n",
        "#MEAN_LEN = max(np.quantile(df['positive'].apply(len), 0.95), np.quantile(df['negative'].apply(len), 0.95))\n",
        "mean_len = int(max(np.quantile(df_train['com'].apply(len), 0.95), np.quantile(df_test['com'].apply(len), 0.95)))"
      ],
      "execution_count": null,
      "outputs": []
    },
    {
      "cell_type": "code",
      "metadata": {
        "id": "CGn5v20JowjT",
        "colab": {
          "base_uri": "https://localhost:8080/"
        },
        "outputId": "eaa446b2-c76b-4f2a-ca3e-86a3715341f4"
      },
      "source": [
        "MAX_LEN, mean_len"
      ],
      "execution_count": null,
      "outputs": [
        {
          "output_type": "execute_result",
          "data": {
            "text/plain": [
              "(399, 103)"
            ]
          },
          "metadata": {
            "tags": []
          },
          "execution_count": 15
        }
      ]
    },
    {
      "cell_type": "code",
      "metadata": {
        "id": "9H-pwiVkEybX"
      },
      "source": [
        "df_test.index= np.arange(len(df_test))"
      ],
      "execution_count": null,
      "outputs": []
    },
    {
      "cell_type": "code",
      "metadata": {
        "id": "0kkvfp6xI2ZS"
      },
      "source": [
        "df_train.index = np.arange(len(df_train))"
      ],
      "execution_count": null,
      "outputs": []
    },
    {
      "cell_type": "code",
      "metadata": {
        "id": "QYxanS5JowjU"
      },
      "source": [
        "from torch.nn.utils.rnn import pad_sequence\n",
        "\n",
        "train_pos_pad = pad_sequence([torch.as_tensor([word2int[w] for w in seq][:mean_len]) for seq in df_train['com']], \n",
        "                           batch_first=True).tolist()\n",
        "test_pos_pad = pad_sequence([torch.as_tensor([word2int[w] for w in seq][:mean_len]) for seq in df_test['com']], \n",
        "                           batch_first=True).tolist() "
      ],
      "execution_count": null,
      "outputs": []
    },
    {
      "cell_type": "code",
      "metadata": {
        "colab": {
          "base_uri": "https://localhost:8080/"
        },
        "id": "zulc3rOA2GHv",
        "outputId": "04b34dd4-6b17-4e61-a5e2-3bd12d4aa855"
      },
      "source": [
        "\n",
        "leng_t = []\n",
        "for com in df_train['com']:\n",
        "  leng_t.append(len(com))\n",
        "\n",
        "leng_ts = []\n",
        "for com in df_test['com']:\n",
        "  leng_ts.append(len(com))\n",
        "\n",
        "df_train['enc'] = train_pos_pad\n",
        "df_train['len'] = leng_t\n",
        "\n",
        "df_test['enc']= test_pos_pad\n",
        "df_test['len'] = leng_ts"
      ],
      "execution_count": null,
      "outputs": [
        {
          "output_type": "stream",
          "text": [
            "/usr/local/lib/python3.6/dist-packages/ipykernel_launcher.py:10: SettingWithCopyWarning: \n",
            "A value is trying to be set on a copy of a slice from a DataFrame.\n",
            "Try using .loc[row_indexer,col_indexer] = value instead\n",
            "\n",
            "See the caveats in the documentation: https://pandas.pydata.org/pandas-docs/stable/user_guide/indexing.html#returning-a-view-versus-a-copy\n",
            "  # Remove the CWD from sys.path while we load stuff.\n",
            "/usr/local/lib/python3.6/dist-packages/ipykernel_launcher.py:11: SettingWithCopyWarning: \n",
            "A value is trying to be set on a copy of a slice from a DataFrame.\n",
            "Try using .loc[row_indexer,col_indexer] = value instead\n",
            "\n",
            "See the caveats in the documentation: https://pandas.pydata.org/pandas-docs/stable/user_guide/indexing.html#returning-a-view-versus-a-copy\n",
            "  # This is added back by InteractiveShellApp.init_path()\n",
            "/usr/local/lib/python3.6/dist-packages/ipykernel_launcher.py:13: SettingWithCopyWarning: \n",
            "A value is trying to be set on a copy of a slice from a DataFrame.\n",
            "Try using .loc[row_indexer,col_indexer] = value instead\n",
            "\n",
            "See the caveats in the documentation: https://pandas.pydata.org/pandas-docs/stable/user_guide/indexing.html#returning-a-view-versus-a-copy\n",
            "  del sys.path[0]\n",
            "/usr/local/lib/python3.6/dist-packages/ipykernel_launcher.py:14: SettingWithCopyWarning: \n",
            "A value is trying to be set on a copy of a slice from a DataFrame.\n",
            "Try using .loc[row_indexer,col_indexer] = value instead\n",
            "\n",
            "See the caveats in the documentation: https://pandas.pydata.org/pandas-docs/stable/user_guide/indexing.html#returning-a-view-versus-a-copy\n",
            "  \n"
          ],
          "name": "stderr"
        }
      ]
    },
    {
      "cell_type": "code",
      "metadata": {
        "id": "quDIVtmkowjU"
      },
      "source": [
        "class ReviewsDataset(torch.utils.data.Dataset):\n",
        "    def __init__(self, df):\n",
        "      self.x = df['enc']\n",
        "      self.y = df['score']\n",
        "      self.l = df['len']\n",
        "\n",
        "      \n",
        "\n",
        "    def __len__(self):\n",
        "        return len(self.y)\n",
        "    \n",
        "    def __getitem__(self, idx):\n",
        "        return torch.tensor(self.x[idx]), self.y[idx], self.l[idx]"
      ],
      "execution_count": null,
      "outputs": []
    },
    {
      "cell_type": "code",
      "metadata": {
        "id": "LA_7L6mdowjV"
      },
      "source": [
        "BATCH_SIZE = 1\n",
        "\n",
        "train_dataset = ReviewsDataset(df_train)\n",
        "test_dataset = ReviewsDataset(df_test)\n",
        "\n",
        "train_dataloader = torch.utils.data.DataLoader(train_dataset, batch_size=BATCH_SIZE)\n",
        "test_dataloader = torch.utils.data.DataLoader(test_dataset, batch_size=BATCH_SIZE)"
      ],
      "execution_count": null,
      "outputs": []
    },
    {
      "cell_type": "code",
      "metadata": {
        "id": "sspxgT7g7080"
      },
      "source": [
        "#https://pytorch.org/tutorials/beginner/nlp/sequence_models_tutorial.html\n",
        "class LSTM(nn.Module):\n",
        "\n",
        "    def __init__(self, embedding_dim, hidden_dim, vocab_size): \n",
        "        super().__init__()\n",
        "        #self.hidden_dim = hidden_dim\n",
        "\n",
        "        self.word_embeddings = nn.Embedding(vocab_size, embedding_dim, padding_idx=0)\n",
        "\n",
        "        # The LSTM takes word embeddings as inputs, and outputs hidden states\n",
        "        # with dimensionality hidden_dim.\n",
        "        self.lstm = nn.LSTM(embedding_dim, hidden_dim, batch_first=True)\n",
        "\n",
        "        # The linear layer that maps from hidden state space to tag space\n",
        "        self.hidden2tag = nn.Linear(hidden_dim, 1)\n",
        "        self.dropout = nn.Dropout(0.1)\n",
        "\n",
        "    def forward(self, x, l):\n",
        "        x = self.word_embeddings(x)\n",
        "        x = self.dropout(x)\n",
        "        lstmout, (ht, ct) = self.lstm(x)\n",
        "        x = self.hidden2tag(ht[-1])\n",
        "        return x\n"
      ],
      "execution_count": null,
      "outputs": []
    },
    {
      "cell_type": "code",
      "metadata": {
        "id": "WzwLdq1CowjV"
      },
      "source": [
        "\n",
        "def train(model,train_dataloader,test_dataloader,epochs,optimizer):\n",
        "    for i in range(epochs):\n",
        "        model.train().to(device)\n",
        "        sl = 0.0\n",
        "        cnt = 0\n",
        "        with tqdm(total=len(train_dataloader), file=sys.stdout) as prbar:\n",
        "          for x,y,l in (train_dataloader):\n",
        "\n",
        "            x = x.long().to(device)\n",
        "            y = y.float().to(device)\n",
        "            l = l.to(device)\n",
        "            \n",
        "            y_pred = model(x,l).to(device)\n",
        "            optimizer.zero_grad()\n",
        "\n",
        "            loss = F.mse_loss(y_pred, y.unsqueeze(-1))\n",
        "            loss.backward()\n",
        "            optimizer.step()\n",
        "\n",
        "            sl += mean_absolute_error(y_pred.cpu().detach().numpy(), y.unsqueeze(-1).cpu().numpy())\n",
        "            cnt += y.shape[0]\n",
        "            \n",
        "            \n",
        "            prbar.set_description(f\"Losses: {sl/cnt}\")\n",
        "            prbar.update(1)\n",
        "\n",
        "\n",
        "def model_eval(model,val_dataloader):\n",
        "    model.eval().to(device)\n",
        "    cnt = 0\n",
        "    sl = 0.0\n",
        "    with tqdm(total=len(val_dataloader), file=sys.stdout) as prbar:\n",
        "      for x,y,l in val_dataloader:\n",
        "        x = x.long().to(device)\n",
        "        y = y.long().to(device)\n",
        "        l = l.to(device)\n",
        "\n",
        "        y_pred = model(x,l).to(device)\n",
        "        \n",
        "        sl += mean_absolute_error(y_hat.cpu().detach().numpy(), y.unsqueeze(-1).cpu().numpy())\n",
        "        cnt += y.shape[0]\n",
        "\n",
        "        \n",
        "        prbar.set_description(f\"Losses: {sl/cnt}\")\n",
        "        prbar.update(1)\n",
        "    return (sl/cnt)\n"
      ],
      "execution_count": null,
      "outputs": []
    },
    {
      "cell_type": "code",
      "metadata": {
        "id": "AeXpoJ3aALIQ"
      },
      "source": [
        "model = LSTM(300, 128, len(WORDS))\n",
        "params = filter(lambda p: p.requires_grad, model.parameters())\n",
        "optimizer = torch.optim.Adam(params, 0.001)\n",
        "epochs = 1\n",
        "device = 'cuda:0'"
      ],
      "execution_count": null,
      "outputs": []
    },
    {
      "cell_type": "code",
      "metadata": {
        "id": "hBvzaMP6owjW",
        "colab": {
          "base_uri": "https://localhost:8080/"
        },
        "outputId": "33fbfdc4-a7bf-493e-eeba-1aab5b980df0"
      },
      "source": [
        "train(model,train_dataloader,test_dataloader,epochs,optimizer)"
      ],
      "execution_count": null,
      "outputs": [
        {
          "output_type": "stream",
          "text": [
            "Losses: 0.8881638397280375: 100%|██████████| 75000/75000 [14:03<00:00, 88.92it/s]\n",
            "Losses: 0.9631611318111419:  33%|███▎      | 25000/75000 [01:50<03:40, 226.86it/s]\n",
            "0.9631611318111419 0.8881638397280375\n"
          ],
          "name": "stdout"
        }
      ]
    },
    {
      "cell_type": "code",
      "metadata": {
        "id": "NnYse0W7skzs"
      },
      "source": [
        "acc_val = model_eval(model, test_dataloader)"
      ],
      "execution_count": null,
      "outputs": []
    },
    {
      "cell_type": "code",
      "metadata": {
        "colab": {
          "base_uri": "https://localhost:8080/"
        },
        "id": "FkuECXmbydbZ",
        "outputId": "72d7654c-e8f2-4053-fa7f-7bf3454ede73"
      },
      "source": [
        "print ('качество на тестовой выборке = ', acc_val)"
      ],
      "execution_count": null,
      "outputs": [
        {
          "output_type": "stream",
          "text": [
            "качество на тестовой выборке =  0.9631611318111419\n"
          ],
          "name": "stdout"
        }
      ]
    },
    {
      "cell_type": "code",
      "metadata": {
        "id": "rJHpsQQX9Ssd"
      },
      "source": [
        ""
      ],
      "execution_count": null,
      "outputs": []
    }
  ]
}