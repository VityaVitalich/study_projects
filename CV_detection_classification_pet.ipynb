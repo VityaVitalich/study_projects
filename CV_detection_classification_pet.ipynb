{
  "nbformat": 4,
  "nbformat_minor": 0,
  "metadata": {
    "kernelspec": {
      "display_name": "Python 3",
      "language": "python",
      "name": "python3"
    },
    "language_info": {
      "codemirror_mode": {
        "name": "ipython",
        "version": 3
      },
      "file_extension": ".py",
      "mimetype": "text/x-python",
      "name": "python",
      "nbconvert_exporter": "python",
      "pygments_lexer": "ipython3",
      "version": "3.7.6"
    },
    "colab": {
      "name": "Копия блокнота \"hw2_2.ipynb\"",
      "provenance": [],
      "collapsed_sections": []
    },
    "accelerator": "GPU",
    "widgets": {
      "application/vnd.jupyter.widget-state+json": {
        "145e1375878743fd84de7f379afc9c29": {
          "model_module": "@jupyter-widgets/controls",
          "model_name": "HBoxModel",
          "state": {
            "_view_name": "HBoxView",
            "_dom_classes": [],
            "_model_name": "HBoxModel",
            "_view_module": "@jupyter-widgets/controls",
            "_model_module_version": "1.5.0",
            "_view_count": null,
            "_view_module_version": "1.5.0",
            "box_style": "",
            "layout": "IPY_MODEL_c52f999d3f5a498e9ff61edb5809d0b2",
            "_model_module": "@jupyter-widgets/controls",
            "children": [
              "IPY_MODEL_c4df61a676c0474bad58f002d9ad34c2",
              "IPY_MODEL_ab294089bb514263b2c328ba0c995cb9"
            ]
          },
          "model_module_version": "1.5.0"
        },
        "c52f999d3f5a498e9ff61edb5809d0b2": {
          "model_module": "@jupyter-widgets/base",
          "model_name": "LayoutModel",
          "state": {
            "_view_name": "LayoutView",
            "grid_template_rows": null,
            "right": null,
            "justify_content": null,
            "_view_module": "@jupyter-widgets/base",
            "overflow": null,
            "_model_module_version": "1.2.0",
            "_view_count": null,
            "flex_flow": null,
            "width": null,
            "min_width": null,
            "border": null,
            "align_items": null,
            "bottom": null,
            "_model_module": "@jupyter-widgets/base",
            "top": null,
            "grid_column": null,
            "overflow_y": null,
            "overflow_x": null,
            "grid_auto_flow": null,
            "grid_area": null,
            "grid_template_columns": null,
            "flex": null,
            "_model_name": "LayoutModel",
            "justify_items": null,
            "grid_row": null,
            "max_height": null,
            "align_content": null,
            "visibility": null,
            "align_self": null,
            "height": null,
            "min_height": null,
            "padding": null,
            "grid_auto_rows": null,
            "grid_gap": null,
            "max_width": null,
            "order": null,
            "_view_module_version": "1.2.0",
            "grid_template_areas": null,
            "object_position": null,
            "object_fit": null,
            "grid_auto_columns": null,
            "margin": null,
            "display": null,
            "left": null
          },
          "model_module_version": "1.2.0"
        },
        "c4df61a676c0474bad58f002d9ad34c2": {
          "model_module": "@jupyter-widgets/controls",
          "model_name": "FloatProgressModel",
          "state": {
            "_view_name": "ProgressView",
            "style": "IPY_MODEL_a52908f32d604b47b45452959d43c713",
            "_dom_classes": [],
            "description": "100%",
            "_model_name": "FloatProgressModel",
            "bar_style": "success",
            "max": 102502400,
            "_view_module": "@jupyter-widgets/controls",
            "_model_module_version": "1.5.0",
            "value": 102502400,
            "_view_count": null,
            "_view_module_version": "1.5.0",
            "orientation": "horizontal",
            "min": 0,
            "description_tooltip": null,
            "_model_module": "@jupyter-widgets/controls",
            "layout": "IPY_MODEL_9521e755d2e848528f3ac98dfecd3e45"
          },
          "model_module_version": "1.5.0"
        },
        "ab294089bb514263b2c328ba0c995cb9": {
          "model_module": "@jupyter-widgets/controls",
          "model_name": "HTMLModel",
          "state": {
            "_view_name": "HTMLView",
            "style": "IPY_MODEL_8a135003e91e4494b7eeb20d794eca94",
            "_dom_classes": [],
            "description": "",
            "_model_name": "HTMLModel",
            "placeholder": "​",
            "_view_module": "@jupyter-widgets/controls",
            "_model_module_version": "1.5.0",
            "value": " 97.8M/97.8M [00:00&lt;00:00, 144MB/s]",
            "_view_count": null,
            "_view_module_version": "1.5.0",
            "description_tooltip": null,
            "_model_module": "@jupyter-widgets/controls",
            "layout": "IPY_MODEL_b4f8ce5441ba428583948b972e9ddf9b"
          },
          "model_module_version": "1.5.0"
        },
        "a52908f32d604b47b45452959d43c713": {
          "model_module": "@jupyter-widgets/controls",
          "model_name": "ProgressStyleModel",
          "state": {
            "_view_name": "StyleView",
            "_model_name": "ProgressStyleModel",
            "description_width": "initial",
            "_view_module": "@jupyter-widgets/base",
            "_model_module_version": "1.5.0",
            "_view_count": null,
            "_view_module_version": "1.2.0",
            "bar_color": null,
            "_model_module": "@jupyter-widgets/controls"
          },
          "model_module_version": "1.5.0"
        },
        "9521e755d2e848528f3ac98dfecd3e45": {
          "model_module": "@jupyter-widgets/base",
          "model_name": "LayoutModel",
          "state": {
            "_view_name": "LayoutView",
            "grid_template_rows": null,
            "right": null,
            "justify_content": null,
            "_view_module": "@jupyter-widgets/base",
            "overflow": null,
            "_model_module_version": "1.2.0",
            "_view_count": null,
            "flex_flow": null,
            "width": null,
            "min_width": null,
            "border": null,
            "align_items": null,
            "bottom": null,
            "_model_module": "@jupyter-widgets/base",
            "top": null,
            "grid_column": null,
            "overflow_y": null,
            "overflow_x": null,
            "grid_auto_flow": null,
            "grid_area": null,
            "grid_template_columns": null,
            "flex": null,
            "_model_name": "LayoutModel",
            "justify_items": null,
            "grid_row": null,
            "max_height": null,
            "align_content": null,
            "visibility": null,
            "align_self": null,
            "height": null,
            "min_height": null,
            "padding": null,
            "grid_auto_rows": null,
            "grid_gap": null,
            "max_width": null,
            "order": null,
            "_view_module_version": "1.2.0",
            "grid_template_areas": null,
            "object_position": null,
            "object_fit": null,
            "grid_auto_columns": null,
            "margin": null,
            "display": null,
            "left": null
          },
          "model_module_version": "1.2.0"
        },
        "8a135003e91e4494b7eeb20d794eca94": {
          "model_module": "@jupyter-widgets/controls",
          "model_name": "DescriptionStyleModel",
          "state": {
            "_view_name": "StyleView",
            "_model_name": "DescriptionStyleModel",
            "description_width": "",
            "_view_module": "@jupyter-widgets/base",
            "_model_module_version": "1.5.0",
            "_view_count": null,
            "_view_module_version": "1.2.0",
            "_model_module": "@jupyter-widgets/controls"
          },
          "model_module_version": "1.5.0"
        },
        "b4f8ce5441ba428583948b972e9ddf9b": {
          "model_module": "@jupyter-widgets/base",
          "model_name": "LayoutModel",
          "state": {
            "_view_name": "LayoutView",
            "grid_template_rows": null,
            "right": null,
            "justify_content": null,
            "_view_module": "@jupyter-widgets/base",
            "overflow": null,
            "_model_module_version": "1.2.0",
            "_view_count": null,
            "flex_flow": null,
            "width": null,
            "min_width": null,
            "border": null,
            "align_items": null,
            "bottom": null,
            "_model_module": "@jupyter-widgets/base",
            "top": null,
            "grid_column": null,
            "overflow_y": null,
            "overflow_x": null,
            "grid_auto_flow": null,
            "grid_area": null,
            "grid_template_columns": null,
            "flex": null,
            "_model_name": "LayoutModel",
            "justify_items": null,
            "grid_row": null,
            "max_height": null,
            "align_content": null,
            "visibility": null,
            "align_self": null,
            "height": null,
            "min_height": null,
            "padding": null,
            "grid_auto_rows": null,
            "grid_gap": null,
            "max_width": null,
            "order": null,
            "_view_module_version": "1.2.0",
            "grid_template_areas": null,
            "object_position": null,
            "object_fit": null,
            "grid_auto_columns": null,
            "margin": null,
            "display": null,
            "left": null
          },
          "model_module_version": "1.2.0"
        },
        "9e6f15b251a749c6a33ab334482d9c27": {
          "model_module": "@jupyter-widgets/controls",
          "model_name": "HBoxModel",
          "state": {
            "_view_name": "HBoxView",
            "_dom_classes": [],
            "_model_name": "HBoxModel",
            "_view_module": "@jupyter-widgets/controls",
            "_model_module_version": "1.5.0",
            "_view_count": null,
            "_view_module_version": "1.5.0",
            "box_style": "",
            "layout": "IPY_MODEL_6f129c1bb1954b559d9cf56f7c78bd53",
            "_model_module": "@jupyter-widgets/controls",
            "children": [
              "IPY_MODEL_30f4c231ac0f4408bddd3b3c2fb48cbd",
              "IPY_MODEL_b8b5b5b03c53496ba6e5c4181d516e3d"
            ]
          },
          "model_module_version": "1.5.0"
        },
        "6f129c1bb1954b559d9cf56f7c78bd53": {
          "model_module": "@jupyter-widgets/base",
          "model_name": "LayoutModel",
          "state": {
            "_view_name": "LayoutView",
            "grid_template_rows": null,
            "right": null,
            "justify_content": null,
            "_view_module": "@jupyter-widgets/base",
            "overflow": null,
            "_model_module_version": "1.2.0",
            "_view_count": null,
            "flex_flow": null,
            "width": null,
            "min_width": null,
            "border": null,
            "align_items": null,
            "bottom": null,
            "_model_module": "@jupyter-widgets/base",
            "top": null,
            "grid_column": null,
            "overflow_y": null,
            "overflow_x": null,
            "grid_auto_flow": null,
            "grid_area": null,
            "grid_template_columns": null,
            "flex": null,
            "_model_name": "LayoutModel",
            "justify_items": null,
            "grid_row": null,
            "max_height": null,
            "align_content": null,
            "visibility": null,
            "align_self": null,
            "height": null,
            "min_height": null,
            "padding": null,
            "grid_auto_rows": null,
            "grid_gap": null,
            "max_width": null,
            "order": null,
            "_view_module_version": "1.2.0",
            "grid_template_areas": null,
            "object_position": null,
            "object_fit": null,
            "grid_auto_columns": null,
            "margin": null,
            "display": null,
            "left": null
          },
          "model_module_version": "1.2.0"
        },
        "30f4c231ac0f4408bddd3b3c2fb48cbd": {
          "model_module": "@jupyter-widgets/controls",
          "model_name": "FloatProgressModel",
          "state": {
            "_view_name": "ProgressView",
            "style": "IPY_MODEL_b36a14273a1d4dbea6111f512f1a7996",
            "_dom_classes": [],
            "description": "100%",
            "_model_name": "FloatProgressModel",
            "bar_style": "success",
            "max": 167502836,
            "_view_module": "@jupyter-widgets/controls",
            "_model_module_version": "1.5.0",
            "value": 167502836,
            "_view_count": null,
            "_view_module_version": "1.5.0",
            "orientation": "horizontal",
            "min": 0,
            "description_tooltip": null,
            "_model_module": "@jupyter-widgets/controls",
            "layout": "IPY_MODEL_3c991683f453485aac112b2aea9e0ce3"
          },
          "model_module_version": "1.5.0"
        },
        "b8b5b5b03c53496ba6e5c4181d516e3d": {
          "model_module": "@jupyter-widgets/controls",
          "model_name": "HTMLModel",
          "state": {
            "_view_name": "HTMLView",
            "style": "IPY_MODEL_edc4f894109342529536861c70efaf27",
            "_dom_classes": [],
            "description": "",
            "_model_name": "HTMLModel",
            "placeholder": "​",
            "_view_module": "@jupyter-widgets/controls",
            "_model_module_version": "1.5.0",
            "value": " 160M/160M [00:02&lt;00:00, 72.9MB/s]",
            "_view_count": null,
            "_view_module_version": "1.5.0",
            "description_tooltip": null,
            "_model_module": "@jupyter-widgets/controls",
            "layout": "IPY_MODEL_d3a6dd9959be4cc3bfd083de021e136c"
          },
          "model_module_version": "1.5.0"
        },
        "b36a14273a1d4dbea6111f512f1a7996": {
          "model_module": "@jupyter-widgets/controls",
          "model_name": "ProgressStyleModel",
          "state": {
            "_view_name": "StyleView",
            "_model_name": "ProgressStyleModel",
            "description_width": "initial",
            "_view_module": "@jupyter-widgets/base",
            "_model_module_version": "1.5.0",
            "_view_count": null,
            "_view_module_version": "1.2.0",
            "bar_color": null,
            "_model_module": "@jupyter-widgets/controls"
          },
          "model_module_version": "1.5.0"
        },
        "3c991683f453485aac112b2aea9e0ce3": {
          "model_module": "@jupyter-widgets/base",
          "model_name": "LayoutModel",
          "state": {
            "_view_name": "LayoutView",
            "grid_template_rows": null,
            "right": null,
            "justify_content": null,
            "_view_module": "@jupyter-widgets/base",
            "overflow": null,
            "_model_module_version": "1.2.0",
            "_view_count": null,
            "flex_flow": null,
            "width": null,
            "min_width": null,
            "border": null,
            "align_items": null,
            "bottom": null,
            "_model_module": "@jupyter-widgets/base",
            "top": null,
            "grid_column": null,
            "overflow_y": null,
            "overflow_x": null,
            "grid_auto_flow": null,
            "grid_area": null,
            "grid_template_columns": null,
            "flex": null,
            "_model_name": "LayoutModel",
            "justify_items": null,
            "grid_row": null,
            "max_height": null,
            "align_content": null,
            "visibility": null,
            "align_self": null,
            "height": null,
            "min_height": null,
            "padding": null,
            "grid_auto_rows": null,
            "grid_gap": null,
            "max_width": null,
            "order": null,
            "_view_module_version": "1.2.0",
            "grid_template_areas": null,
            "object_position": null,
            "object_fit": null,
            "grid_auto_columns": null,
            "margin": null,
            "display": null,
            "left": null
          },
          "model_module_version": "1.2.0"
        },
        "edc4f894109342529536861c70efaf27": {
          "model_module": "@jupyter-widgets/controls",
          "model_name": "DescriptionStyleModel",
          "state": {
            "_view_name": "StyleView",
            "_model_name": "DescriptionStyleModel",
            "description_width": "",
            "_view_module": "@jupyter-widgets/base",
            "_model_module_version": "1.5.0",
            "_view_count": null,
            "_view_module_version": "1.2.0",
            "_model_module": "@jupyter-widgets/controls"
          },
          "model_module_version": "1.5.0"
        },
        "d3a6dd9959be4cc3bfd083de021e136c": {
          "model_module": "@jupyter-widgets/base",
          "model_name": "LayoutModel",
          "state": {
            "_view_name": "LayoutView",
            "grid_template_rows": null,
            "right": null,
            "justify_content": null,
            "_view_module": "@jupyter-widgets/base",
            "overflow": null,
            "_model_module_version": "1.2.0",
            "_view_count": null,
            "flex_flow": null,
            "width": null,
            "min_width": null,
            "border": null,
            "align_items": null,
            "bottom": null,
            "_model_module": "@jupyter-widgets/base",
            "top": null,
            "grid_column": null,
            "overflow_y": null,
            "overflow_x": null,
            "grid_auto_flow": null,
            "grid_area": null,
            "grid_template_columns": null,
            "flex": null,
            "_model_name": "LayoutModel",
            "justify_items": null,
            "grid_row": null,
            "max_height": null,
            "align_content": null,
            "visibility": null,
            "align_self": null,
            "height": null,
            "min_height": null,
            "padding": null,
            "grid_auto_rows": null,
            "grid_gap": null,
            "max_width": null,
            "order": null,
            "_view_module_version": "1.2.0",
            "grid_template_areas": null,
            "object_position": null,
            "object_fit": null,
            "grid_auto_columns": null,
            "margin": null,
            "display": null,
            "left": null
          },
          "model_module_version": "1.2.0"
        }
      }
    }
  },
  "cells": [
    {
      "cell_type": "markdown",
      "metadata": {
        "id": "s6bb9FFCQmFL"
      },
      "source": [
        "Классификация, детекция."
      ]
    },
    {
      "cell_type": "markdown",
      "metadata": {
        "id": "Ns53IWlvQmFL"
      },
      "source": [
        "## Часть 1. Классификация\n",
        "\n",
        "Обучим классификатор изображений. В датасете 200 классов и около 5 тысяч картинок на каждый класс. Классы пронумерованы, как нетрудно догадаться, от 0 до 199. Скачать датасет можно вот [тут](https://yadi.sk/d/BNR41Vu3y0c7qA).\n",
        "\n",
        "Структура датасета простая -- есть директории train и val, в которых лежат обучающие и валидационные данные. В train/ и val/ лежат директориии, соответствующие классам изображений, в которых лежат собственно сами изображения.\n",
        " "
      ]
    },
    {
      "cell_type": "code",
      "metadata": {
        "id": "STLmEQq1QmFL"
      },
      "source": [
        "import torch\n",
        "import torchvision\n",
        "import zipfile\n",
        "from torch import nn\n",
        "from torch.nn import functional as F\n",
        "import numpy as np\n",
        "import PIL\n",
        "import os\n",
        "import matplotlib.pyplot as plt\n",
        "import sys\n",
        "from os.path import isfile, join\n",
        "from torchvision import transforms\n",
        "device = 'cuda'\n",
        "\n",
        "class MyDataset(torch.utils.data.Dataset):\n",
        "    def __init__(self, data_dir, transform):\n",
        "        \n",
        "        self.data_dir = os.path.expanduser(data_dir)\n",
        "        self.transform = transform\n",
        "        (self.data_path, self.labels_path) = ([], [])\n",
        "\n",
        "        def load_images(path):\n",
        "            \"\"\"\n",
        "            returns all the sorted image paths.\n",
        "\n",
        "            :param path:\n",
        "            :return: лист с путями до всех изображений\n",
        "            \"\"\"\n",
        "\n",
        "            images_dir = [join(path, f) for f in os.listdir(path)\n",
        "                          if isfile(join(path, f))]\n",
        "            images_dir.sort()\n",
        "\n",
        "            return images_dir\n",
        "\n",
        "        self.data_path = load_images(self.data_dir + '/train')\n",
        "        self.labels_path = load_images(self.data_dir + '/train_masks')\n",
        "        \n",
        "    def __getitem__(self, idx):\n",
        "        img = Image.open(self.data_path[idx])\n",
        "        target = Image.open(self.labels_path[idx])\n",
        "        if self.transform is not None:\n",
        "            img = self.transform(img)\n",
        "            target = self.transform(target)\n",
        "            target = (target > 0).float()\n",
        "\n",
        "        return (img, target)\n",
        "\n",
        "\n",
        "    def __len__(self, idx):\n",
        "        return len(self.data_path)"
      ],
      "execution_count": null,
      "outputs": []
    },
    {
      "cell_type": "code",
      "metadata": {
        "colab": {
          "base_uri": "https://localhost:8080/"
        },
        "id": "UKIa7WGAR1qG",
        "outputId": "facf6620-882c-4e07-8be7-0a5cef452707"
      },
      "source": [
        "from google.colab import drive\n",
        "drive.mount('/content/drive')"
      ],
      "execution_count": null,
      "outputs": [
        {
          "output_type": "stream",
          "text": [
            "Mounted at /content/drive\n"
          ],
          "name": "stdout"
        }
      ]
    },
    {
      "cell_type": "code",
      "metadata": {
        "id": "dWUX7XAvZscx"
      },
      "source": [
        "train_zip = '/content/drive/My Drive/dataset.zip'"
      ],
      "execution_count": null,
      "outputs": []
    },
    {
      "cell_type": "code",
      "metadata": {
        "id": "WWhxBHjMZO2r"
      },
      "source": [
        "!unzip '/content/drive/My Drive/dataset.zip'"
      ],
      "execution_count": null,
      "outputs": []
    },
    {
      "cell_type": "code",
      "metadata": {
        "id": "qnfsDcVlQmFM"
      },
      "source": [
        "train_transform = transforms.Compose([\n",
        "                            transforms.Resize((256, 256)),\n",
        "                            transforms.ToTensor()])\n",
        "val_transform = transforms.Compose([\n",
        "                            transforms.Resize((256, 256)),\n",
        "                            transforms.ToTensor()])\n",
        "\n",
        "transforms = torchvision.transforms.Compose([\n",
        "    torchvision.transforms.Resize((224,224)),\n",
        "    torchvision.transforms.ColorJitter(hue=.05, saturation=.05),\n",
        "    torchvision.transforms.RandomHorizontalFlip(),\n",
        "    torchvision.transforms.RandomRotation(20, resample=PIL.Image.BILINEAR),\n",
        "    torchvision.transforms.ToTensor(),\n",
        "])\n",
        "\n"
      ],
      "execution_count": null,
      "outputs": []
    },
    {
      "cell_type": "code",
      "metadata": {
        "id": "l55PSPO2QmFM"
      },
      "source": [
        "from torchvision.datasets import ImageFolder\n",
        "from torchvision.transforms import Resize, Normalize, ToTensor, Compose\n",
        "\n",
        "full = '/content/dataset/dataset/train'\n",
        "train_dataset = ImageFolder(full, \n",
        "                      transform=transforms)\n",
        "val_dataset = ImageFolder(\"/content/dataset/dataset/val\", \n",
        "                      transform=Compose([Resize((224, 224)), ToTensor()]))"
      ],
      "execution_count": null,
      "outputs": []
    },
    {
      "cell_type": "code",
      "metadata": {
        "colab": {
          "base_uri": "https://localhost:8080/"
        },
        "id": "QNoqfVA6urg9",
        "outputId": "72f91840-5150-4b27-af01-3cd7a9f16075"
      },
      "source": [
        "train_dataset"
      ],
      "execution_count": null,
      "outputs": [
        {
          "output_type": "execute_result",
          "data": {
            "text/plain": [
              "Dataset ImageFolder\n",
              "    Number of datapoints: 100000\n",
              "    Root location: /content/dataset/dataset/train\n",
              "    StandardTransform\n",
              "Transform: Compose(\n",
              "               Resize(size=(224, 224), interpolation=PIL.Image.BILINEAR)\n",
              "               ColorJitter(brightness=None, contrast=None, saturation=[0.95, 1.05], hue=[-0.05, 0.05])\n",
              "               RandomHorizontalFlip(p=0.5)\n",
              "               RandomRotation(degrees=[-20.0, 20.0], resample=2, expand=False)\n",
              "               ToTensor()\n",
              "           )"
            ]
          },
          "metadata": {
            "tags": []
          },
          "execution_count": 7
        }
      ]
    },
    {
      "cell_type": "code",
      "metadata": {
        "colab": {
          "base_uri": "https://localhost:8080/"
        },
        "id": "eyTR6YkfQmFM",
        "outputId": "3393a1bf-5f6e-4166-fef3-559c24ed5623"
      },
      "source": [
        "# Just very simple checks\n",
        "assert isinstance(train_dataset[0], tuple)\n",
        "assert len(train_dataset[0]) == 2\n",
        "assert isinstance(train_dataset[1][1], int)\n",
        "print(\"tests passed\")"
      ],
      "execution_count": null,
      "outputs": [
        {
          "output_type": "stream",
          "text": [
            "tests passed\n"
          ],
          "name": "stdout"
        }
      ]
    },
    {
      "cell_type": "code",
      "metadata": {
        "colab": {
          "base_uri": "https://localhost:8080/"
        },
        "id": "jgWORMV2QmFN",
        "outputId": "0142bace-8b10-4f08-ed8e-2a596348a5c1"
      },
      "source": [
        "len(val_dataset)"
      ],
      "execution_count": null,
      "outputs": [
        {
          "output_type": "execute_result",
          "data": {
            "text/plain": [
              "10000"
            ]
          },
          "metadata": {
            "tags": []
          },
          "execution_count": 9
        }
      ]
    },
    {
      "cell_type": "code",
      "metadata": {
        "colab": {
          "base_uri": "https://localhost:8080/",
          "height": 302
        },
        "id": "4UOduPa8QmFO",
        "outputId": "0b387aa0-d2cc-4101-c7ee-12103b83c865"
      },
      "source": [
        "i = np.random.randint(0, len(train_dataset))\n",
        "image = train_dataset[i][0]\n",
        "plt.imshow(image.cpu().detach().numpy().transpose((1, 2, 0)) + 0.5)"
      ],
      "execution_count": null,
      "outputs": [
        {
          "output_type": "stream",
          "text": [
            "Clipping input data to the valid range for imshow with RGB data ([0..1] for floats or [0..255] for integers).\n"
          ],
          "name": "stderr"
        },
        {
          "output_type": "execute_result",
          "data": {
            "text/plain": [
              "<matplotlib.image.AxesImage at 0x7f687297da90>"
            ]
          },
          "metadata": {
            "tags": []
          },
          "execution_count": 10
        },
        {
          "output_type": "display_data",
          "data": {
            "image/png": "[encoded data removed]",
            "text/plain": [
              "<Figure size 432x288 with 1 Axes>"
            ]
          },
          "metadata": {
            "tags": [],
            "needs_background": "light"
          }
        }
      ]
    },
    {
      "cell_type": "code",
      "metadata": {
        "id": "S8rny0G2QmFO"
      },
      "source": [
        "from tqdm import tqdm\n",
        "from sklearn.metrics import accuracy_score\n",
        "\n",
        "def train_one_epoch(model, train_dataloader, criterion, optimizer, device=\"cuda:0\", return_losses=False):\n",
        "\n",
        "    model = model.to(device).train()\n",
        "    total_loss = 0\n",
        "    num_batches = 0\n",
        "    all_losses = []\n",
        "    total_predictions = np.array([])#.reshape((0, ))\n",
        "    total_labels = np.array([])#.reshape((0, ))\n",
        "    with tqdm(total=len(train_dataloader), file=sys.stdout) as prbar:\n",
        "        for images, labels in train_dataloader:\n",
        "            # Move Batch to GPU\n",
        "            images = images.to(device)\n",
        "            labels = labels.to(device)\n",
        "            predicted = model(images)\n",
        "            loss = criterion(predicted, labels)\n",
        "            # Update weights\n",
        "            loss.backward()          \n",
        "            optimizer.step()\n",
        "            optimizer.zero_grad()\n",
        "            \n",
        "            # Update descirption for tqdm\n",
        "            accuracy = (predicted.argmax(1) == labels).float().mean()\n",
        "            prbar.set_description(\n",
        "                f\"Loss: {round(loss.item(), 4)} \"\n",
        "                f\"Accuracy: {round(accuracy.item() * 100, 4)}\"\n",
        "            )\n",
        "            prbar.update(1)\n",
        "            total_loss += loss.item()\n",
        "            total_predictions = np.append(total_predictions, predicted.argmax(1).cpu().detach().numpy())\n",
        "            total_labels = np.append(total_labels, labels.cpu().detach().numpy())\n",
        "            num_batches += 1\n",
        "            all_losses.append(loss.detach().item())\n",
        "    metrics = {'loss': total_loss / num_batches}\n",
        "    metrics.update({\"accuracy\": (total_predictions == total_labels).mean()})\n",
        "    if return_losses:\n",
        "        return metrics, all_losses\n",
        "    else:\n",
        "        return metrics\n",
        "\n",
        "def predict(model, val_dataloder, criterion, device=\"cuda:0\", result=False):\n",
        "\n",
        "    model = model.to(device)\n",
        "    model = model.eval()\n",
        "    total_loss = 0\n",
        "    num_batches = 0\n",
        "    total_predictions = np.array([])\n",
        "    total_labels = np.array([])\n",
        "    with tqdm(total=len(val_dataloader), file=sys.stdout) as prbar:\n",
        "        for images, labels in val_dataloader:\n",
        "            images = images.to(device)\n",
        "            labels = labels.to(device)\n",
        "            predicted = model(images)\n",
        "            loss = criterion(predicted, labels)\n",
        "            accuracy = (predicted.argmax(1) == labels).float().mean()\n",
        "            prbar.set_description(\n",
        "                f\"Loss: {round(loss.item(), 4)} \"\n",
        "                f\"Accuracy: {round(accuracy.item(), 4)}\"\n",
        "            )\n",
        "            prbar.update(1)\n",
        "            total_loss += loss.item()\n",
        "            total_predictions = np.append(total_predictions, predicted.argmax(1).cpu().detach().numpy())\n",
        "            total_labels = np.append(total_labels, labels.cpu().detach().numpy())\n",
        "            num_batches += 1\n",
        "    metrics = {'loss': total_loss / num_batches}\n",
        "    metrics.update({\"accuracy\": (total_predictions == total_labels).mean()})\n",
        "    if result:\n",
        "      return metrics\n",
        "    if not result:\n",
        "      return total_loss, total_predictions, total_labels\n",
        "\n",
        "def train(model, train_dataloader, val_dataloader, criterion, optimizer, device=\"cuda:0\", n_epochs=10, scheduler=None):\n",
        "    #scheduler = StepLR(optimizer, step_size=1, gamma=0.1)\n",
        "    all_train_losses = []\n",
        "    epoch_train_losses = []\n",
        "    epoch_eval_losses = []\n",
        "    for epoch in range(n_epochs):\n",
        "        # Train step\n",
        "        print(f\"Train Epoch: {epoch}\")\n",
        "        train_metrics, one_epoch_train_losses = train_one_epoch(\n",
        "            model=model,\n",
        "            train_dataloader=train_dataloader,\n",
        "            optimizer=optimizer,\n",
        "            return_losses=True,\n",
        "            criterion=criterion\n",
        "        )\n",
        "        print(train_metrics['accuracy'])\n",
        "        # Save Train losses\n",
        "        all_train_losses.extend(one_epoch_train_losses)\n",
        "        epoch_train_losses.append(train_metrics['loss'])\n",
        "        # Eval step\n",
        "        print(f\"Validation Epoch: {epoch}\")\n",
        "        with torch.no_grad():\n",
        "            validation_metrics = predict(\n",
        "                model,\n",
        "                val_dataloader,\n",
        "                criterion,\n",
        "                device,\n",
        "                result=True\n",
        "            )\n",
        "        # Save eval losses\n",
        "        print(validation_metrics['accuracy'])\n",
        "        epoch_eval_losses.append(validation_metrics['loss'])"
      ],
      "execution_count": null,
      "outputs": []
    },
    {
      "cell_type": "code",
      "metadata": {
        "scrolled": true,
        "id": "ximRj8brQmFO",
        "colab": {
          "base_uri": "https://localhost:8080/",
          "height": 83,
          "referenced_widgets": [
            "145e1375878743fd84de7f379afc9c29",
            "c52f999d3f5a498e9ff61edb5809d0b2",
            "c4df61a676c0474bad58f002d9ad34c2",
            "ab294089bb514263b2c328ba0c995cb9",
            "a52908f32d604b47b45452959d43c713",
            "9521e755d2e848528f3ac98dfecd3e45",
            "8a135003e91e4494b7eeb20d794eca94",
            "b4f8ce5441ba428583948b972e9ddf9b"
          ]
        },
        "outputId": "062554b3-11dc-47b8-9e7a-cd6d1732b173"
      },
      "source": [
        "from torchvision.models import resnet50\n",
        "model = resnet50(pretrained=True)\n",
        "\n",
        "optimizer = torch.optim.Adam(model.fc.parameters(), 1e-4)\n",
        "train_dataloader = torch.utils.data.DataLoader(train_dataset, batch_size=64, num_workers=4, shuffle=True)\n",
        "val_dataloader = torch.utils.data.DataLoader(val_dataset, batch_size=64, num_workers=4, shuffle=True)\n",
        "criterion = nn.CrossEntropyLoss()\n",
        "#scheduler = # LR SCHEDULE THAT YOU PROBABLY CHOOSE\n",
        "n_epochs = 10\n",
        "device = torch.device(\"cuda:0\") if torch.cuda.is_available() else torch.device(\"cpu\")"
      ],
      "execution_count": null,
      "outputs": [
        {
          "output_type": "stream",
          "text": [
            "Downloading: \"https://download.pytorch.org/models/resnet50-19c8e357.pth\" to /root/.cache/torch/hub/checkpoints/resnet50-19c8e357.pth\n"
          ],
          "name": "stderr"
        },
        {
          "output_type": "display_data",
          "data": {
            "application/vnd.jupyter.widget-view+json": {
              "model_id": "145e1375878743fd84de7f379afc9c29",
              "version_minor": 0,
              "version_major": 2
            },
            "text/plain": [
              "HBox(children=(FloatProgress(value=0.0, max=102502400.0), HTML(value='')))"
            ]
          },
          "metadata": {
            "tags": []
          }
        },
        {
          "output_type": "stream",
          "text": [
            "\n"
          ],
          "name": "stdout"
        }
      ]
    },
    {
      "cell_type": "code",
      "metadata": {
        "colab": {
          "base_uri": "https://localhost:8080/"
        },
        "id": "XZhrqKTXQmFO",
        "outputId": "b0bedf86-7821-4565-d4ac-fc002792a62d"
      },
      "source": [
        "all_losses, predicted_labels, true_labels = predict(model, val_dataloader, criterion, device)\n",
        "assert len(predicted_labels) == len(val_dataset)\n",
        "accuracy = accuracy_score(predicted_labels, true_labels)\n",
        "print(\"tests passed\")"
      ],
      "execution_count": null,
      "outputs": [
        {
          "output_type": "stream",
          "text": [
            "Loss: 11.7436 Accuracy: 0.0: 100%|██████████| 157/157 [00:17<00:00,  9.15it/s]\n",
            "tests passed\n"
          ],
          "name": "stdout"
        }
      ]
    },
    {
      "cell_type": "code",
      "metadata": {
        "id": "X1KXH2fwQmFO",
        "colab": {
          "base_uri": "https://localhost:8080/",
          "height": 954
        },
        "outputId": "9281a82a-2333-45b4-9588-ef7e1a186839"
      },
      "source": [
        "train(model, train_dataloader, val_dataloader, criterion, optimizer, device, n_epochs)"
      ],
      "execution_count": null,
      "outputs": [
        {
          "output_type": "stream",
          "text": [
            "Train Epoch: 0\n",
            "Loss: 2.2201 Accuracy: 46.875: 100%|██████████| 1563/1563 [17:07<00:00,  1.52it/s]\n",
            "0.54632\n",
            "Validation Epoch: 0\n",
            "Loss: 1.7535 Accuracy: 0.5625: 100%|██████████| 157/157 [00:32<00:00,  4.84it/s]\n",
            "0.6312\n",
            "Train Epoch: 1\n",
            "Loss: 2.2058 Accuracy: 46.875: 100%|██████████| 1563/1563 [17:06<00:00,  1.52it/s]\n",
            "0.54902\n",
            "Validation Epoch: 1\n",
            "Loss: 1.3305 Accuracy: 0.625: 100%|██████████| 157/157 [00:32<00:00,  4.85it/s]\n",
            "0.6318\n",
            "Train Epoch: 2\n",
            "Loss: 1.6517 Accuracy: 65.625: 100%|██████████| 1563/1563 [17:07<00:00,  1.52it/s]\n",
            "0.55416\n",
            "Validation Epoch: 2\n",
            "Loss: 1.0496 Accuracy: 0.8125: 100%|██████████| 157/157 [00:32<00:00,  4.83it/s]\n",
            "0.634\n",
            "Train Epoch: 3\n",
            "Loss: 1.4677 Accuracy: 56.25: 100%|██████████| 1563/1563 [17:07<00:00,  1.52it/s]\n",
            "0.55835\n",
            "Validation Epoch: 3\n",
            "Loss: 1.6535 Accuracy: 0.5: 100%|██████████| 157/157 [00:32<00:00,  4.86it/s]\n",
            "0.6348\n",
            "Train Epoch: 4\n",
            "Loss: 1.6135 Accuracy: 56.25: 100%|██████████| 1563/1563 [17:05<00:00,  1.52it/s]\n",
            "0.55953\n",
            "Validation Epoch: 4\n",
            "Loss: 2.0621 Accuracy: 0.5625: 100%|██████████| 157/157 [00:32<00:00,  4.84it/s]\n",
            "0.6313\n",
            "Train Epoch: 5\n",
            "Loss: 1.6 Accuracy: 56.25: 100%|██████████| 1563/1563 [17:06<00:00,  1.52it/s]\n",
            "0.5628\n",
            "Validation Epoch: 5\n",
            "Loss: 0.6152 Accuracy: 0.875: 100%|██████████| 157/157 [00:32<00:00,  4.82it/s]\n",
            "0.6369\n",
            "Train Epoch: 6\n",
            "Loss: 2.0663 Accuracy: 57.8125:  32%|███▏      | 500/1563 [05:29<11:41,  1.52it/s]\n"
          ],
          "name": "stdout"
        },
        {
          "output_type": "error",
          "ename": "KeyboardInterrupt",
          "evalue": "ignored",
          "traceback": [
            "\u001b[0;31m---------------------------------------------------------------------------\u001b[0m",
            "\u001b[0;31mKeyboardInterrupt\u001b[0m                         Traceback (most recent call last)",
            "\u001b[0;32m<ipython-input-14-16d2456d07b2>\u001b[0m in \u001b[0;36m<module>\u001b[0;34m()\u001b[0m\n\u001b[0;32m----> 1\u001b[0;31m \u001b[0mtrain\u001b[0m\u001b[0;34m(\u001b[0m\u001b[0mmodel\u001b[0m\u001b[0;34m,\u001b[0m \u001b[0mtrain_dataloader\u001b[0m\u001b[0;34m,\u001b[0m \u001b[0mval_dataloader\u001b[0m\u001b[0;34m,\u001b[0m \u001b[0mcriterion\u001b[0m\u001b[0;34m,\u001b[0m \u001b[0moptimizer\u001b[0m\u001b[0;34m,\u001b[0m \u001b[0mdevice\u001b[0m\u001b[0;34m,\u001b[0m \u001b[0mn_epochs\u001b[0m\u001b[0;34m)\u001b[0m\u001b[0;34m\u001b[0m\u001b[0;34m\u001b[0m\u001b[0m\n\u001b[0m",
            "\u001b[0;32m<ipython-input-11-70a8630963ce>\u001b[0m in \u001b[0;36mtrain\u001b[0;34m(model, train_dataloader, val_dataloader, criterion, optimizer, device, n_epochs, scheduler)\u001b[0m\n\u001b[1;32m     85\u001b[0m             \u001b[0moptimizer\u001b[0m\u001b[0;34m=\u001b[0m\u001b[0moptimizer\u001b[0m\u001b[0;34m,\u001b[0m\u001b[0;34m\u001b[0m\u001b[0;34m\u001b[0m\u001b[0m\n\u001b[1;32m     86\u001b[0m             \u001b[0mreturn_losses\u001b[0m\u001b[0;34m=\u001b[0m\u001b[0;32mTrue\u001b[0m\u001b[0;34m,\u001b[0m\u001b[0;34m\u001b[0m\u001b[0;34m\u001b[0m\u001b[0m\n\u001b[0;32m---> 87\u001b[0;31m             \u001b[0mcriterion\u001b[0m\u001b[0;34m=\u001b[0m\u001b[0mcriterion\u001b[0m\u001b[0;34m\u001b[0m\u001b[0;34m\u001b[0m\u001b[0m\n\u001b[0m\u001b[1;32m     88\u001b[0m         )\n\u001b[1;32m     89\u001b[0m         \u001b[0mprint\u001b[0m\u001b[0;34m(\u001b[0m\u001b[0mtrain_metrics\u001b[0m\u001b[0;34m[\u001b[0m\u001b[0;34m'accuracy'\u001b[0m\u001b[0;34m]\u001b[0m\u001b[0;34m)\u001b[0m\u001b[0;34m\u001b[0m\u001b[0;34m\u001b[0m\u001b[0m\n",
            "\u001b[0;32m<ipython-input-11-70a8630963ce>\u001b[0m in \u001b[0;36mtrain_one_epoch\u001b[0;34m(model, train_dataloader, criterion, optimizer, device, return_losses)\u001b[0m\n\u001b[1;32m     25\u001b[0m             \u001b[0maccuracy\u001b[0m \u001b[0;34m=\u001b[0m \u001b[0;34m(\u001b[0m\u001b[0mpredicted\u001b[0m\u001b[0;34m.\u001b[0m\u001b[0margmax\u001b[0m\u001b[0;34m(\u001b[0m\u001b[0;36m1\u001b[0m\u001b[0;34m)\u001b[0m \u001b[0;34m==\u001b[0m \u001b[0mlabels\u001b[0m\u001b[0;34m)\u001b[0m\u001b[0;34m.\u001b[0m\u001b[0mfloat\u001b[0m\u001b[0;34m(\u001b[0m\u001b[0;34m)\u001b[0m\u001b[0;34m.\u001b[0m\u001b[0mmean\u001b[0m\u001b[0;34m(\u001b[0m\u001b[0;34m)\u001b[0m\u001b[0;34m\u001b[0m\u001b[0;34m\u001b[0m\u001b[0m\n\u001b[1;32m     26\u001b[0m             prbar.set_description(\n\u001b[0;32m---> 27\u001b[0;31m                 \u001b[0;34mf\"Loss: {round(loss.item(), 4)} \"\u001b[0m\u001b[0;34m\u001b[0m\u001b[0;34m\u001b[0m\u001b[0m\n\u001b[0m\u001b[1;32m     28\u001b[0m                 \u001b[0;34mf\"Accuracy: {round(accuracy.item() * 100, 4)}\"\u001b[0m\u001b[0;34m\u001b[0m\u001b[0;34m\u001b[0m\u001b[0m\n\u001b[1;32m     29\u001b[0m             )\n",
            "\u001b[0;31mKeyboardInterrupt\u001b[0m: "
          ]
        }
      ]
    },
    {
      "cell_type": "markdown",
      "metadata": {
        "id": "PXrs7tEoQmFP"
      },
      "source": [
        "После всех экспериментов которые мы проделали, выберем лучшую из моделей и запустите функцию evaluate. Эта функция берет на вход модель и даталоадер с валидационными данными и возвращает accuracy, посчитанную на этом датасете."
      ]
    },
    {
      "cell_type": "code",
      "metadata": {
        "id": "rY3_5niRQmFP",
        "colab": {
          "base_uri": "https://localhost:8080/"
        },
        "outputId": "a14ab20c-1334-4166-866b-87156eebb4f4"
      },
      "source": [
        "all_losses, predicted_labels, true_labels = predict(model, val_dataloader, criterion, device)\n",
        "assert len(predicted_labels) == len(val_dataset)\n",
        "accuracy = accuracy_score(true_labels, predicted_labels)\n",
        "print(\"Оценка за это задание составит {} баллов\".format(min(5, 5*accuracy / 0.44)))"
      ],
      "execution_count": null,
      "outputs": [
        {
          "output_type": "stream",
          "text": [
            "Loss: 1.5487 Accuracy: 0.625: 100%|██████████| 157/157 [00:15<00:00, 10.32it/s]\n",
            "Оценка за это задание составит 5 баллов\n"
          ],
          "name": "stdout"
        }
      ]
    },
    {
      "cell_type": "code",
      "metadata": {
        "colab": {
          "base_uri": "https://localhost:8080/"
        },
        "id": "J1C5MZYwPnED",
        "outputId": "cedb3c3a-28d0-4995-9dc0-84069320d31b"
      },
      "source": [
        " accuracy"
      ],
      "execution_count": null,
      "outputs": [
        {
          "output_type": "execute_result",
          "data": {
            "text/plain": [
              "0.5208"
            ]
          },
          "metadata": {
            "tags": []
          },
          "execution_count": 63
        }
      ]
    },
    {
      "cell_type": "markdown",
      "metadata": {
        "id": "VFLhXnh2QmFP"
      },
      "source": [
        "## Часть 2. Object detection.\n",
        "\n",
        "Датасет можно скачать [отсюда](https://yadi.sk/d/UPwQB7OZrB48qQ)."
      ]
    },
    {
      "cell_type": "code",
      "metadata": {
        "id": "uDSwfDAQQmFP",
        "colab": {
          "base_uri": "https://localhost:8080/"
        },
        "outputId": "794bda03-5b54-47c8-91f3-e1ea714d5bb4"
      },
      "source": [
        "# we will need this library to process the labeling\n",
        "! pip install xmltodict"
      ],
      "execution_count": null,
      "outputs": [
        {
          "output_type": "stream",
          "text": [
            "Collecting xmltodict\n",
            "  Downloading https://files.pythonhosted.org/packages/28/fd/30d5c1d3ac29ce229f6bdc40bbc20b28f716e8b363140c26eff19122d8a5/xmltodict-0.12.0-py2.py3-none-any.whl\n",
            "Installing collected packages: xmltodict\n",
            "Successfully installed xmltodict-0.12.0\n"
          ],
          "name": "stdout"
        }
      ]
    },
    {
      "cell_type": "code",
      "metadata": {
        "colab": {
          "base_uri": "https://localhost:8080/"
        },
        "id": "iZLWEQexqtZN",
        "outputId": "fa927909-c1d7-4520-bd83-7cd18b4d46b1"
      },
      "source": [
        "!pip install -U git+https://github.com/albu/albumentations --no-cache-dir"
      ],
      "execution_count": null,
      "outputs": [
        {
          "output_type": "stream",
          "text": [
            "Collecting git+https://github.com/albu/albumentations\n",
            "  Cloning https://github.com/albu/albumentations to /tmp/pip-req-build-sgzx2ebl\n",
            "  Running command git clone -q https://github.com/albu/albumentations /tmp/pip-req-build-sgzx2ebl\n",
            "Requirement already satisfied, skipping upgrade: numpy>=1.11.1 in /usr/local/lib/python3.6/dist-packages (from albumentations==0.5.1) (1.18.5)\n",
            "Requirement already satisfied, skipping upgrade: scipy in /usr/local/lib/python3.6/dist-packages (from albumentations==0.5.1) (1.4.1)\n",
            "Requirement already satisfied, skipping upgrade: scikit-image>=0.16.1 in /usr/local/lib/python3.6/dist-packages (from albumentations==0.5.1) (0.16.2)\n",
            "Collecting imgaug>=0.4.0\n",
            "\u001b[?25l  Downloading https://files.pythonhosted.org/packages/66/b1/af3142c4a85cba6da9f4ebb5ff4e21e2616309552caca5e8acefe9840622/imgaug-0.4.0-py2.py3-none-any.whl (948kB)\n",
            "\u001b[K     |████████████████████████████████| 952kB 5.9MB/s \n",
            "\u001b[?25hRequirement already satisfied, skipping upgrade: PyYAML in /usr/local/lib/python3.6/dist-packages (from albumentations==0.5.1) (3.13)\n",
            "Requirement already satisfied, skipping upgrade: opencv-python>=4.1.1 in /usr/local/lib/python3.6/dist-packages (from albumentations==0.5.1) (4.1.2.30)\n",
            "Requirement already satisfied, skipping upgrade: networkx>=2.0 in /usr/local/lib/python3.6/dist-packages (from scikit-image>=0.16.1->albumentations==0.5.1) (2.5)\n",
            "Requirement already satisfied, skipping upgrade: imageio>=2.3.0 in /usr/local/lib/python3.6/dist-packages (from scikit-image>=0.16.1->albumentations==0.5.1) (2.4.1)\n",
            "Requirement already satisfied, skipping upgrade: matplotlib!=3.0.0,>=2.0.0 in /usr/local/lib/python3.6/dist-packages (from scikit-image>=0.16.1->albumentations==0.5.1) (3.2.2)\n",
            "Requirement already satisfied, skipping upgrade: PyWavelets>=0.4.0 in /usr/local/lib/python3.6/dist-packages (from scikit-image>=0.16.1->albumentations==0.5.1) (1.1.1)\n",
            "Requirement already satisfied, skipping upgrade: pillow>=4.3.0 in /usr/local/lib/python3.6/dist-packages (from scikit-image>=0.16.1->albumentations==0.5.1) (7.0.0)\n",
            "Requirement already satisfied, skipping upgrade: six in /usr/local/lib/python3.6/dist-packages (from imgaug>=0.4.0->albumentations==0.5.1) (1.15.0)\n",
            "Requirement already satisfied, skipping upgrade: Shapely in /usr/local/lib/python3.6/dist-packages (from imgaug>=0.4.0->albumentations==0.5.1) (1.7.1)\n",
            "Requirement already satisfied, skipping upgrade: decorator>=4.3.0 in /usr/local/lib/python3.6/dist-packages (from networkx>=2.0->scikit-image>=0.16.1->albumentations==0.5.1) (4.4.2)\n",
            "Requirement already satisfied, skipping upgrade: python-dateutil>=2.1 in /usr/local/lib/python3.6/dist-packages (from matplotlib!=3.0.0,>=2.0.0->scikit-image>=0.16.1->albumentations==0.5.1) (2.8.1)\n",
            "Requirement already satisfied, skipping upgrade: pyparsing!=2.0.4,!=2.1.2,!=2.1.6,>=2.0.1 in /usr/local/lib/python3.6/dist-packages (from matplotlib!=3.0.0,>=2.0.0->scikit-image>=0.16.1->albumentations==0.5.1) (2.4.7)\n",
            "Requirement already satisfied, skipping upgrade: cycler>=0.10 in /usr/local/lib/python3.6/dist-packages (from matplotlib!=3.0.0,>=2.0.0->scikit-image>=0.16.1->albumentations==0.5.1) (0.10.0)\n",
            "Requirement already satisfied, skipping upgrade: kiwisolver>=1.0.1 in /usr/local/lib/python3.6/dist-packages (from matplotlib!=3.0.0,>=2.0.0->scikit-image>=0.16.1->albumentations==0.5.1) (1.3.1)\n",
            "Building wheels for collected packages: albumentations\n",
            "  Building wheel for albumentations (setup.py) ... \u001b[?25l\u001b[?25hdone\n",
            "  Created wheel for albumentations: filename=albumentations-0.5.1-cp36-none-any.whl size=72066 sha256=bf2da64ad76d1a52ed25db95581e03607c03c52cb8a96772f5a6079c70ef4440\n",
            "  Stored in directory: /tmp/pip-ephem-wheel-cache-by84fprm/wheels/45/8b/e4/2837bbcf517d00732b8e394f8646f22b8723ac00993230188b\n",
            "Successfully built albumentations\n",
            "Installing collected packages: imgaug, albumentations\n",
            "  Found existing installation: imgaug 0.2.9\n",
            "    Uninstalling imgaug-0.2.9:\n",
            "      Successfully uninstalled imgaug-0.2.9\n",
            "  Found existing installation: albumentations 0.1.12\n",
            "    Uninstalling albumentations-0.1.12:\n",
            "      Successfully uninstalled albumentations-0.1.12\n",
            "Successfully installed albumentations-0.5.1 imgaug-0.4.0\n"
          ],
          "name": "stdout"
        }
      ]
    },
    {
      "cell_type": "code",
      "metadata": {
        "id": "eAhM3y21QmFP"
      },
      "source": [
        "import pandas as pd\n",
        "import numpy as np\n",
        "import torch\n",
        "from torch import nn\n",
        "from torch.nn import functional as F\n",
        "import pandas as pd\n",
        "import numpy as np\n",
        "import torch\n",
        "from torch import nn\n",
        "from torch.nn import functional as F\n",
        "from torch.utils.data import Dataset, DataLoader\n",
        "import json\n",
        "from tqdm import tqdm\n",
        "import glob\n",
        "import cv2\n",
        "import os\n",
        "import torchvision\n",
        "import matplotlib.pyplot as plt\n",
        "from sklearn.metrics import auc\n",
        "import albumentations as A\n",
        "from albumentations.pytorch import ToTensor \n",
        "from torch.utils.data import Dataset, DataLoader"
      ],
      "execution_count": null,
      "outputs": []
    },
    {
      "cell_type": "code",
      "metadata": {
        "id": "PzDzQaEwQmFP"
      },
      "source": [
        "import xmltodict, json"
      ],
      "execution_count": null,
      "outputs": []
    },
    {
      "cell_type": "code",
      "metadata": {
        "id": "GTXZt2YgjDle"
      },
      "source": [
        "!unzip '/content/drive/My Drive/archive.zip'"
      ],
      "execution_count": null,
      "outputs": []
    },
    {
      "cell_type": "code",
      "metadata": {
        "id": "HXyuafTDQmFP"
      },
      "source": [
        "\n",
        "class2tag = {\"apple\": 1, \"orange\": 2, \"banana\": 3}\n",
        "\n",
        "\n",
        "class FruitDataset(Dataset):\n",
        "    def __init__(self, data_dir, transform=None):\n",
        "        self.images = []\n",
        "        self.annotations = []\n",
        "        self.transform = transform\n",
        "        for annotation in glob.glob(data_dir + \"/*xml\"):\n",
        "            image_fname = os.path.splitext(annotation)[0] + \".jpg\"\n",
        "            self.images.append(cv2.cvtColor(cv2.imread(image_fname), cv2.COLOR_BGR2RGB))\n",
        "            with open(annotation) as f:\n",
        "                annotation_dict = xmltodict.parse(f.read())\n",
        "            bboxes = []\n",
        "            labels = []\n",
        "            objects = annotation_dict[\"annotation\"][\"object\"]\n",
        "            if not isinstance(objects, list):\n",
        "                objects = [objects]\n",
        "            for obj in objects:\n",
        "                bndbox = obj[\"bndbox\"]\n",
        "                bbox = [bndbox[\"xmin\"], bndbox[\"ymin\"], bndbox[\"xmax\"], bndbox[\"ymax\"]]\n",
        "                bbox = list(map(int, bbox))\n",
        "                bboxes.append(torch.tensor(bbox))\n",
        "                labels.append(class2tag[obj[\"name\"]])\n",
        "            self.annotations.append(\n",
        "                {\"boxes\": torch.stack(bboxes).float(), \"labels\": torch.tensor(labels)}\n",
        "            )\n",
        "\n",
        "    def __getitem__(self, i):\n",
        "        if self.transform:\n",
        "            # the following code is correct if you use albumentations\n",
        "            # if you use torchvision transforms you have to modify it =)\n",
        "            res = self.transform(\n",
        "                image=self.images[i],\n",
        "                bboxes=self.annotations[i][\"boxes\"],\n",
        "                labels=self.annotations[i][\"labels\"],\n",
        "            )\n",
        "            return res[\"image\"], {\n",
        "                \"boxes\": torch.tensor(res[\"bboxes\"]),\n",
        "                \"labels\": torch.tensor(res[\"labels\"]),\n",
        "            }\n",
        "        else:\n",
        "            return self.images[i], self.annotations[i]\n",
        "\n",
        "    def __len__(self):\n",
        "        return len(self.images)"
      ],
      "execution_count": null,
      "outputs": []
    },
    {
      "cell_type": "markdown",
      "metadata": {
        "id": "ODWQhclFQmFP"
      },
      "source": [
        "Выпишем кое-какую техническую работу, которая уже была на семинаре."
      ]
    },
    {
      "cell_type": "code",
      "metadata": {
        "id": "0i4AnWAJQmFP"
      },
      "source": [
        "def intersection_over_union(dt_bbox, gt_bbox):\n",
        "    \"\"\"\n",
        "    Intersection over Union between two bboxes\n",
        "    :param dt_bbox: list or numpy array of size (4,) [x0, y0, x1, y1]\n",
        "    :param gt_bbox: list or numpy array of size (4,) [x0, y0, x1, y1]\n",
        "    :return : intersection over union\n",
        "    \"\"\"\n",
        "\n",
        "\n",
        "    intersection_bbox = np.array(\n",
        "        [\n",
        "            max(dt_bbox[0], gt_bbox[0]),\n",
        "            max(dt_bbox[1], gt_bbox[1]),\n",
        "            min(dt_bbox[2], gt_bbox[2]),\n",
        "            min(dt_bbox[3], gt_bbox[3]),\n",
        "        ]\n",
        "    )\n",
        "\n",
        "    intersection_area = max(intersection_bbox[2] - intersection_bbox[0], 0) * max(\n",
        "        intersection_bbox[3] - intersection_bbox[1], 0\n",
        "    )\n",
        "    area_dt = (dt_bbox[2] - dt_bbox[0]) * (dt_bbox[3] - dt_bbox[1])\n",
        "    area_gt = (gt_bbox[2] - gt_bbox[0]) * (gt_bbox[3] - gt_bbox[1])\n",
        "\n",
        "    union_area = area_dt + area_gt - intersection_area\n",
        "\n",
        "    iou = intersection_area / union_area\n",
        "    return iou\n",
        "\n",
        "def evaluate_sample(target_pred, target_true, iou_threshold=0.5):\n",
        "    gt_bboxes = target_true[\"boxes\"].numpy()\n",
        "    gt_labels = target_true[\"labels\"].numpy()\n",
        "\n",
        "    dt_bboxes = target_pred[\"boxes\"].numpy()\n",
        "    dt_labels = target_pred[\"labels\"].numpy()\n",
        "    dt_scores = target_pred[\"scores\"].numpy()\n",
        "\n",
        "    results = []\n",
        "    for detection_id in range(len(dt_labels)):\n",
        "        dt_bbox = dt_bboxes[detection_id, :]\n",
        "        dt_label = dt_labels[detection_id]\n",
        "        dt_score = dt_scores[detection_id]\n",
        "\n",
        "        detection_result_dict = {\"score\": dt_score}\n",
        "\n",
        "        max_IoU = 0\n",
        "        max_gt_id = -1\n",
        "        for gt_id in range(len(gt_labels)):\n",
        "            gt_bbox = gt_bboxes[gt_id, :]\n",
        "            gt_label = gt_labels[gt_id]\n",
        "\n",
        "            if gt_label != dt_label:\n",
        "                continue\n",
        "\n",
        "            if intersection_over_union(dt_bbox, gt_bbox) > max_IoU:\n",
        "                max_IoU = intersection_over_union(dt_bbox, gt_bbox)\n",
        "                max_gt_id = gt_id\n",
        "\n",
        "        if max_gt_id >= 0 and max_IoU >= iou_threshold:\n",
        "            detection_result_dict[\"TP\"] = 1\n",
        "            gt_labels = np.delete(gt_labels, max_gt_id, axis=0)\n",
        "            gt_bboxes = np.delete(gt_bboxes, max_gt_id, axis=0)\n",
        "\n",
        "        else:\n",
        "            detection_result_dict[\"TP\"] = 0\n",
        "\n",
        "        results.append(detection_result_dict)\n",
        "\n",
        "    return results\n",
        "\n",
        "\n",
        "def evaluate(model, test_loader, device):\n",
        "    results = []\n",
        "    model.to(device)\n",
        "    model.eval()\n",
        "    nbr_boxes = 0\n",
        "    with torch.no_grad():\n",
        "        for batch, (images, targets_true) in enumerate(test_loader):\n",
        "        \n",
        "            images = list(image.to(device).float() for image in images)\n",
        "            targets_pred = model(images)\n",
        "            targets_true = [\n",
        "                {k: v.cpu().float() for k, v in t.items()} for t in targets_true\n",
        "            ]\n",
        "            targets_pred = [\n",
        "                {k: v.cpu().float() for k, v in t.items()} for t in targets_pred\n",
        "            ]\n",
        "\n",
        "            for i in range(len(targets_true)):\n",
        "                target_true = targets_true[i]\n",
        "                target_pred = targets_pred[i]\n",
        "                nbr_boxes += target_true[\"labels\"].shape[0]\n",
        "\n",
        "                results.extend(evaluate_sample(target_pred, target_true))\n",
        "\n",
        "    results = sorted(results, key=lambda k: k[\"score\"], reverse=True)\n",
        "\n",
        "    acc_TP = np.zeros(len(results))\n",
        "    acc_FP = np.zeros(len(results))\n",
        "    recall = np.zeros(len(results))\n",
        "    precision = np.zeros(len(results))\n",
        "\n",
        "    if results[0][\"TP\"] == 1:\n",
        "        acc_TP[0] = 1\n",
        "    else:\n",
        "        acc_FP[0] = 1\n",
        "\n",
        "    for i in range(1, len(results)):\n",
        "        acc_TP[i] = results[i][\"TP\"] + acc_TP[i - 1]\n",
        "        acc_FP[i] = (1 - results[i][\"TP\"]) + acc_FP[i - 1]\n",
        "\n",
        "        precision[i] = acc_TP[i] / (acc_TP[i] + acc_FP[i])\n",
        "        recall[i] = acc_TP[i] / nbr_boxes\n",
        "\n",
        "    return auc(recall, precision)"
      ],
      "execution_count": null,
      "outputs": []
    },
    {
      "cell_type": "code",
      "metadata": {
        "id": "bN3w1uQ6QmFP"
      },
      "source": [
        "def train_one_epoch(model, train_dataloader, optimizer, device):\n",
        "  model.to(device).train()\n",
        "  n = 0\n",
        "  global_loss = 0\n",
        "  for images, targets in train_dataloader:\n",
        "      images = list(image.to(device).float() for image in images)\n",
        "      targets = [{k: v.to(device) for k, v in t.items()} for t in targets]\n",
        "      dict_loss = model(images, targets)\n",
        "      losses = sum(loss for loss in dict_loss.values())\n",
        "\n",
        "      optimizer.zero_grad()\n",
        "      losses.backward()\n",
        "      optimizer.step()\n",
        "\n",
        "      n += 1\n",
        "      global_loss += float(losses.cpu().detach().numpy())\n",
        "\n",
        "      if n % 10 == 0:\n",
        "          print(\"Loss value after {} batches is {}\".format(n, round(global_loss / n, 2)))\n",
        "\n",
        "  return global_loss\n",
        "\n",
        "\n",
        "\n",
        "def train(model, train_dataloader, val_dataloader, optimizer, device, n_epochs=10):\n",
        "    for epoch in range(n_epochs):\n",
        "        model.eval()\n",
        "        a = evaluate(model, val_dataloader, device=device)\n",
        "        print(\"AUC ON TEST: {}\".format(a))\n",
        "        model.train()\n",
        "        train_one_epoch(model, train_dataloader, optimizer, device=device)"
      ],
      "execution_count": null,
      "outputs": []
    },
    {
      "cell_type": "code",
      "metadata": {
        "id": "zbV3NzXTQmFP",
        "colab": {
          "base_uri": "https://localhost:8080/",
          "height": 83,
          "referenced_widgets": [
            "9e6f15b251a749c6a33ab334482d9c27",
            "6f129c1bb1954b559d9cf56f7c78bd53",
            "30f4c231ac0f4408bddd3b3c2fb48cbd",
            "b8b5b5b03c53496ba6e5c4181d516e3d",
            "b36a14273a1d4dbea6111f512f1a7996",
            "3c991683f453485aac112b2aea9e0ce3",
            "edc4f894109342529536861c70efaf27",
            "d3a6dd9959be4cc3bfd083de021e136c"
          ]
        },
        "outputId": "096e096c-0ccc-4079-b63b-3c591d863624"
      },
      "source": [
        "transform = A.Compose([\n",
        "    A.HorizontalFlip(p=0.5),\n",
        "    A.RandomBrightnessContrast(p=0.2),\n",
        "    A.pytorch.ToTensor() \n",
        "], bbox_params=A.BboxParams(format='pascal_voc', label_fields=['labels']))\n",
        "def collate_fn(batch):\n",
        "    return tuple(zip(*batch))\n",
        "\n",
        "train_ds = FruitDataset('./train_zip/train', transform=transform)\n",
        "test_ds = FruitDataset('./test_zip/test', transform=transform)\n",
        "\n",
        "train_dataloader_2 = torch.utils.data.DataLoader(train_ds, batch_size=2, num_workers=1, shuffle=True, collate_fn=collate_fn)\n",
        "test_dataloader_2 = torch.utils.data.DataLoader(test_ds, batch_size=1, num_workers=1, shuffle=True, collate_fn=collate_fn)\n",
        "\n",
        "from torchvision.models.detection import fasterrcnn_resnet50_fpn\n",
        "from torchvision.models.detection.faster_rcnn import FastRCNNPredictor\n",
        "\n",
        "def get_detection_model(num_classes=4):\n",
        "    model = fasterrcnn_resnet50_fpn(pretrained=True)\n",
        "    # get the number of input features for the classifier\n",
        "    in_features = model.roi_heads.box_predictor.cls_score.in_features\n",
        "    # replace the pre-trained head with a new one\n",
        "    model.roi_heads.box_predictor = FastRCNNPredictor(in_features, num_classes)\n",
        "\n",
        "    return model\n",
        "model = get_detection_model()\n",
        "\n",
        "\n",
        "params = [p for p in model.parameters() if p.requires_grad]\n",
        "optimizer = torch.optim.SGD(params, lr=0.005,\n",
        "                              momentum=0.9, weight_decay=0.0005)\n",
        "n_epochs = 10\n",
        "device = torch.device(\"cuda:0\") if torch.cuda.is_available() else torch.device(\"cpu\")\n",
        "\n"
      ],
      "execution_count": null,
      "outputs": [
        {
          "output_type": "stream",
          "text": [
            "Downloading: \"https://download.pytorch.org/models/fasterrcnn_resnet50_fpn_coco-258fb6c6.pth\" to /root/.cache/torch/hub/checkpoints/fasterrcnn_resnet50_fpn_coco-258fb6c6.pth\n"
          ],
          "name": "stderr"
        },
        {
          "output_type": "display_data",
          "data": {
            "application/vnd.jupyter.widget-view+json": {
              "model_id": "9e6f15b251a749c6a33ab334482d9c27",
              "version_minor": 0,
              "version_major": 2
            },
            "text/plain": [
              "HBox(children=(FloatProgress(value=0.0, max=167502836.0), HTML(value='')))"
            ]
          },
          "metadata": {
            "tags": []
          }
        },
        {
          "output_type": "stream",
          "text": [
            "\n"
          ],
          "name": "stdout"
        }
      ]
    },
    {
      "cell_type": "code",
      "metadata": {
        "colab": {
          "base_uri": "https://localhost:8080/"
        },
        "id": "mhQ2ZIEZWZg7",
        "outputId": "022f82e0-aa4f-4007-eb20-41d1768ec216"
      },
      "source": [
        "train(model, train_dataloader_2, test_dataloader_2, optimizer, device, n_epochs)"
      ],
      "execution_count": null,
      "outputs": [
        {
          "output_type": "stream",
          "text": [
            "AUC ON TEST: 0.0012567287197418468\n",
            "Loss value after 10 batches is 0.67\n",
            "Loss value after 20 batches is 0.58\n",
            "Loss value after 30 batches is 0.52\n",
            "Loss value after 40 batches is 0.48\n",
            "Loss value after 50 batches is 0.43\n",
            "Loss value after 60 batches is 0.39\n",
            "Loss value after 70 batches is 0.38\n",
            "Loss value after 80 batches is 0.37\n",
            "Loss value after 90 batches is 0.36\n",
            "Loss value after 100 batches is 0.35\n",
            "Loss value after 110 batches is 0.34\n",
            "Loss value after 120 batches is 0.33\n",
            "AUC ON TEST: 0.8521398351290883\n",
            "Loss value after 10 batches is 0.27\n",
            "Loss value after 20 batches is 0.21\n",
            "Loss value after 30 batches is 0.22\n",
            "Loss value after 40 batches is 0.21\n",
            "Loss value after 50 batches is 0.21\n",
            "Loss value after 60 batches is 0.2\n",
            "Loss value after 70 batches is 0.21\n",
            "Loss value after 80 batches is 0.2\n",
            "Loss value after 90 batches is 0.19\n",
            "Loss value after 100 batches is 0.19\n",
            "Loss value after 110 batches is 0.19\n",
            "Loss value after 120 batches is 0.19\n",
            "AUC ON TEST: 0.9087102533781545\n",
            "Loss value after 10 batches is 0.12\n",
            "Loss value after 20 batches is 0.16\n",
            "Loss value after 30 batches is 0.17\n",
            "Loss value after 40 batches is 0.17\n",
            "Loss value after 50 batches is 0.16\n",
            "Loss value after 60 batches is 0.16\n",
            "Loss value after 70 batches is 0.17\n",
            "Loss value after 80 batches is 0.17\n",
            "Loss value after 90 batches is 0.16\n",
            "Loss value after 100 batches is 0.16\n",
            "Loss value after 110 batches is 0.16\n",
            "Loss value after 120 batches is 0.16\n",
            "AUC ON TEST: 0.9124287404517896\n",
            "Loss value after 10 batches is 0.16\n",
            "Loss value after 20 batches is 0.15\n",
            "Loss value after 30 batches is 0.14\n",
            "Loss value after 40 batches is 0.14\n",
            "Loss value after 50 batches is 0.14\n",
            "Loss value after 60 batches is 0.15\n",
            "Loss value after 70 batches is 0.15\n",
            "Loss value after 80 batches is 0.15\n",
            "Loss value after 90 batches is 0.14\n",
            "Loss value after 100 batches is 0.15\n",
            "Loss value after 110 batches is 0.15\n",
            "Loss value after 120 batches is 0.15\n",
            "AUC ON TEST: 0.8777801326539841\n",
            "Loss value after 10 batches is 0.12\n",
            "Loss value after 20 batches is 0.11\n",
            "Loss value after 30 batches is 0.13\n",
            "Loss value after 40 batches is 0.13\n",
            "Loss value after 50 batches is 0.14\n",
            "Loss value after 60 batches is 0.14\n",
            "Loss value after 70 batches is 0.14\n",
            "Loss value after 80 batches is 0.15\n",
            "Loss value after 90 batches is 0.14\n",
            "Loss value after 100 batches is 0.14\n",
            "Loss value after 110 batches is 0.14\n",
            "Loss value after 120 batches is 0.14\n",
            "AUC ON TEST: 0.9243383140949262\n",
            "Loss value after 10 batches is 0.12\n",
            "Loss value after 20 batches is 0.11\n",
            "Loss value after 30 batches is 0.11\n",
            "Loss value after 40 batches is 0.12\n",
            "Loss value after 50 batches is 0.12\n",
            "Loss value after 60 batches is 0.12\n",
            "Loss value after 70 batches is 0.12\n",
            "Loss value after 80 batches is 0.12\n",
            "Loss value after 90 batches is 0.12\n",
            "Loss value after 100 batches is 0.12\n",
            "Loss value after 110 batches is 0.12\n",
            "Loss value after 120 batches is 0.11\n",
            "AUC ON TEST: 0.9150353086715982\n",
            "Loss value after 10 batches is 0.09\n",
            "Loss value after 20 batches is 0.09\n",
            "Loss value after 30 batches is 0.1\n",
            "Loss value after 40 batches is 0.1\n",
            "Loss value after 50 batches is 0.09\n",
            "Loss value after 60 batches is 0.1\n",
            "Loss value after 70 batches is 0.1\n",
            "Loss value after 80 batches is 0.11\n",
            "Loss value after 90 batches is 0.11\n",
            "Loss value after 100 batches is 0.11\n",
            "Loss value after 110 batches is 0.11\n",
            "Loss value after 120 batches is 0.11\n",
            "AUC ON TEST: 0.9346685976356441\n",
            "Loss value after 10 batches is 0.1\n",
            "Loss value after 20 batches is 0.08\n",
            "Loss value after 30 batches is 0.08\n",
            "Loss value after 40 batches is 0.09\n",
            "Loss value after 50 batches is 0.1\n",
            "Loss value after 60 batches is 0.1\n",
            "Loss value after 70 batches is 0.11\n",
            "Loss value after 80 batches is 0.11\n",
            "Loss value after 90 batches is 0.1\n",
            "Loss value after 100 batches is 0.11\n",
            "Loss value after 110 batches is 0.11\n",
            "Loss value after 120 batches is 0.11\n",
            "AUC ON TEST: 0.9177658436061442\n",
            "Loss value after 10 batches is 0.14\n",
            "Loss value after 20 batches is 0.12\n",
            "Loss value after 30 batches is 0.12\n",
            "Loss value after 40 batches is 0.1\n",
            "Loss value after 50 batches is 0.1\n",
            "Loss value after 60 batches is 0.1\n",
            "Loss value after 70 batches is 0.1\n",
            "Loss value after 80 batches is 0.1\n",
            "Loss value after 90 batches is 0.1\n",
            "Loss value after 100 batches is 0.09\n",
            "Loss value after 110 batches is 0.09\n",
            "Loss value after 120 batches is 0.09\n",
            "AUC ON TEST: 0.9404396059985951\n",
            "Loss value after 10 batches is 0.11\n",
            "Loss value after 20 batches is 0.1\n",
            "Loss value after 30 batches is 0.1\n",
            "Loss value after 40 batches is 0.1\n",
            "Loss value after 50 batches is 0.1\n",
            "Loss value after 60 batches is 0.1\n",
            "Loss value after 70 batches is 0.09\n",
            "Loss value after 80 batches is 0.1\n",
            "Loss value after 90 batches is 0.09\n",
            "Loss value after 100 batches is 0.09\n",
            "Loss value after 110 batches is 0.09\n",
            "Loss value after 120 batches is 0.09\n"
          ],
          "name": "stdout"
        }
      ]
    },
    {
      "cell_type": "markdown",
      "metadata": {
        "id": "slMWlvoGQmFP"
      },
      "source": [
        "Нарисуем предсказанные bounding box'ы для любых двух картинок из __тестового__ датасета."
      ]
    },
    {
      "cell_type": "code",
      "metadata": {
        "id": "Kd9soH2nQmFP"
      },
      "source": [
        "image, labels = next(iter(train_ds))\n",
        "pred = model(image.unsqueeze(0).to(device))[0]"
      ],
      "execution_count": null,
      "outputs": []
    },
    {
      "cell_type": "code",
      "metadata": {
        "id": "jsZduKt2QmFP",
        "colab": {
          "base_uri": "https://localhost:8080/",
          "height": 391
        },
        "outputId": "5140f2c4-8566-4662-d177-a61cc161d0f2"
      },
      "source": [
        "from PIL import ImageDraw\n",
        "\n",
        "image = torchvision.transforms.ToPILImage()(image)\n",
        "draw = ImageDraw.Draw(image)\n",
        "for box in labels['boxes']:\n",
        "    draw.rectangle([(box[0], box[1]), (box[2], box[3])])\n",
        "    \n",
        "for box in pred['boxes']:\n",
        "    draw.rectangle([(box[0], box[1]), (box[2], box[3])], outline='red')\n",
        "image"
      ],
      "execution_count": null,
      "outputs": [
        {
          "output_type": "execute_result",
          "data": {
            "image/png": "[encoded data removed]",
            "text/plain": [
              "<PIL.Image.Image image mode=RGB size=581x374 at 0x7F809D31A8D0>"
            ]
          },
          "metadata": {
            "tags": []
          },
          "execution_count": 23
        }
      ]
    },
    {
      "cell_type": "code",
      "metadata": {
        "id": "csqhOwrhQmFP",
        "colab": {
          "base_uri": "https://localhost:8080/"
        },
        "outputId": "839f9ce7-acc9-4f2b-c4ad-b76b8c2d7b76"
      },
      "source": [
        "print(accuracy, 'легко, не почувствовал')"
      ],
      "execution_count": null,
      "outputs": [
        {
          "output_type": "stream",
          "text": [
            "0.5208 легко, не почувствовал\n"
          ],
          "name": "stdout"
        }
      ]
    },
    {
      "cell_type": "markdown",
      "metadata": {
        "id": "VhaZYtlMRK6D"
      },
      "source": [
        "Вначале пробовал алекснет, потому что он самый простой и гоняется быстрее. Но он не обучался от слова совсем\n",
        "потом вгг, потому что он тоже простой, понакрученнее алекснета притом разные вгг. Он тоже не обучался, качество ни на трейне ни на валидации просто не росло \n",
        "В итоге попробовал резнет18, скачал предобученную, обучал только последний слой, потому что он еще сильнее, хоть и по времени больше займет. К сожалению, и он не сработал вначале и модель по прежнему не обучалась. \n",
        "\n",
        "Каждый раз был ноль на валидации, а на трейне было 4 значения, которые просто друг за другом сменялись. ничего не происходило со сменой эпох. было очень грустно\n",
        "\n",
        "Потом попробовал resnext, там предобученные веса заняли 15гб на гпу, либо я как-то его сломал)))\n",
        "не сработало очевидно\n",
        "\n",
        "потом я вернулся к резнет18, так как она по-хорошему должна хорошо пробивать классификацию.\n",
        "выкинул половину классов в трейне, чтобы посмотреть обучается ли оно вообще, ну и чтобы было быстрее, пофиксить все ошибки\n",
        "также попробовал обучать не последний слой, а все. Обучение пошло.\n",
        "после этого я еще добавил аугментацию, для улучшения качества и взял полный датасет\n",
        "это был мой мучительный и долгий путь к успеху"
      ]
    }
  ]
}