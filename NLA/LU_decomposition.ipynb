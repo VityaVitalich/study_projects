{
 "cells": [
  {
   "cell_type": "markdown",
   "metadata": {},
   "source": [
    "# Домашнее задание 3 (14 + 26 = 40 pts)"
   ]
  },
  {
   "cell_type": "markdown",
   "metadata": {},
   "source": [
    "## Задача 1 (14 pts)\n",
    "\n",
    "- (1 pts) Покажите, что если матрица $A$ обратима, то $\\|A^{-1}\\|_F \\geq \\frac{\\sqrt{n}}{\\|A\\|_F}$\n",
    "\n",
    "\n",
    "$\\|A^{-1}\\|_F^2 \\geq \\frac{n}{\\|A\\|_F^2}$\n",
    "\n",
    "Применим SVD разложение и вспомним, что мы доказывали в прошлой домашке, что домножение на униатрные матрицы не меняет нормы\n",
    "\n",
    "\n",
    "$\\|A^{-1}\\|_F^2 = \\|\\Sigma^{-1}\\|_F^2$\n",
    "\n",
    "$\\|\\Sigma^{-1}\\|_F^2 = \\sum\\limits_{i=1}^n \\frac{1}{\\sigma_i^2}$\n",
    "\n",
    "$\\|A\\|_F^2 = \\|\\Sigma\\|_F^2$\n",
    "\n",
    "$\\|\\Sigma\\|_F^2 = \\sum\\limits_{i=1}^n {\\sigma_i^2}$\n",
    "\n",
    "Так как $\\sigma_1 \\geq \\sigma_i \\quad \\forall i$\n",
    "\n",
    "$\\sum\\limits_{i=1}^n \\frac{1}{\\sigma_i}^2 \\geq \\frac{n}{\\sigma_1}^2 \\geq \\frac{n}{\\sum\\limits_{i=1}^n \\sigma_i}^2 $\n",
    "\n",
    "Из выражения выше взятием корня получаем \n",
    "\n",
    "$\\|A^{-1}\\|_F \\geq \\frac{\\sqrt{n}}{\\|A\\|_F}$"
   ]
  },
  {
   "cell_type": "markdown",
   "metadata": {},
   "source": [
    "\n",
    "\n",
    "- (3 pts) Рассмотрим матрицу $A = \\begin{bmatrix} I & a \\\\ a^{\\top} & 0 \\end{bmatrix}$. Когда она является обратимой? Пусть она обратима, тогда найдите выражение для $A^{-1}$\n",
    "\n",
    "\n",
    "Матрица является обратимой, когда ее определитель не равен 0. В нашем случае матрица имеет обратную когда $det(A) = aa^T \\neq 0 \\Rightarrow a \\neq 0$\n",
    "\n",
    "\n",
    "Рассмотрим обратную матрицу $A^{-1}$. У симетричной матрицы, обратная тоже симметричная, что достаточно просто проверяется.\n",
    "\n",
    "Тогда будет справедливо выражение\n",
    "\n",
    "\n",
    "$\\begin{bmatrix}\n",
    "    I & a \\\\\n",
    "    a^T & 0 \n",
    "\\end{bmatrix} \n",
    "\\begin{bmatrix}\n",
    "    B & b \\\\\n",
    "    b^T & e \n",
    "\\end{bmatrix}  = \n",
    "\\begin{bmatrix}\n",
    "    I & 0 \\\\\n",
    "    0 & 1 \n",
    "\\end{bmatrix}$\n",
    "\n",
    "Тогда \n",
    "\n",
    "1. $IB + ab^T = I$\n",
    "\n",
    "2. $b + ea = 0$\n",
    "\n",
    "3. $a^TB = 0$\n",
    "\n",
    "4. $a^Tb = 1$\n",
    "\n",
    "$\\Downarrow$\n",
    "\n",
    "из утверждения 3 и неотрицательности вектора a следует, что $B = 0$, из чего следует , что \n",
    "1. $ab^T = I$\n",
    "\n",
    "2. $b = -ea$, тогда 4. $-ea^Ta = 1 \\Rightarrow e = \\cfrac{1}{||a||_2^2}$\n",
    "\n",
    "Тогда \n",
    "\n",
    "2. $b = \\cfrac{a}{||a||_2^2}$\n",
    "\n",
    "Вернемся к построению \n",
    "\n",
    "\n",
    "$\\begin{bmatrix}\n",
    "    I & a \\\\\n",
    "    a^T & 0 \n",
    "\\end{bmatrix} \n",
    "\\begin{bmatrix}\n",
    "    0 & \\cfrac{a}{||a||_2^2} \\\\\n",
    "    \\cfrac{a^T}{||a||_2^2} & \\cfrac{-1}{||a||_2^2} \n",
    "\\end{bmatrix}  = \n",
    "\\begin{bmatrix}\n",
    "    I & 0 \\\\\n",
    "    0 & 1 \n",
    "\\end{bmatrix}$\n",
    "\n",
    "Видим, что в обратной матрице должен быть не 0\n",
    "\n",
    "Нехитрыми манипуляциями получим\n",
    "\n",
    "$IK + \\cfrac{aa^T}{||a||_2^2} = I$\n",
    "\n",
    "$IK = I - \\cfrac{aa^T}{||a||_2^2}$\n",
    "\n",
    "$K = I - \\cfrac{aa^T}{||a||_2^2}$\n",
    "\n",
    "Тогда наша обратная - это \n",
    "\n",
    "$\\begin{bmatrix}\n",
    "    I - \\cfrac{aa^T}{||a||_2^2} & \\cfrac{a}{||a||_2^2} \\\\\n",
    "    \\cfrac{a^T}{||a||_2^2} & \\cfrac{-1}{||a||_2^2} \n",
    "\\end{bmatrix}$\n",
    "\n",
    "умножая ее на нашу матрицу получим, что это действительно обратная"
   ]
  },
  {
   "cell_type": "markdown",
   "metadata": {},
   "source": [
    "\n",
    "- (2 pts) Получите аналитически выражение обратной матрицы для следующей блочно-треугольной матрицы\n",
    "\n",
    "$$ \n",
    "\\begin{bmatrix} A_{11} & 0 \\\\ A_{21} & A_{22} \\end{bmatrix}.\n",
    "$$\n",
    "\n",
    "Перечислите требования к блокам, необходимые для существования обратной матрицы.\n",
    "\n",
    "\n",
    "Рассмотрим как в прошлой задаче обратную \n",
    "\n",
    "$\\begin{bmatrix} \n",
    "A_{11} & 0 \\\\\n",
    " A_{21} & A_{22}\n",
    "  \\end{bmatrix}\n",
    "  \\begin{bmatrix}\n",
    "B & C \\\\\n",
    "D & E\n",
    "\\end{bmatrix} = \n",
    "  \\begin{bmatrix}\n",
    " I & 0 \\\\\n",
    " 0 & I\n",
    "\\end{bmatrix}$\n",
    "\n",
    "\n",
    "1. $A_{11}B = I$\n",
    "2. $A_{11}C = 0$\n",
    "3. $A_{21}B + A_{22}D = I$\n",
    "4. $A_{21}C + A_{22}E = I$\n",
    "\n",
    "Видим, что $C = 0$, иначе $A_{11} = 0$, и тогда матрица вырождена и не имеет обратной\n",
    "\n",
    "Тогда \n",
    "\n",
    "1. $B = A_{11}^{-1}$\n",
    "\n",
    "3. $A_{21}A_{11}^{-1} + A_{22}D = I \\Rightarrow D = A_{22}^{-1}(-A_{21}A_{11}^{-1})$\n",
    "\n",
    "4. $E = A_{22}^{-1}$\n",
    "\n",
    "\n",
    "Таким образом, мы пострили обратную матрицу. Просто проверкой видим, что она действительно является обратной. Чтобы матрица была обратима, мы должны потребовать, чтобы $A_{11}$ и $A_{22}$ были обратимы\n",
    "\n",
    "\n",
    "$\\begin{bmatrix} \n",
    "A_{11} & 0 \\\\\n",
    " A_{21} & A_{22}\n",
    "  \\end{bmatrix}\n",
    "  \\begin{bmatrix}\n",
    "A_{11}^{-1} & 0 \\\\\n",
    "A_{22}^{-1}(-A_{21}A_{11}^{-1}) & A_{22}^{-1}\n",
    "\\end{bmatrix} = \n",
    "  \\begin{bmatrix}\n",
    " I & 0 \\\\\n",
    " 0 & I\n",
    "\\end{bmatrix}$\n",
    "\n"
   ]
  },
  {
   "cell_type": "markdown",
   "metadata": {},
   "source": [
    "- (2 pts) Рассмотрим матрицу $\\begin{bmatrix} A_1 \\\\ A_2 \\end{bmatrix}$, где матрица $A_1$ невырождена и размера $n \\times n$, а матрица $A_2$ произвольная размера $(m - n) \\times n$. Докажите, что $\\|A^{\\dagger}\\|_2 \\leq \\|A^{-1}_1\\|_2$\n",
    "\n",
    "\n",
    "$\\|A^{\\dagger}\\|_2 = ||U\\Sigma^{-1}V^*||_2$\n",
    "\n",
    "$\\|A^{-1}_1\\|_2 = ||U_1\\Sigma_1^{-1}V_1^*||_2$\n",
    "\n",
    "Как мы знаем, унитарные матрицы не меняют вторую норму, поэтому наша задача сводится к тому чтобы доказать\n",
    "\n",
    "$||\\Sigma^{-1}||_2 \\leq ||\\Sigma_1^{-1}||_2 \\Rightarrow \\frac{1}{\\sigma_n} \\leq \\frac{1}{\\sigma_{1n}} \\Rightarrow \\sigma_{1n} \\leq \\sigma_n$\n",
    "\n",
    "Докажем последнее, тогда мы докажем утверждение\n",
    "\n",
    "$\\sigma_n = \\min_{||x|| \\neq 0} \\cfrac{||Ax||_2}{||x||_2} =\\min_{||x|| \\neq 0} \\cfrac{||\\begin{bmatrix} A_1x \\\\ A_2x \\end{bmatrix}||_2}{||x||_2} \\geq \\min_{||x|| \\neq 0} \\cfrac{||A_1x||_2}{||x||_2} = \\sigma_{1n}$\n",
    "\n",
    "\n",
    "Неравенство следует из того что \n",
    "\n",
    "$||\\begin{bmatrix} A_1x \\\\ A_2x \\end{bmatrix}||_2^2 = ||A_1x||_2^2 + ||A_2x||_2^2 \\leq ||A_1x||_2^2$\n",
    "\n",
    "$\\blacksquare$"
   ]
  },
  {
   "cell_type": "markdown",
   "metadata": {},
   "source": [
    "- (6 pts) Рассмотрим следующую блочную систему линейных уравнений\n",
    "\n",
    "$$\n",
    "\\begin{bmatrix} P & A^{\\top} \\\\ A & 0 \\end{bmatrix} \n",
    "\\begin{bmatrix}\n",
    "u\\\\ v \\end{bmatrix} = \\begin{bmatrix} c\\\\ b \\end{bmatrix} \n",
    "$$\n",
    "\n",
    "Покажите, что каждое из следующих условий эквивалентно невырожденности матрицы системы:\n",
    "\n",
    "- $\\mathcal{N}(A) \\cap \\mathcal{N}(P) = \\{0\\}$, где $\\mathcal{N}(A)$ - ядро матрицы $A$.\n",
    "- существует матрица $F$ такая что $F^{\\top}PF \\succ 0$, и  $F \\in \\mathbb{R}^{n \\times (n-m)}$, $\\mathcal{R}(F) = \\mathcal{N}(A)$, $\\mathcal{R}(F)$ - образ отображения, задаваемого матрицей $F$.\n",
    "- $P + A^{\\top}QA \\succ 0$, для некоторой $Q \\succeq 0$"
   ]
  },
  {
   "cell_type": "markdown",
   "metadata": {},
   "source": [
    "Из условий дополненных в чате\n",
    "\n",
    "$P \\succ 0 , \\quad P^T = P$\n",
    "\n",
    "$A^{m \\times n} , \\quad rank(A) = m < n$\n",
    "\n",
    "При таких условиях всегда выполняется \n",
    "\n",
    "- $\\mathcal{N}(A) \\cap \\mathcal{N}(P) = \\{0\\}$, где $\\mathcal{N}(A)$ - ядро матрицы $A$.\n",
    "\n",
    "Так как P положительно определенная, следовательно ее ядро тривиальное = 0, тогда пересечение любого ядра с ним дает тривальное ядро.\n",
    "\n",
    "Тогда покажем что исходная матрица будет невырождена. По формуле определителя блочной матрицы\n",
    "\n",
    "$det(M) = det(P)det(0 - AP^{-1}A^T)$. Для невырожденности определитель должен быть не равен нулю, тогда очевидно, что определитель положительно определенной матрицы не может быть равен 0, следовательно рассмотрим 2 член произведения.\n",
    "$det(0 - AP^{-1}A^T) = det(-AP^{-1}A^T) = -det(AP^{-1}A^T)$, нетрудно доказать, что обратная от положительно определенной также является положительно определенной. Тогда\n",
    "\n",
    "$v^TAP^{-1}A^Tv = (A^Tv)^TP^{-1}(A^Tv)$. Если рассмотреть $A^Tv$, то видно, что у нее полный столбцовый ранг, строковый в транспонировании соответственно, так как $rank(A)=m$, следовательно $A^Tv = 0 \\Rightarrow v=0$. Таким образом, матрица $AP^{-1}A^T$ положительно определенная, следовательно ее определитель тоже не может быть равен 0.\n",
    "\n",
    "\n",
    "Заметим, что мы показали что матрица невырождена для изначально заданных условий (в чате). Тогда все перечисленные условия в задаче являются ослаблением требования, так как мы доказали, что такая матрица всегда невырождена. Требования дополнительных условий не изменит ее невырожденности.\n",
    "\n",
    "\n"
   ]
  },
  {
   "cell_type": "markdown",
   "metadata": {},
   "source": [
    "## Задача 2. LU разложение (26 pts)"
   ]
  },
  {
   "cell_type": "markdown",
   "metadata": {},
   "source": [
    "### 1. LU разложение для ленточных матриц (7 pts)\n",
    "\n",
    "Сложность вычисления LU разложения для матрицы размера $n\\times n$ – $\\mathcal{O}(n^3)$.\n",
    "Существенного уменьшения сложности можно добиться для матриц определённой структуры, например разреженных. \n",
    "В этой задаче рассмотрим специальный класс разреженных матриц, а именно ленточные матрицы с шириной ленты 3 и 5, которые называются трёхдиагональными и пятидиагональными, соответственно.\n",
    "\n",
    "- (5 pts) Реализуйте функцию ```band_lu(diag_broadcast, n)```, которая вычисляет LU разложение для пяти- или трёхдиагональной матрицы, на основании данных значений на диагоналях. Предполагается, что на главной диагонали фактора ```L``` стоят 1.\n",
    "Например, входные параметры ```(diag_broadcast = [3,-5,4], n = 4)``` означают, что необходимо найти LU разложение для трёхдиагональной матрицы вида:\n",
    "\n",
    "$$A = \\begin{pmatrix}\n",
    "-5 & 4 & 0 & 0\\\\\n",
    "3 & -5 & 4 & 0 \\\\\n",
    "0 & 3 & -5 & 4 \\\\\n",
    "0 & 0 & 3 & -5 \\\\\n",
    "\\end{pmatrix}.$$\n",
    "\n",
    "\n",
    "\n",
    "Функция должна возвращать двумерные NumPy массивы ```L``` и ```U```, в которых хранятся диагонали факторов. Например, ```L[0]``` содержит первую под-диагональ (поскольку на главной диагонали стоят 1, то её возвращать не нужно), ```L[1]``` – вторую под-диагональ и т.д.), аналогично для $U$ (```U[:,0]``` содержит главную диагональ, ```U[:,1]``` содержит первую над-диагональ и т.д.). Прототип функции приведён ниже и не должен меняться."
   ]
  },
  {
   "cell_type": "code",
   "execution_count": 14,
   "metadata": {},
   "outputs": [],
   "source": [
    "import numpy as np\n",
    "import scipy"
   ]
  },
  {
   "cell_type": "code",
   "execution_count": 15,
   "metadata": {},
   "outputs": [],
   "source": [
    "# INPUT : diag_broadcast - list of diagonals value to broadcast, length equal to 3 or 5; n - integer, band matrix shape.\n",
    "# OUTPUT : L - 2D np.ndarray, L.shape[0] depends on bandwidth, L.shape[1] = n-1, do not store main diagonal, where all ones;                  add zeros to the right side of rows to handle with changing length of diagonals.\n",
    "#          U - 2D np.ndarray, U.shape[0] = n, U.shape[1] depends on bandwidth;\n",
    "#              add zeros to the bottom of columns to handle with changing length of diagonals.\n",
    "def band_lu(diag_broadcast, n):\n",
    "    num_diag = len(diag_broadcast)\n",
    "\n",
    "    if num_diag == 3:\n",
    "        d1, d2, d3 = diag_broadcast\n",
    "\n",
    "        U = np.zeros((n, 2))\n",
    "        U[: n - 1, 1] = np.ones(n - 1) * d3\n",
    "        U[0, 0] = d2\n",
    "        # print(U)\n",
    "\n",
    "        L = np.zeros((1, n - 1))\n",
    "\n",
    "        # print(U,L)\n",
    "\n",
    "        for i in range(n - 1):\n",
    "            L[0, i] = d1 / U[i, 0]\n",
    "            # print(L[0, i])\n",
    "            U[i + 1, 0] = d2 - (L[0, i] * U[i, 1])\n",
    "            # print(U)\n",
    "\n",
    "    else:\n",
    "        d1, d2, d3, d4, d5 = diag_broadcast\n",
    "\n",
    "        U = np.zeros((n, 3))\n",
    "        U[0, 0] = d3\n",
    "        U[0, 1] = d4\n",
    "        U[: n - 2, 2] = np.repeat(d5, n - 2)\n",
    "\n",
    "        L = np.zeros((2, n - 1))\n",
    "\n",
    "        L[0, 0] = d2 / U[0, 0]\n",
    "        U[1, 0] = d3 - U[0, 1] * L[0, 0]\n",
    "        U[1, 1] = d4 - d5 * L[0, 0]\n",
    "\n",
    "        for i in range(2, n):\n",
    "            l_elem = d2 / U[i - 1, 0]\n",
    "            l_elem -= (d1 * U[i - 2, 1]) / (U[i - 2, 0] * U[i - 1, 0])\n",
    "            # print(l_elem)\n",
    "            L[0, i - 1] = l_elem\n",
    "\n",
    "            u_elem = d3 - (d5 * d1 / U[i - 2, 0])\n",
    "            u_elem -= U[i - 1, 1] * l_elem\n",
    "            # print(u_elem)\n",
    "            U[i, 0] = u_elem\n",
    "\n",
    "            u_elem1 = d4 - d5 * l_elem\n",
    "            # print(u_elem1)\n",
    "            U[i, 1] = u_elem1\n",
    "\n",
    "            if i == n - 1:\n",
    "                l_elem = d2 / U[n - 2, 0]\n",
    "                l_elem -= (U[n - 3, 1] * d1) / (U[n - 3, 0] * U[n - 2, 0])\n",
    "                # print(l_elem)\n",
    "                L[0, n - 2] = l_elem\n",
    "                U[n - 1, 0] = d3 - d1 * d5 / U[n - 3, 0] - U[n - 2, 1] * l_elem\n",
    "                L[1, : n - 2] = d1 / U[: n - 2, 0]\n",
    "\n",
    "    return L, U"
   ]
  },
  {
   "cell_type": "markdown",
   "metadata": {},
   "source": [
    "Проверим на нескольких рандомных матрицах, первую возьмем из примера. Для этого создадим небольшую функцию для конструирования таких матриц из заданной диагонали и ее размерности\n"
   ]
  },
  {
   "cell_type": "code",
   "execution_count": 16,
   "metadata": {},
   "outputs": [],
   "source": [
    "def create_band_matrix(diag_broadcast, n):\n",
    "    num_diag = len(diag_broadcast)\n",
    "\n",
    "    if num_diag == 3:\n",
    "        d1, d2, d3 = diag_broadcast\n",
    "\n",
    "        A = (\n",
    "            np.diag(np.ones(n) * d2)\n",
    "            + np.diag(np.ones(n - 1) * d1, k=-1)\n",
    "            + np.diag(np.ones(n - 1) * d3, k=1)\n",
    "        )\n",
    "\n",
    "    else:\n",
    "        d1, d2, d3, d4, d5 = diag_broadcast\n",
    "\n",
    "        A = (\n",
    "            np.diag(np.ones(n) * d3)\n",
    "            + np.diag(np.ones(n - 1) * d2, k=-1)\n",
    "            + np.diag(np.ones(n - 1) * d4, k=1)\n",
    "        )\n",
    "        A += +np.diag(np.ones(n - 2) * d1, k=-2) + np.diag(np.ones(n - 2) * d5, k=2)\n",
    "\n",
    "    return A"
   ]
  },
  {
   "cell_type": "code",
   "execution_count": 173,
   "metadata": {},
   "outputs": [
    {
     "name": "stdout",
     "output_type": "stream",
     "text": [
      "[[-5.  4.  0.  0.]\n",
      " [ 3. -5.  4.  0.]\n",
      " [ 0.  3. -5.  4.]\n",
      " [ 0.  0.  3. -5.]]\n"
     ]
    }
   ],
   "source": [
    "# работает корректно, можно продолжать\n",
    "diag_broadcast = [3, -5, 4]\n",
    "n = 4\n",
    "A = create_band_matrix(diag_broadcast, n)\n",
    "\n",
    "print(A)"
   ]
  },
  {
   "cell_type": "code",
   "execution_count": 175,
   "metadata": {},
   "outputs": [
    {
     "data": {
      "text/plain": [
       "True"
      ]
     },
     "execution_count": 175,
     "metadata": {},
     "output_type": "execute_result"
    }
   ],
   "source": [
    "# Случай из примера\n",
    "\n",
    "L, U = band_lu(diag_broadcast, n)\n",
    "\n",
    "U = np.diag(U[:, 0], k=0) + np.diag(U[:-1, 1], k=1)\n",
    "L = np.eye(n) + np.diag(L[0], k=-1)\n",
    "\n",
    "np.allclose(A, L @ U)"
   ]
  },
  {
   "cell_type": "code",
   "execution_count": 179,
   "metadata": {},
   "outputs": [],
   "source": [
    "# несколько рандомных случаев\n",
    "\n",
    "n_rand = 50\n",
    "for i in range(n_rand):\n",
    "    diag_broadcast = np.random.randint(-100, 100, 3)\n",
    "    n = np.random.randint(3, 50)\n",
    "\n",
    "    A = create_band_matrix(diag_broadcast, n)\n",
    "\n",
    "    L, U = band_lu(diag_broadcast, n)\n",
    "\n",
    "    U = np.diag(U[:, 0], k=0) + np.diag(U[:-1, 1], k=1)\n",
    "    L = np.eye(n) + np.diag(L[0], k=-1)\n",
    "\n",
    "    correct = np.allclose(A, L @ U)\n",
    "\n",
    "    if not correct:\n",
    "        print(\"Not correct\")\n",
    "        break"
   ]
  },
  {
   "cell_type": "code",
   "execution_count": 181,
   "metadata": {},
   "outputs": [],
   "source": [
    "# тоже самое для 5 диагональных\n",
    "\n",
    "n_rand = 50\n",
    "for i in range(n_rand):\n",
    "    diag_broadcast = np.random.randint(-100, 100, 5)\n",
    "    n = np.random.randint(5, 50)\n",
    "\n",
    "    A = create_band_matrix(diag_broadcast, n)\n",
    "\n",
    "    L, U = band_lu(diag_broadcast, n)\n",
    "\n",
    "    U = np.diag(U[:, 0], k=0) + np.diag(U[:-1, 1], k=1) + np.diag(U[:-2, 2], k=2)\n",
    "    L = np.eye(n) + np.diag(L[0], k=-1) + np.diag(L[1, :-1], k=-2)\n",
    "\n",
    "    correct = np.allclose(A, L @ U)\n",
    "\n",
    "    if not correct:\n",
    "        print(\"Not correct\")\n",
    "        break"
   ]
  },
  {
   "cell_type": "markdown",
   "metadata": {},
   "source": [
    "\n",
    "- (2 pts) Сравните время вычисления LU разложения с помощью стандартной функции в ```scipy```, которая ничего не знает о структуре матрицы, и вашей реализацией LU разложения для ленточной матрицы. Объясните результат. Постройте график зависимости времени факторизации от размерности факторизуемой матрицы. Выберите интервал размерностей факторизуемой матрицы так, чтобы динамика зависимости времени от размерности была различима. При необходимости используйте логарифмический масштаб по оси ```y```."
   ]
  },
  {
   "cell_type": "markdown",
   "metadata": {},
   "source": [
    "Посмотрим зависимость от размера матрицы для 3 диагональной и 5 диагональной"
   ]
  },
  {
   "cell_type": "code",
   "execution_count": 22,
   "metadata": {},
   "outputs": [],
   "source": [
    "from tqdm import tqdm\n",
    "import time\n",
    "import matplotlib.pyplot as plt"
   ]
  },
  {
   "cell_type": "code",
   "execution_count": 197,
   "metadata": {},
   "outputs": [
    {
     "name": "stderr",
     "output_type": "stream",
     "text": [
      " 21%|██        | 21/100 [00:01<00:07, 11.08it/s]<ipython-input-155-fbb8f10d4cdf>:23: RuntimeWarning: divide by zero encountered in double_scalars\n",
      "  L[0,i] = d1 / U[i, 0]\n",
      "100%|██████████| 100/100 [03:39<00:00,  2.19s/it]\n"
     ]
    }
   ],
   "source": [
    "n_ls = np.arange(1e1, 1e4, 100)\n",
    "time_my = []\n",
    "time_scipy = []\n",
    "\n",
    "for n in tqdm(n_ls):\n",
    "    n = int(n)\n",
    "\n",
    "    diag_broadcast = np.random.randint(-100, 100, 3)\n",
    "\n",
    "    A = create_band_matrix(diag_broadcast, n)\n",
    "\n",
    "    start = time.time()\n",
    "    my = band_lu(diag_broadcast, n)\n",
    "    end = time.time()\n",
    "\n",
    "    time_my.append(end - start)\n",
    "\n",
    "    start = time.time()\n",
    "    sc = scipy.linalg.lu(A)\n",
    "    end = time.time()\n",
    "\n",
    "    time_scipy.append(end - start)"
   ]
  },
  {
   "cell_type": "code",
   "execution_count": 207,
   "metadata": {},
   "outputs": [
    {
     "data": {
      "image/png": "[encoded data removed]",
      "text/plain": [
       "<Figure size 1008x1008 with 1 Axes>"
      ]
     },
     "metadata": {
      "needs_background": "light"
     },
     "output_type": "display_data"
    }
   ],
   "source": [
    "plt.figure(figsize=(14, 14))\n",
    "plt.semilogy(n_ls, time_my, label=\"my LU\")\n",
    "plt.semilogy(n_ls, time_scipy, label=\"scipy LU\")\n",
    "plt.xlabel(\"Matrix dimension\")\n",
    "plt.ylabel(\"log of time in seconds\")\n",
    "plt.title(\"Зависимость времени вычисления LU разложения от размерности матрицы\")\n",
    "plt.legend()\n",
    "plt.show()"
   ]
  },
  {
   "cell_type": "code",
   "execution_count": 208,
   "metadata": {},
   "outputs": [
    {
     "name": "stderr",
     "output_type": "stream",
     "text": [
      " 77%|███████▋  | 77/100 [01:40<01:29,  3.87s/it]<ipython-input-155-fbb8f10d4cdf>:39: RuntimeWarning: divide by zero encountered in double_scalars\n",
      "  L[0, 0] = d2 / U[0,0]\n",
      "<ipython-input-155-fbb8f10d4cdf>:45: RuntimeWarning: invalid value encountered in double_scalars\n",
      "  l_elem -= (d1 * U[i-2, 1]) / (U[i-2, 0] * U[i-1, 0])\n",
      "<ipython-input-155-fbb8f10d4cdf>:49: RuntimeWarning: divide by zero encountered in double_scalars\n",
      "  u_elem = d3 - (d5 * d1 / U[i - 2, 0])\n",
      "<ipython-input-155-fbb8f10d4cdf>:64: RuntimeWarning: divide by zero encountered in divide\n",
      "  L[1, :n-2] = d1  / U[:n-2, 0]\n",
      "100%|██████████| 100/100 [03:47<00:00,  2.28s/it]\n"
     ]
    }
   ],
   "source": [
    "# Посчитаем то же самое для 5 диагональной\n",
    "\n",
    "n_ls = np.arange(1e1, 1e4, 100)\n",
    "time_my = []\n",
    "time_scipy = []\n",
    "\n",
    "for n in tqdm(n_ls):\n",
    "    n = int(n)\n",
    "\n",
    "    diag_broadcast = np.random.randint(-100, 100, 5)\n",
    "\n",
    "    A = create_band_matrix(diag_broadcast, n)\n",
    "\n",
    "    start = time.time()\n",
    "    my = band_lu(diag_broadcast, n)\n",
    "    end = time.time()\n",
    "\n",
    "    time_my.append(end - start)\n",
    "\n",
    "    start = time.time()\n",
    "    sc = scipy.linalg.lu(A)\n",
    "    end = time.time()\n",
    "\n",
    "    time_scipy.append(end - start)"
   ]
  },
  {
   "cell_type": "code",
   "execution_count": 209,
   "metadata": {},
   "outputs": [
    {
     "data": {
      "image/png": "[encoded data removed]",
      "text/plain": [
       "<Figure size 1008x1008 with 1 Axes>"
      ]
     },
     "metadata": {
      "needs_background": "light"
     },
     "output_type": "display_data"
    }
   ],
   "source": [
    "plt.figure(figsize=(14, 14))\n",
    "plt.semilogy(n_ls, time_my, label=\"my LU\")\n",
    "plt.semilogy(n_ls, time_scipy, label=\"scipy LU\")\n",
    "plt.xlabel(\"Matrix dimension\")\n",
    "plt.ylabel(\"log of time in seconds\")\n",
    "plt.title(\"Зависимость времени вычисления LU разложения от размерности матрицы\")\n",
    "plt.legend()\n",
    "plt.show()"
   ]
  },
  {
   "cell_type": "markdown",
   "metadata": {},
   "source": [
    "Видно, что в обоих случаях наш алгоритм работает быстрее и чем больше размерность матрицы, тем больше оказываются различия. Связано это непосредственно с тем, что мы знаем структуру матрицы и пользуемся этим. В случае Scipy алгоритм треюует $O(n^3)$, в нашем же случае только $O(n)$, что видно по асимптотике роста на графике. "
   ]
  },
  {
   "cell_type": "markdown",
   "metadata": {},
   "source": [
    "### 2. Устойчивость LU разложения (13 pts)\n",
    "\n",
    "Рассмотрим матрицу вида\n",
    "$A = \\begin{pmatrix}\n",
    "\\varepsilon & 1 & 0\\\\\n",
    "1 & 1 & 1 \\\\\n",
    "0 & 1 & 1\n",
    "\\end{pmatrix}.$ \n",
    "* (7 pts) Реализуйте алгоритм вычисления LU разложения без выбора ведущего элемента и с выбором (выберете один из способов, рассмотренных на лекции). Обратите внимание на эффективность вашей реализации, в частности перестановки необходио хранить как векторы, а не матрицы.\n",
    "\n",
    "\n"
   ]
  },
  {
   "cell_type": "code",
   "execution_count": 17,
   "metadata": {},
   "outputs": [],
   "source": [
    "def LU(A, use_pivot=True):\n",
    "    U = np.array(A)\n",
    "    n = A.shape[0]\n",
    "    L = np.diag(np.ones(n))\n",
    "    P = np.eye(n)\n",
    "\n",
    "    if use_pivot:\n",
    "        for i in range(n - 1):\n",
    "            p = i\n",
    "            p += np.argmax(np.abs(U[p:, p]))\n",
    "            if p != i:\n",
    "                L[[i, p], :] = L[[p, i], :]\n",
    "                L[:, [i, p]] = L[:, [p, i]]\n",
    "\n",
    "                U[[i, p], i:] = U[[p, i], i:]\n",
    "\n",
    "                P[:, [i, p]] = P[:, [p, i]]\n",
    "                # print(P)\n",
    "\n",
    "            for j in range(i + 1, n):\n",
    "                # print(L, i, j)\n",
    "                L[j, i] = U[j, i] / U[i, i]\n",
    "                U[j, i] = 0\n",
    "                # print(L)\n",
    "\n",
    "                # print(U[j, i+1:])\n",
    "                U[j, i + 1 :] -= L[j, i] * U[i, i + 1 :]\n",
    "                # print(U[j, i+1:])\n",
    "        return P, L, U\n",
    "    else:\n",
    "        for i in range(n - 1):\n",
    "            for j in range(i + 1, n):\n",
    "                # print(L, i, j)\n",
    "                L[j, i] = U[j, i] / U[i, i]\n",
    "                U[j, i] = 0\n",
    "                # print(L)\n",
    "\n",
    "                # print(U[j, i+1:])\n",
    "                U[j, i + 1 :] -= L[j, i] * U[i, i + 1 :]\n",
    "                # print(U[j, i+1:])\n",
    "\n",
    "        return L, U"
   ]
  },
  {
   "cell_type": "code",
   "execution_count": 27,
   "metadata": {},
   "outputs": [],
   "source": [
    "diag_broadcast = [3, -5, 4]\n",
    "n = 4\n",
    "A = create_band_matrix(diag_broadcast, n)"
   ]
  },
  {
   "cell_type": "code",
   "execution_count": 28,
   "metadata": {},
   "outputs": [],
   "source": [
    "P, L, U = LU(A, True)\n",
    "assert np.linalg.norm(P @ L @ U - A) < 1e-9"
   ]
  },
  {
   "cell_type": "code",
   "execution_count": 29,
   "metadata": {},
   "outputs": [],
   "source": [
    "L, U = LU(A, False)\n",
    "assert np.linalg.norm(L @ U - A) < 1e-9"
   ]
  },
  {
   "cell_type": "markdown",
   "metadata": {},
   "source": [
    "* (3 pts) Покажите, что ваши реализации работают корректно и согласуются с теорией, то есть вычислите выражение $\\| A - PLUQ\\|_F$ для тестовых примеров (один их них приведён выше)"
   ]
  },
  {
   "cell_type": "markdown",
   "metadata": {},
   "source": [
    "Рассмотрим пример выше и ряд рандомных матриц. В примере выше возьмем епсилон как 1e-4"
   ]
  },
  {
   "cell_type": "code",
   "execution_count": 40,
   "metadata": {},
   "outputs": [
    {
     "name": "stdout",
     "output_type": "stream",
     "text": [
      "0.0\n"
     ]
    }
   ],
   "source": [
    "eps = 1e-4\n",
    "A = np.array([[eps, 1.0, 0.0], [1.0, 1.0, 1.0], [0, 1.0, 1.0]])\n",
    "P, L, U = LU(A, use_pivot=True)\n",
    "print(np.linalg.norm((P @ L @ U - A), \"fro\"))"
   ]
  },
  {
   "cell_type": "code",
   "execution_count": 39,
   "metadata": {},
   "outputs": [
    {
     "name": "stdout",
     "output_type": "stream",
     "text": [
      "1.1102230246251565e-16\n"
     ]
    }
   ],
   "source": [
    "L, U = LU(A, use_pivot=False)\n",
    "print(np.linalg.norm((L @ U - A), \"fro\"))"
   ]
  },
  {
   "cell_type": "markdown",
   "metadata": {},
   "source": [
    "Покажем еще для примера из прошлого номера а потом для рандомных матриц"
   ]
  },
  {
   "cell_type": "code",
   "execution_count": 41,
   "metadata": {},
   "outputs": [
    {
     "name": "stdout",
     "output_type": "stream",
     "text": [
      "0.0\n"
     ]
    }
   ],
   "source": [
    "diag_broadcast = [3, -5, 4]\n",
    "n = 4\n",
    "A = create_band_matrix(diag_broadcast, n)\n",
    "\n",
    "P, L, U = LU(A, use_pivot=True)\n",
    "print(np.linalg.norm((P @ L @ U - A), \"fro\"))"
   ]
  },
  {
   "cell_type": "code",
   "execution_count": 48,
   "metadata": {},
   "outputs": [
    {
     "name": "stdout",
     "output_type": "stream",
     "text": [
      "2.7780607402390855e-14\n",
      "2.899592629593969e-14\n",
      "2.6998357501845418e-14\n",
      "2.667212872846414e-14\n",
      "2.7901267291431142e-14\n",
      "2.744821095273372e-14\n",
      "2.7974167177829447e-14\n",
      "2.708786896515414e-14\n",
      "2.644469589823164e-14\n",
      "2.7209731865095495e-14\n"
     ]
    }
   ],
   "source": [
    "for i in range(10):\n",
    "    A = np.random.random((100, 100))\n",
    "    P, L, U = LU(A, use_pivot=True)\n",
    "    print(np.linalg.norm((P @ L @ U - A), \"fro\"))"
   ]
  },
  {
   "cell_type": "markdown",
   "metadata": {},
   "source": [
    "* (3 pts) Объясните, почему алгоритм вычисления LU разложения без выбора ведущего элемента плохо аппроксимирует факторы $L$ и $U$ для $|\\varepsilon|\\ll 1$ в приведённой выше матрице в машинной арифметике? Покажите это явным вычислением."
   ]
  },
  {
   "cell_type": "code",
   "execution_count": 20,
   "metadata": {},
   "outputs": [],
   "source": [
    "res = []\n",
    "for i in range(1, 20):\n",
    "    eps = 10 ** (-i)\n",
    "    A = np.array([[eps, 1.0, 0.0], [1.0, 1.0, 1.0], [0, 1.0, 1.0]])\n",
    "    L, U = LU(A, use_pivot=False)\n",
    "    res.append(np.linalg.norm((L @ U - A), \"fro\"))"
   ]
  },
  {
   "cell_type": "code",
   "execution_count": 26,
   "metadata": {},
   "outputs": [
    {
     "data": {
      "image/png": "[encoded data removed]",
      "text/plain": [
       "<Figure size 640x480 with 1 Axes>"
      ]
     },
     "metadata": {},
     "output_type": "display_data"
    }
   ],
   "source": [
    "plt.plot(res)\n",
    "plt.xticks(np.arange(1, 20))\n",
    "plt.ylabel(\"Frobenius norm LU-A\")\n",
    "plt.xlabel(\"Power of eps\")\n",
    "plt.show()"
   ]
  },
  {
   "cell_type": "markdown",
   "metadata": {},
   "source": [
    "Объяснить это можно тем, что в ходе гауссовского исключения мы постоянно вычитаем строки умноженные на что-то. В случае без выбора пивота мы в ходе алгоритма будем вычитать огромное число, которое просто не влезет в наш формат. Если постепенно мы будем уменьшать эпсилон, то увидим, что он разлетится на -16 степени, видимо это предел данного формата"
   ]
  },
  {
   "cell_type": "markdown",
   "metadata": {},
   "source": [
    "### 3. Блочное LU разложение (6 pts)\n",
    "\n",
    "Пусть $A = \\begin{bmatrix} A_{11} & A_{12} \\\\ A_{21} & A_{22} \\end{bmatrix}$ – блочная матрица. Необходимо решить систему линейных уравнений вида\n",
    "\n",
    "$$\n",
    "     \\begin{bmatrix} A_{11} & A_{12} \\\\ A_{21} & A_{22} \\end{bmatrix} \\begin{bmatrix} u_1 \\\\ u_2 \\end{bmatrix} = \\begin{bmatrix} f_1 \\\\ f_2 \\end{bmatrix}.\n",
    "$$\n",
    "\n",
    "* (2 pts) Используя процедуру блочного исключения, найдите матрицу $S$ и правую часть $\\hat{f_2}$ такую что $u_2$ может быть найден из системы $S u_2 = \\hat{f_2}$. Матрица $S$ называется <font color='red'> дополнением по Шуру </font> блока  $A_{11}$.\n",
    "\n",
    "\n",
    "Методом блочного исключения найдем $u_1 = A_{11}^{-1}(f_1 - A_{12}u_2)$\n",
    "\n",
    "Теперь подставим наш $u_1$ в выражение для второй строки, получим\n",
    "\n",
    "$A_{21}A_{11}^{-1}(f_1 - A_{12}u_2) + A_{22}u_2 = f_2$\n",
    "\n",
    "$A_{21}A_{11}^{-1}f_1 - A_{21}A_{11}^{-1}A_{12}u_2 + A_{22}u_2 = f_2$\n",
    "\n",
    "$(A_{22} - A_{21}A_{11}^{-1}A_{12})u_2 = f_2 - A_{21}A_{11}^{-1}f_1 $\n",
    "\n",
    "Таким образом дополнение по Шуру блока $A_{11}$ $S = A_{22} - A_{21}A_{11}^{-1}A_{12}$,         а $\\hat{f_2} = f_2 - A_{21}A_{11}^{-1}f_1 $\n"
   ]
  },
  {
   "cell_type": "markdown",
   "metadata": {},
   "source": [
    "\n",
    "* (4 pts) Пусть $A_{12} = A_{21}^\\top$. Покажите, что если $A_{22} \\succ 0$, то $A \\succ 0 \\Leftrightarrow A_{11} - A_{12} A_{22}^{-1} A_{21} \\succ 0$ \n",
    "\n"
   ]
  },
  {
   "cell_type": "code",
   "execution_count": null,
   "metadata": {},
   "outputs": [],
   "source": [
    "# Your solution is here"
   ]
  }
 ],
 "metadata": {
  "kernelspec": {
   "display_name": "Python 3",
   "language": "python",
   "name": "python3"
  },
  "language_info": {
   "codemirror_mode": {
    "name": "ipython",
    "version": 3
   },
   "file_extension": ".py",
   "mimetype": "text/x-python",
   "name": "python",
   "nbconvert_exporter": "python",
   "pygments_lexer": "ipython3",
   "version": "3.7.6"
  },
  "vscode": {
   "interpreter": {
    "hash": "31f2aee4e71d21fbe5cf8b01ff0e069b9275f58929596ceb00d14d90e3e16cd6"
   }
  }
 },
 "nbformat": 4,
 "nbformat_minor": 2
}
